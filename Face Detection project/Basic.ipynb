{
 "cells": [
  {
   "cell_type": "code",
   "execution_count": 45,
   "id": "2a087f0f",
   "metadata": {
    "ExecuteTime": {
     "end_time": "2022-10-15T10:37:23.430046Z",
     "start_time": "2022-10-15T10:37:23.412587Z"
    }
   },
   "outputs": [],
   "source": [
    "import cv2\n",
    "import face_recognition"
   ]
  },
  {
   "cell_type": "code",
   "execution_count": 46,
   "id": "1c73b479",
   "metadata": {
    "ExecuteTime": {
     "end_time": "2022-10-15T10:37:25.522261Z",
     "start_time": "2022-10-15T10:37:25.503652Z"
    }
   },
   "outputs": [],
   "source": [
    "imgMessi =face_recognition.load_image_file('TEST/Messi.webp')\n",
    "imgMessi= cv2.cvtColor(imgMessi,cv2.COLOR_BGR2RGB)\n",
    "#cv2.imshow('Messi',imgMessi)\n",
    "#cv2.waitKey(0)"
   ]
  },
  {
   "cell_type": "code",
   "execution_count": 47,
   "id": "2bc4eeaa",
   "metadata": {
    "ExecuteTime": {
     "end_time": "2022-10-15T10:37:27.976970Z",
     "start_time": "2022-10-15T10:37:27.954485Z"
    }
   },
   "outputs": [],
   "source": [
    "imgTest = face_recognition.load_image_file('TEST/Rupert Grint.jpg')\n",
    "imgTest = cv2.cvtColor(imgTest,cv2.COLOR_BGR2RGB)\n",
    "#cv2.imshow('Messi Test',imgTest)\n",
    "#cv2.waitKey(0)"
   ]
  },
  {
   "cell_type": "code",
   "execution_count": 48,
   "id": "e9a639dc",
   "metadata": {
    "ExecuteTime": {
     "end_time": "2022-10-15T10:37:31.973761Z",
     "start_time": "2022-10-15T10:37:31.009885Z"
    }
   },
   "outputs": [
    {
     "data": {
      "text/plain": [
       "array([[[177,  58,  34],\n",
       "        [177,  58,  34],\n",
       "        [177,  58,  34],\n",
       "        ...,\n",
       "        [162,  54,  31],\n",
       "        [162,  54,  31],\n",
       "        [162,  54,  31]],\n",
       "\n",
       "       [[177,  58,  34],\n",
       "        [177,  58,  34],\n",
       "        [177,  58,  34],\n",
       "        ...,\n",
       "        [162,  54,  31],\n",
       "        [162,  54,  31],\n",
       "        [162,  54,  31]],\n",
       "\n",
       "       [[177,  58,  34],\n",
       "        [177,  58,  34],\n",
       "        [177,  58,  34],\n",
       "        ...,\n",
       "        [162,  54,  31],\n",
       "        [162,  54,  31],\n",
       "        [162,  54,  31]],\n",
       "\n",
       "       ...,\n",
       "\n",
       "       [[218, 110,  66],\n",
       "        [218, 110,  66],\n",
       "        [220, 111,  68],\n",
       "        ...,\n",
       "        [205,  95,  43],\n",
       "        [205,  95,  43],\n",
       "        [205,  95,  43]],\n",
       "\n",
       "       [[220, 111,  68],\n",
       "        [220, 111,  68],\n",
       "        [220, 111,  68],\n",
       "        ...,\n",
       "        [205,  95,  43],\n",
       "        [205,  95,  43],\n",
       "        [205,  95,  43]],\n",
       "\n",
       "       [[220, 111,  68],\n",
       "        [220, 111,  68],\n",
       "        [220, 111,  68],\n",
       "        ...,\n",
       "        [205,  95,  43],\n",
       "        [205,  95,  43],\n",
       "        [205,  95,  43]]], dtype=uint8)"
      ]
     },
     "execution_count": 48,
     "metadata": {},
     "output_type": "execute_result"
    }
   ],
   "source": [
    "faceLoc = face_recognition.face_locations(imgMessi)[0]\n",
    "encodeMessi = face_recognition.face_encodings(imgMessi)[0]\n",
    "cv2.rectangle(imgMessi,(faceLoc[3],faceLoc[0]),(faceLoc[1],faceLoc[2]),(255,0,255),2)"
   ]
  },
  {
   "cell_type": "code",
   "execution_count": 49,
   "id": "7d83d7f2",
   "metadata": {
    "ExecuteTime": {
     "end_time": "2022-10-15T10:37:33.773528Z",
     "start_time": "2022-10-15T10:37:33.159649Z"
    }
   },
   "outputs": [
    {
     "data": {
      "text/plain": [
       "array([[[147, 146, 150],\n",
       "        [147, 146, 150],\n",
       "        [147, 146, 150],\n",
       "        ...,\n",
       "        [147, 145, 151],\n",
       "        [147, 145, 151],\n",
       "        [147, 145, 151]],\n",
       "\n",
       "       [[148, 147, 151],\n",
       "        [148, 147, 151],\n",
       "        [148, 147, 151],\n",
       "        ...,\n",
       "        [147, 145, 151],\n",
       "        [147, 145, 151],\n",
       "        [147, 145, 151]],\n",
       "\n",
       "       [[148, 147, 151],\n",
       "        [148, 147, 151],\n",
       "        [148, 147, 151],\n",
       "        ...,\n",
       "        [147, 145, 151],\n",
       "        [147, 145, 151],\n",
       "        [147, 145, 151]],\n",
       "\n",
       "       ...,\n",
       "\n",
       "       [[ 13,   9,   8],\n",
       "        [ 13,   9,   8],\n",
       "        [ 12,   8,   7],\n",
       "        ...,\n",
       "        [ 28,  19,  15],\n",
       "        [ 26,  17,  13],\n",
       "        [ 23,  14,  10]],\n",
       "\n",
       "       [[ 13,   9,   8],\n",
       "        [ 13,   9,   8],\n",
       "        [ 12,   8,   7],\n",
       "        ...,\n",
       "        [ 31,  22,  18],\n",
       "        [ 29,  20,  16],\n",
       "        [ 25,  16,  12]],\n",
       "\n",
       "       [[ 13,   9,   8],\n",
       "        [ 13,   9,   8],\n",
       "        [ 12,   8,   7],\n",
       "        ...,\n",
       "        [ 29,  20,  16],\n",
       "        [ 28,  19,  15],\n",
       "        [ 22,  13,   9]]], dtype=uint8)"
      ]
     },
     "execution_count": 49,
     "metadata": {},
     "output_type": "execute_result"
    }
   ],
   "source": [
    "faceLocTest = face_recognition.face_locations(imgTest)[0]\n",
    "encodeTest = face_recognition.face_encodings(imgTest)[0]\n",
    "cv2.rectangle(imgTest,(faceLocTest[3],faceLocTest[0]),(faceLocTest[1],faceLocTest[2]),(255,0,255),2)"
   ]
  },
  {
   "cell_type": "code",
   "execution_count": 50,
   "id": "9300fff5",
   "metadata": {
    "ExecuteTime": {
     "end_time": "2022-10-15T10:37:35.543496Z",
     "start_time": "2022-10-15T10:37:35.524459Z"
    }
   },
   "outputs": [
    {
     "name": "stdout",
     "output_type": "stream",
     "text": [
      "[False] [0.83287485]\n"
     ]
    },
    {
     "data": {
      "text/plain": [
       "array([[[147, 146, 150],\n",
       "        [147, 146, 150],\n",
       "        [147, 146, 150],\n",
       "        ...,\n",
       "        [147, 145, 151],\n",
       "        [147, 145, 151],\n",
       "        [147, 145, 151]],\n",
       "\n",
       "       [[148, 147, 151],\n",
       "        [148, 147, 151],\n",
       "        [148, 147, 151],\n",
       "        ...,\n",
       "        [147, 145, 151],\n",
       "        [147, 145, 151],\n",
       "        [147, 145, 151]],\n",
       "\n",
       "       [[148, 147, 151],\n",
       "        [148, 147, 151],\n",
       "        [148, 147, 151],\n",
       "        ...,\n",
       "        [147, 145, 151],\n",
       "        [147, 145, 151],\n",
       "        [147, 145, 151]],\n",
       "\n",
       "       ...,\n",
       "\n",
       "       [[ 13,   9,   8],\n",
       "        [ 13,   9,   8],\n",
       "        [ 12,   8,   7],\n",
       "        ...,\n",
       "        [ 28,  19,  15],\n",
       "        [ 26,  17,  13],\n",
       "        [ 23,  14,  10]],\n",
       "\n",
       "       [[ 13,   9,   8],\n",
       "        [ 13,   9,   8],\n",
       "        [ 12,   8,   7],\n",
       "        ...,\n",
       "        [ 31,  22,  18],\n",
       "        [ 29,  20,  16],\n",
       "        [ 25,  16,  12]],\n",
       "\n",
       "       [[ 13,   9,   8],\n",
       "        [ 13,   9,   8],\n",
       "        [ 12,   8,   7],\n",
       "        ...,\n",
       "        [ 29,  20,  16],\n",
       "        [ 28,  19,  15],\n",
       "        [ 22,  13,   9]]], dtype=uint8)"
      ]
     },
     "execution_count": 50,
     "metadata": {},
     "output_type": "execute_result"
    }
   ],
   "source": [
    "results = face_recognition.compare_faces([encodeMessi],encodeTest)\n",
    "faceDis = face_recognition.face_distance([encodeMessi],encodeTest)\n",
    "print(results,faceDis)\n",
    "cv2.putText(imgTest,f'{results} {round(faceDis[0],2)}',(50,50),cv2.FONT_HERSHEY_COMPLEX,1,(0,0,255),2)"
   ]
  },
  {
   "cell_type": "code",
   "execution_count": 51,
   "id": "58cfde1a",
   "metadata": {
    "ExecuteTime": {
     "end_time": "2022-10-15T10:38:11.079896Z",
     "start_time": "2022-10-15T10:37:37.602995Z"
    }
   },
   "outputs": [
    {
     "data": {
      "text/plain": [
       "-1"
      ]
     },
     "execution_count": 51,
     "metadata": {},
     "output_type": "execute_result"
    }
   ],
   "source": [
    "cv2.imshow('Messi',imgMessi)\n",
    "cv2.imshow('Messi Test',imgTest)\n",
    "cv2.waitKey(0)"
   ]
  },
  {
   "cell_type": "code",
   "execution_count": null,
   "id": "68eaadb8",
   "metadata": {},
   "outputs": [],
   "source": []
  }
 ],
 "metadata": {
  "hide_input": false,
  "kernelspec": {
   "display_name": "Python 3 (ipykernel)",
   "language": "python",
   "name": "python3"
  },
  "language_info": {
   "codemirror_mode": {
    "name": "ipython",
    "version": 3
   },
   "file_extension": ".py",
   "mimetype": "text/x-python",
   "name": "python",
   "nbconvert_exporter": "python",
   "pygments_lexer": "ipython3",
   "version": "3.9.7"
  },
  "latex_envs": {
   "LaTeX_envs_menu_present": true,
   "autoclose": false,
   "autocomplete": true,
   "bibliofile": "biblio.bib",
   "cite_by": "apalike",
   "current_citInitial": 1,
   "eqLabelWithNumbers": true,
   "eqNumInitial": 1,
   "hotkeys": {
    "equation": "Ctrl-E",
    "itemize": "Ctrl-I"
   },
   "labels_anchors": false,
   "latex_user_defs": false,
   "report_style_numbering": false,
   "user_envs_cfg": false
  },
  "nbTranslate": {
   "displayLangs": [
    "*"
   ],
   "hotkey": "alt-t",
   "langInMainMenu": true,
   "sourceLang": "en",
   "targetLang": "fr",
   "useGoogleTranslate": true
  },
  "toc": {
   "base_numbering": 1,
   "nav_menu": {},
   "number_sections": true,
   "sideBar": true,
   "skip_h1_title": false,
   "title_cell": "Table of Contents",
   "title_sidebar": "Contents",
   "toc_cell": false,
   "toc_position": {},
   "toc_section_display": true,
   "toc_window_display": false
  },
  "varInspector": {
   "cols": {
    "lenName": 16,
    "lenType": 16,
    "lenVar": 40
   },
   "kernels_config": {
    "python": {
     "delete_cmd_postfix": "",
     "delete_cmd_prefix": "del ",
     "library": "var_list.py",
     "varRefreshCmd": "print(var_dic_list())"
    },
    "r": {
     "delete_cmd_postfix": ") ",
     "delete_cmd_prefix": "rm(",
     "library": "var_list.r",
     "varRefreshCmd": "cat(var_dic_list()) "
    }
   },
   "types_to_exclude": [
    "module",
    "function",
    "builtin_function_or_method",
    "instance",
    "_Feature"
   ],
   "window_display": false
  }
 },
 "nbformat": 4,
 "nbformat_minor": 5
}
