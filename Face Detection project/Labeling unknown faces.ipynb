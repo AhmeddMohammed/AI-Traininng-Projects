{
 "cells": [
  {
   "cell_type": "code",
   "execution_count": 1,
   "id": "76360d9b",
   "metadata": {
    "ExecuteTime": {
     "end_time": "2022-10-15T09:51:27.883779Z",
     "start_time": "2022-10-15T09:51:26.310947Z"
    }
   },
   "outputs": [],
   "source": [
    "import cv2\n",
    "import numpy as np\n",
    "import face_recognition\n",
    "import os\n",
    "from datetime import datetime\n",
    "from PIL import ImageGrab"
   ]
  },
  {
   "cell_type": "code",
   "execution_count": 2,
   "id": "7391ba11",
   "metadata": {
    "ExecuteTime": {
     "end_time": "2022-10-15T09:51:28.858115Z",
     "start_time": "2022-10-15T09:51:28.846097Z"
    }
   },
   "outputs": [
    {
     "name": "stdout",
     "output_type": "stream",
     "text": [
      "['Daniel Radcliffe(Harry Potter).jpg', 'Elon Musk.jpg', 'Emma Waston(hermione).jpg', 'Jeff Bezoz.jpg', 'Messi.webp', 'Rupert Grint(Ron).jpg', 'Ryan Reynolds.jpg', 'Yanni.jpg']\n"
     ]
    }
   ],
   "source": [
    "path = 'D:\\AI-Course\\Py.Prac\\AI-Traininng Projects\\Face Detection project/TEST/'\n",
    "images = []\n",
    "classNames = []\n",
    "myList = os.listdir(path)\n",
    "print(myList)"
   ]
  },
  {
   "cell_type": "code",
   "execution_count": 3,
   "id": "25ec35e0",
   "metadata": {
    "ExecuteTime": {
     "end_time": "2022-10-15T09:51:32.418649Z",
     "start_time": "2022-10-15T09:51:32.198256Z"
    }
   },
   "outputs": [
    {
     "name": "stdout",
     "output_type": "stream",
     "text": [
      "['Daniel Radcliffe(Harry Potter)', 'Elon Musk', 'Emma Waston(hermione)', 'Jeff Bezoz', 'Messi', 'Rupert Grint(Ron)', 'Ryan Reynolds', 'Yanni']\n"
     ]
    }
   ],
   "source": [
    "for cl in myList:\n",
    "    curImg = cv2.imread(f'{path}/{cl}')\n",
    "    images.append(curImg)\n",
    "    classNames.append(os.path.splitext(cl)[0])\n",
    "print(classNames)"
   ]
  },
  {
   "cell_type": "code",
   "execution_count": 4,
   "id": "175a3c82",
   "metadata": {
    "ExecuteTime": {
     "end_time": "2022-10-15T09:51:34.741786Z",
     "start_time": "2022-10-15T09:51:34.721840Z"
    }
   },
   "outputs": [],
   "source": [
    "def findEncodings(images):\n",
    "    encodeList = []\n",
    "    for img in images:\n",
    "        img = cv2.cvtColor(img, cv2.COLOR_BGR2RGB)\n",
    "        encode = face_recognition.face_encodings(img)[0]\n",
    "        encodeList.append(encode)\n",
    "    return encodeList"
   ]
  },
  {
   "cell_type": "code",
   "execution_count": 5,
   "id": "0b33e8ee",
   "metadata": {
    "ExecuteTime": {
     "end_time": "2022-10-15T09:51:49.291768Z",
     "start_time": "2022-10-15T09:51:40.321776Z"
    }
   },
   "outputs": [],
   "source": [
    "ELK=findEncodings(images)"
   ]
  },
  {
   "cell_type": "code",
   "execution_count": 6,
   "id": "4cdd0e78",
   "metadata": {
    "ExecuteTime": {
     "end_time": "2022-10-15T09:51:49.382757Z",
     "start_time": "2022-10-15T09:51:49.369758Z"
    }
   },
   "outputs": [
    {
     "name": "stdout",
     "output_type": "stream",
     "text": [
      "8\n"
     ]
    }
   ],
   "source": [
    "print(len(ELK))"
   ]
  },
  {
   "cell_type": "code",
   "execution_count": null,
   "id": "5b513939",
   "metadata": {
    "ExecuteTime": {
     "start_time": "2022-10-15T09:51:48.278Z"
    }
   },
   "outputs": [],
   "source": [
    "cap = cv2.VideoCapture(0)\n",
    " \n",
    "while True:\n",
    "    success, img = cap.read()\n",
    "#img = captureScreen()\n",
    "    imgS = cv2.resize(img,(0,0),None,0.25,0.25)\n",
    "    imgS = cv2.cvtColor(imgS, cv2.COLOR_BGR2RGB)\n",
    " \n",
    "    facesCurFrame = face_recognition.face_locations(imgS)\n",
    "    encodesCurFrame = face_recognition.face_encodings(imgS,facesCurFrame)\n",
    "    \n",
    "    for encodeFace,faceLoc in zip(encodesCurFrame,facesCurFrame):\n",
    "        matches = face_recognition.compare_faces(ELK,encodeFace)\n",
    "        faceDis = face_recognition.face_distance(ELK,encodeFace)\n",
    "        #print(faceDis)\n",
    "        matchIndex = np.argmin(faceDis)\n",
    "        \n",
    "        if faceDis[matchIndex]< 0.50:\n",
    "        #if matches[matchIndex]:\n",
    "            name = classNames[matchIndex].upper()\n",
    "            markAttendance(name)\n",
    "        else: name = 'Unknown'\n",
    "            #print(name)\n",
    "        y1,x2,y2,x1 = faceLoc\n",
    "        y1, x2, y2, x1 = y1*4,x2*4,y2*4,x1*4\n",
    "        cv2.rectangle(img,(x1,y1),(x2,y2),(0,255,0),2)\n",
    "        cv2.rectangle(img,(x1,y2-35),(x2,y2),(0,255,0),cv2.FILLED)\n",
    "        cv2.putText(img,name,(x1+6,y2-6),cv2.FONT_HERSHEY_COMPLEX,1,(255,255,255),2)\n",
    "            \n",
    "        cv2.imshow('Webcam',img)\n",
    "        cv2.waitKey(1)"
   ]
  },
  {
   "cell_type": "code",
   "execution_count": null,
   "id": "feafb4e5",
   "metadata": {},
   "outputs": [],
   "source": []
  },
  {
   "cell_type": "code",
   "execution_count": null,
   "id": "1ece81b0",
   "metadata": {},
   "outputs": [],
   "source": []
  }
 ],
 "metadata": {
  "hide_input": false,
  "kernelspec": {
   "display_name": "Python 3 (ipykernel)",
   "language": "python",
   "name": "python3"
  },
  "language_info": {
   "codemirror_mode": {
    "name": "ipython",
    "version": 3
   },
   "file_extension": ".py",
   "mimetype": "text/x-python",
   "name": "python",
   "nbconvert_exporter": "python",
   "pygments_lexer": "ipython3",
   "version": "3.9.7"
  },
  "latex_envs": {
   "LaTeX_envs_menu_present": true,
   "autoclose": false,
   "autocomplete": true,
   "bibliofile": "biblio.bib",
   "cite_by": "apalike",
   "current_citInitial": 1,
   "eqLabelWithNumbers": true,
   "eqNumInitial": 1,
   "hotkeys": {
    "equation": "Ctrl-E",
    "itemize": "Ctrl-I"
   },
   "labels_anchors": false,
   "latex_user_defs": false,
   "report_style_numbering": false,
   "user_envs_cfg": false
  },
  "nbTranslate": {
   "displayLangs": [
    "*"
   ],
   "hotkey": "alt-t",
   "langInMainMenu": true,
   "sourceLang": "en",
   "targetLang": "fr",
   "useGoogleTranslate": true
  },
  "toc": {
   "base_numbering": 1,
   "nav_menu": {},
   "number_sections": true,
   "sideBar": true,
   "skip_h1_title": false,
   "title_cell": "Table of Contents",
   "title_sidebar": "Contents",
   "toc_cell": false,
   "toc_position": {},
   "toc_section_display": true,
   "toc_window_display": false
  },
  "varInspector": {
   "cols": {
    "lenName": 16,
    "lenType": 16,
    "lenVar": 40
   },
   "kernels_config": {
    "python": {
     "delete_cmd_postfix": "",
     "delete_cmd_prefix": "del ",
     "library": "var_list.py",
     "varRefreshCmd": "print(var_dic_list())"
    },
    "r": {
     "delete_cmd_postfix": ") ",
     "delete_cmd_prefix": "rm(",
     "library": "var_list.r",
     "varRefreshCmd": "cat(var_dic_list()) "
    }
   },
   "types_to_exclude": [
    "module",
    "function",
    "builtin_function_or_method",
    "instance",
    "_Feature"
   ],
   "window_display": false
  }
 },
 "nbformat": 4,
 "nbformat_minor": 5
}
