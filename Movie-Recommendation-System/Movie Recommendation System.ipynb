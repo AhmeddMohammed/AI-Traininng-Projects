{
 "cells": [
  {
   "cell_type": "markdown",
   "metadata": {},
   "source": [
    "# Dataset link"
   ]
  },
  {
   "cell_type": "markdown",
   "metadata": {},
   "source": [
    "https://drive.google.com/file/d/1cCkwiVv4mgfl20ntgY3n4yApcWqqZQe6/view"
   ]
  },
  {
   "cell_type": "markdown",
   "metadata": {
    "id": "R1oRN_iiHN_7"
   },
   "source": [
    "# Importing the dependencies"
   ]
  },
  {
   "cell_type": "code",
   "execution_count": 62,
   "metadata": {
    "ExecuteTime": {
     "end_time": "2022-11-07T12:00:00.602996Z",
     "start_time": "2022-11-07T12:00:00.586043Z"
    },
    "id": "GAGi6hrzFLOb"
   },
   "outputs": [],
   "source": [
    "import numpy as np\n",
    "import pandas as pd\n",
    "import difflib\n",
    "from sklearn.feature_extraction.text import TfidfVectorizer\n",
    "from sklearn.metrics.pairwise import cosine_similarity"
   ]
  },
  {
   "cell_type": "markdown",
   "metadata": {
    "id": "mfIW1BYVIGfP"
   },
   "source": [
    "# Data Collection and Pre-Processing"
   ]
  },
  {
   "cell_type": "code",
   "execution_count": 86,
   "metadata": {
    "ExecuteTime": {
     "end_time": "2022-11-07T12:02:41.904476Z",
     "start_time": "2022-11-07T12:02:41.617344Z"
    },
    "id": "MOXn7CGdIGBU"
   },
   "outputs": [],
   "source": [
    "# loading the data from the csv file to apandas dataframe\n",
    "movies_data = pd.read_csv('movies.csv')"
   ]
  },
  {
   "cell_type": "code",
   "execution_count": 87,
   "metadata": {
    "ExecuteTime": {
     "end_time": "2022-11-07T12:02:43.117726Z",
     "start_time": "2022-11-07T12:02:43.086807Z"
    },
    "colab": {
     "base_uri": "https://localhost:8080/",
     "height": 741
    },
    "id": "cha03lDAIa6l",
    "outputId": "3b8cc985-0a70-4a45-f12e-86ec051466df"
   },
   "outputs": [
    {
     "data": {
      "text/html": [
       "<div>\n",
       "<style scoped>\n",
       "    .dataframe tbody tr th:only-of-type {\n",
       "        vertical-align: middle;\n",
       "    }\n",
       "\n",
       "    .dataframe tbody tr th {\n",
       "        vertical-align: top;\n",
       "    }\n",
       "\n",
       "    .dataframe thead th {\n",
       "        text-align: right;\n",
       "    }\n",
       "</style>\n",
       "<table border=\"1\" class=\"dataframe\">\n",
       "  <thead>\n",
       "    <tr style=\"text-align: right;\">\n",
       "      <th></th>\n",
       "      <th>index</th>\n",
       "      <th>budget</th>\n",
       "      <th>genres</th>\n",
       "      <th>homepage</th>\n",
       "      <th>id</th>\n",
       "      <th>keywords</th>\n",
       "      <th>original_language</th>\n",
       "      <th>original_title</th>\n",
       "      <th>overview</th>\n",
       "      <th>popularity</th>\n",
       "      <th>...</th>\n",
       "      <th>runtime</th>\n",
       "      <th>spoken_languages</th>\n",
       "      <th>status</th>\n",
       "      <th>tagline</th>\n",
       "      <th>title</th>\n",
       "      <th>vote_average</th>\n",
       "      <th>vote_count</th>\n",
       "      <th>cast</th>\n",
       "      <th>crew</th>\n",
       "      <th>director</th>\n",
       "    </tr>\n",
       "  </thead>\n",
       "  <tbody>\n",
       "    <tr>\n",
       "      <th>0</th>\n",
       "      <td>0</td>\n",
       "      <td>237000000</td>\n",
       "      <td>Action Adventure Fantasy Science Fiction</td>\n",
       "      <td>http://www.avatarmovie.com/</td>\n",
       "      <td>19995</td>\n",
       "      <td>culture clash future space war space colony so...</td>\n",
       "      <td>en</td>\n",
       "      <td>Avatar</td>\n",
       "      <td>In the 22nd century, a paraplegic Marine is di...</td>\n",
       "      <td>150.437577</td>\n",
       "      <td>...</td>\n",
       "      <td>162.0</td>\n",
       "      <td>[{\"iso_639_1\": \"en\", \"name\": \"English\"}, {\"iso...</td>\n",
       "      <td>Released</td>\n",
       "      <td>Enter the World of Pandora.</td>\n",
       "      <td>Avatar</td>\n",
       "      <td>7.2</td>\n",
       "      <td>11800</td>\n",
       "      <td>Sam Worthington Zoe Saldana Sigourney Weaver S...</td>\n",
       "      <td>[{'name': 'Stephen E. Rivkin', 'gender': 0, 'd...</td>\n",
       "      <td>James Cameron</td>\n",
       "    </tr>\n",
       "    <tr>\n",
       "      <th>1</th>\n",
       "      <td>1</td>\n",
       "      <td>300000000</td>\n",
       "      <td>Adventure Fantasy Action</td>\n",
       "      <td>http://disney.go.com/disneypictures/pirates/</td>\n",
       "      <td>285</td>\n",
       "      <td>ocean drug abuse exotic island east india trad...</td>\n",
       "      <td>en</td>\n",
       "      <td>Pirates of the Caribbean: At World's End</td>\n",
       "      <td>Captain Barbossa, long believed to be dead, ha...</td>\n",
       "      <td>139.082615</td>\n",
       "      <td>...</td>\n",
       "      <td>169.0</td>\n",
       "      <td>[{\"iso_639_1\": \"en\", \"name\": \"English\"}]</td>\n",
       "      <td>Released</td>\n",
       "      <td>At the end of the world, the adventure begins.</td>\n",
       "      <td>Pirates of the Caribbean: At World's End</td>\n",
       "      <td>6.9</td>\n",
       "      <td>4500</td>\n",
       "      <td>Johnny Depp Orlando Bloom Keira Knightley Stel...</td>\n",
       "      <td>[{'name': 'Dariusz Wolski', 'gender': 2, 'depa...</td>\n",
       "      <td>Gore Verbinski</td>\n",
       "    </tr>\n",
       "    <tr>\n",
       "      <th>2</th>\n",
       "      <td>2</td>\n",
       "      <td>245000000</td>\n",
       "      <td>Action Adventure Crime</td>\n",
       "      <td>http://www.sonypictures.com/movies/spectre/</td>\n",
       "      <td>206647</td>\n",
       "      <td>spy based on novel secret agent sequel mi6</td>\n",
       "      <td>en</td>\n",
       "      <td>Spectre</td>\n",
       "      <td>A cryptic message from Bond’s past sends him o...</td>\n",
       "      <td>107.376788</td>\n",
       "      <td>...</td>\n",
       "      <td>148.0</td>\n",
       "      <td>[{\"iso_639_1\": \"fr\", \"name\": \"Fran\\u00e7ais\"},...</td>\n",
       "      <td>Released</td>\n",
       "      <td>A Plan No One Escapes</td>\n",
       "      <td>Spectre</td>\n",
       "      <td>6.3</td>\n",
       "      <td>4466</td>\n",
       "      <td>Daniel Craig Christoph Waltz L\\u00e9a Seydoux ...</td>\n",
       "      <td>[{'name': 'Thomas Newman', 'gender': 2, 'depar...</td>\n",
       "      <td>Sam Mendes</td>\n",
       "    </tr>\n",
       "    <tr>\n",
       "      <th>3</th>\n",
       "      <td>3</td>\n",
       "      <td>250000000</td>\n",
       "      <td>Action Crime Drama Thriller</td>\n",
       "      <td>http://www.thedarkknightrises.com/</td>\n",
       "      <td>49026</td>\n",
       "      <td>dc comics crime fighter terrorist secret ident...</td>\n",
       "      <td>en</td>\n",
       "      <td>The Dark Knight Rises</td>\n",
       "      <td>Following the death of District Attorney Harve...</td>\n",
       "      <td>112.312950</td>\n",
       "      <td>...</td>\n",
       "      <td>165.0</td>\n",
       "      <td>[{\"iso_639_1\": \"en\", \"name\": \"English\"}]</td>\n",
       "      <td>Released</td>\n",
       "      <td>The Legend Ends</td>\n",
       "      <td>The Dark Knight Rises</td>\n",
       "      <td>7.6</td>\n",
       "      <td>9106</td>\n",
       "      <td>Christian Bale Michael Caine Gary Oldman Anne ...</td>\n",
       "      <td>[{'name': 'Hans Zimmer', 'gender': 2, 'departm...</td>\n",
       "      <td>Christopher Nolan</td>\n",
       "    </tr>\n",
       "    <tr>\n",
       "      <th>4</th>\n",
       "      <td>4</td>\n",
       "      <td>260000000</td>\n",
       "      <td>Action Adventure Science Fiction</td>\n",
       "      <td>http://movies.disney.com/john-carter</td>\n",
       "      <td>49529</td>\n",
       "      <td>based on novel mars medallion space travel pri...</td>\n",
       "      <td>en</td>\n",
       "      <td>John Carter</td>\n",
       "      <td>John Carter is a war-weary, former military ca...</td>\n",
       "      <td>43.926995</td>\n",
       "      <td>...</td>\n",
       "      <td>132.0</td>\n",
       "      <td>[{\"iso_639_1\": \"en\", \"name\": \"English\"}]</td>\n",
       "      <td>Released</td>\n",
       "      <td>Lost in our world, found in another.</td>\n",
       "      <td>John Carter</td>\n",
       "      <td>6.1</td>\n",
       "      <td>2124</td>\n",
       "      <td>Taylor Kitsch Lynn Collins Samantha Morton Wil...</td>\n",
       "      <td>[{'name': 'Andrew Stanton', 'gender': 2, 'depa...</td>\n",
       "      <td>Andrew Stanton</td>\n",
       "    </tr>\n",
       "  </tbody>\n",
       "</table>\n",
       "<p>5 rows × 24 columns</p>\n",
       "</div>"
      ],
      "text/plain": [
       "   index     budget                                    genres  \\\n",
       "0      0  237000000  Action Adventure Fantasy Science Fiction   \n",
       "1      1  300000000                  Adventure Fantasy Action   \n",
       "2      2  245000000                    Action Adventure Crime   \n",
       "3      3  250000000               Action Crime Drama Thriller   \n",
       "4      4  260000000          Action Adventure Science Fiction   \n",
       "\n",
       "                                       homepage      id  \\\n",
       "0                   http://www.avatarmovie.com/   19995   \n",
       "1  http://disney.go.com/disneypictures/pirates/     285   \n",
       "2   http://www.sonypictures.com/movies/spectre/  206647   \n",
       "3            http://www.thedarkknightrises.com/   49026   \n",
       "4          http://movies.disney.com/john-carter   49529   \n",
       "\n",
       "                                            keywords original_language  \\\n",
       "0  culture clash future space war space colony so...                en   \n",
       "1  ocean drug abuse exotic island east india trad...                en   \n",
       "2         spy based on novel secret agent sequel mi6                en   \n",
       "3  dc comics crime fighter terrorist secret ident...                en   \n",
       "4  based on novel mars medallion space travel pri...                en   \n",
       "\n",
       "                             original_title  \\\n",
       "0                                    Avatar   \n",
       "1  Pirates of the Caribbean: At World's End   \n",
       "2                                   Spectre   \n",
       "3                     The Dark Knight Rises   \n",
       "4                               John Carter   \n",
       "\n",
       "                                            overview  popularity  ... runtime  \\\n",
       "0  In the 22nd century, a paraplegic Marine is di...  150.437577  ...   162.0   \n",
       "1  Captain Barbossa, long believed to be dead, ha...  139.082615  ...   169.0   \n",
       "2  A cryptic message from Bond’s past sends him o...  107.376788  ...   148.0   \n",
       "3  Following the death of District Attorney Harve...  112.312950  ...   165.0   \n",
       "4  John Carter is a war-weary, former military ca...   43.926995  ...   132.0   \n",
       "\n",
       "                                    spoken_languages    status  \\\n",
       "0  [{\"iso_639_1\": \"en\", \"name\": \"English\"}, {\"iso...  Released   \n",
       "1           [{\"iso_639_1\": \"en\", \"name\": \"English\"}]  Released   \n",
       "2  [{\"iso_639_1\": \"fr\", \"name\": \"Fran\\u00e7ais\"},...  Released   \n",
       "3           [{\"iso_639_1\": \"en\", \"name\": \"English\"}]  Released   \n",
       "4           [{\"iso_639_1\": \"en\", \"name\": \"English\"}]  Released   \n",
       "\n",
       "                                          tagline  \\\n",
       "0                     Enter the World of Pandora.   \n",
       "1  At the end of the world, the adventure begins.   \n",
       "2                           A Plan No One Escapes   \n",
       "3                                 The Legend Ends   \n",
       "4            Lost in our world, found in another.   \n",
       "\n",
       "                                      title vote_average vote_count  \\\n",
       "0                                    Avatar          7.2      11800   \n",
       "1  Pirates of the Caribbean: At World's End          6.9       4500   \n",
       "2                                   Spectre          6.3       4466   \n",
       "3                     The Dark Knight Rises          7.6       9106   \n",
       "4                               John Carter          6.1       2124   \n",
       "\n",
       "                                                cast  \\\n",
       "0  Sam Worthington Zoe Saldana Sigourney Weaver S...   \n",
       "1  Johnny Depp Orlando Bloom Keira Knightley Stel...   \n",
       "2  Daniel Craig Christoph Waltz L\\u00e9a Seydoux ...   \n",
       "3  Christian Bale Michael Caine Gary Oldman Anne ...   \n",
       "4  Taylor Kitsch Lynn Collins Samantha Morton Wil...   \n",
       "\n",
       "                                                crew           director  \n",
       "0  [{'name': 'Stephen E. Rivkin', 'gender': 0, 'd...      James Cameron  \n",
       "1  [{'name': 'Dariusz Wolski', 'gender': 2, 'depa...     Gore Verbinski  \n",
       "2  [{'name': 'Thomas Newman', 'gender': 2, 'depar...         Sam Mendes  \n",
       "3  [{'name': 'Hans Zimmer', 'gender': 2, 'departm...  Christopher Nolan  \n",
       "4  [{'name': 'Andrew Stanton', 'gender': 2, 'depa...     Andrew Stanton  \n",
       "\n",
       "[5 rows x 24 columns]"
      ]
     },
     "execution_count": 87,
     "metadata": {},
     "output_type": "execute_result"
    }
   ],
   "source": [
    "# printing the first 5 rows of the dataframe\n",
    "movies_data.head()"
   ]
  },
  {
   "cell_type": "code",
   "execution_count": 88,
   "metadata": {
    "ExecuteTime": {
     "end_time": "2022-11-07T12:02:46.732733Z",
     "start_time": "2022-11-07T12:02:46.725221Z"
    },
    "colab": {
     "base_uri": "https://localhost:8080/"
    },
    "id": "Qrtr0oQbIjwF",
    "outputId": "c01323df-5e7f-44ab-a26c-582b1c0f5abb"
   },
   "outputs": [
    {
     "data": {
      "text/plain": [
       "(4803, 24)"
      ]
     },
     "execution_count": 88,
     "metadata": {},
     "output_type": "execute_result"
    }
   ],
   "source": [
    "# number of rows and columns in the data frame\n",
    "movies_data.shape"
   ]
  },
  {
   "cell_type": "code",
   "execution_count": 66,
   "metadata": {
    "ExecuteTime": {
     "end_time": "2022-11-07T12:00:25.716053Z",
     "start_time": "2022-11-07T12:00:25.697889Z"
    },
    "colab": {
     "base_uri": "https://localhost:8080/"
    },
    "id": "hunvyruUJhVq",
    "outputId": "2c7d6753-ee70-4e37-92a8-05fe7c6d4921"
   },
   "outputs": [
    {
     "name": "stdout",
     "output_type": "stream",
     "text": [
      "['genres', 'keywords', 'tagline', 'cast', 'director']\n"
     ]
    }
   ],
   "source": [
    "# selecting the relevant features for recommendation\n",
    "selected_features = ['genres','keywords','tagline','cast','director']\n",
    "print(selected_features)"
   ]
  },
  {
   "cell_type": "code",
   "execution_count": 67,
   "metadata": {
    "ExecuteTime": {
     "end_time": "2022-11-07T12:00:28.498978Z",
     "start_time": "2022-11-07T12:00:28.479507Z"
    },
    "id": "CKIVE6OWKSYk"
   },
   "outputs": [],
   "source": [
    "# replacing the null valuess with null string\n",
    "for feature in selected_features:\n",
    "    movies_data[feature] = movies_data[feature].fillna('')"
   ]
  },
  {
   "cell_type": "code",
   "execution_count": 68,
   "metadata": {
    "ExecuteTime": {
     "end_time": "2022-11-07T12:00:30.735238Z",
     "start_time": "2022-11-07T12:00:30.720278Z"
    },
    "id": "-AMjrRItLCO1"
   },
   "outputs": [],
   "source": [
    "# combining all the 5 selected features\n",
    "combined_features = movies_data['genres']+' '+movies_data['keywords']+' '+movies_data['tagline']+' '+movies_data['cast']+' '+movies_data['director']"
   ]
  },
  {
   "cell_type": "code",
   "execution_count": 69,
   "metadata": {
    "ExecuteTime": {
     "end_time": "2022-11-07T12:00:33.551021Z",
     "start_time": "2022-11-07T12:00:33.535052Z"
    },
    "colab": {
     "base_uri": "https://localhost:8080/"
    },
    "id": "ZYjFXx3aLwTh",
    "outputId": "7639c9e1-8011-4904-d794-274558043c94"
   },
   "outputs": [
    {
     "name": "stdout",
     "output_type": "stream",
     "text": [
      "0       Action Adventure Fantasy Science Fiction cultu...\n",
      "1       Adventure Fantasy Action ocean drug abuse exot...\n",
      "2       Action Adventure Crime spy based on novel secr...\n",
      "3       Action Crime Drama Thriller dc comics crime fi...\n",
      "4       Action Adventure Science Fiction based on nove...\n",
      "                              ...                        \n",
      "4798    Action Crime Thriller united states\\u2013mexic...\n",
      "4799    Comedy Romance  A newlywed couple's honeymoon ...\n",
      "4800    Comedy Drama Romance TV Movie date love at fir...\n",
      "4801      A New Yorker in Shanghai Daniel Henney Eliza...\n",
      "4802    Documentary obsession camcorder crush dream gi...\n",
      "Length: 4803, dtype: object\n"
     ]
    }
   ],
   "source": [
    "print(combined_features)"
   ]
  },
  {
   "cell_type": "code",
   "execution_count": 70,
   "metadata": {
    "ExecuteTime": {
     "end_time": "2022-11-07T12:00:35.535826Z",
     "start_time": "2022-11-07T12:00:35.515857Z"
    },
    "id": "BfuttC_gLyfF"
   },
   "outputs": [],
   "source": [
    "# converting the text data to feature vectors\n",
    "vectorizer = TfidfVectorizer()"
   ]
  },
  {
   "cell_type": "code",
   "execution_count": 71,
   "metadata": {
    "ExecuteTime": {
     "end_time": "2022-11-07T12:00:37.827276Z",
     "start_time": "2022-11-07T12:00:37.687885Z"
    },
    "id": "Leo5rQskMKxL"
   },
   "outputs": [],
   "source": [
    "feature_vectors = vectorizer.fit_transform(combined_features)"
   ]
  },
  {
   "cell_type": "code",
   "execution_count": 72,
   "metadata": {
    "ExecuteTime": {
     "end_time": "2022-11-07T12:00:39.717159Z",
     "start_time": "2022-11-07T12:00:39.698171Z"
    },
    "colab": {
     "base_uri": "https://localhost:8080/"
    },
    "id": "qNbeeMSnMb2F",
    "outputId": "d027db64-6879-4086-ad68-b333dd258d25"
   },
   "outputs": [
    {
     "name": "stdout",
     "output_type": "stream",
     "text": [
      "  (0, 2432)\t0.17272411194153\n",
      "  (0, 7755)\t0.1128035714854756\n",
      "  (0, 13024)\t0.1942362060108871\n",
      "  (0, 10229)\t0.16058685400095302\n",
      "  (0, 8756)\t0.22709015857011816\n",
      "  (0, 14608)\t0.15150672398763912\n",
      "  (0, 16668)\t0.19843263965100372\n",
      "  (0, 14064)\t0.20596090415084142\n",
      "  (0, 13319)\t0.2177470539412484\n",
      "  (0, 17290)\t0.20197912553916567\n",
      "  (0, 17007)\t0.23643326319898797\n",
      "  (0, 13349)\t0.15021264094167086\n",
      "  (0, 11503)\t0.27211310056983656\n",
      "  (0, 11192)\t0.09049319826481456\n",
      "  (0, 16998)\t0.1282126322850579\n",
      "  (0, 15261)\t0.07095833561276566\n",
      "  (0, 4945)\t0.24025852494110758\n",
      "  (0, 14271)\t0.21392179219912877\n",
      "  (0, 3225)\t0.24960162956997736\n",
      "  (0, 16587)\t0.12549432354918996\n",
      "  (0, 14378)\t0.33962752210959823\n",
      "  (0, 5836)\t0.1646750903586285\n",
      "  (0, 3065)\t0.22208377802661425\n",
      "  (0, 3678)\t0.21392179219912877\n",
      "  (0, 5437)\t0.1036413987316636\n",
      "  :\t:\n",
      "  (4801, 17266)\t0.2886098184932947\n",
      "  (4801, 4835)\t0.24713765026963996\n",
      "  (4801, 403)\t0.17727585190343226\n",
      "  (4801, 6935)\t0.2886098184932947\n",
      "  (4801, 11663)\t0.21557500762727902\n",
      "  (4801, 1672)\t0.1564793427630879\n",
      "  (4801, 10929)\t0.13504166990041588\n",
      "  (4801, 7474)\t0.11307961713172225\n",
      "  (4801, 3796)\t0.3342808988877418\n",
      "  (4802, 6996)\t0.5700048226105303\n",
      "  (4802, 5367)\t0.22969114490410403\n",
      "  (4802, 3654)\t0.262512960498006\n",
      "  (4802, 2425)\t0.24002350969074696\n",
      "  (4802, 4608)\t0.24002350969074696\n",
      "  (4802, 6417)\t0.21753405888348784\n",
      "  (4802, 4371)\t0.1538239182675544\n",
      "  (4802, 12989)\t0.1696476532191718\n",
      "  (4802, 1316)\t0.1960747079005741\n",
      "  (4802, 4528)\t0.19504460807622875\n",
      "  (4802, 3436)\t0.21753405888348784\n",
      "  (4802, 6155)\t0.18056463596934083\n",
      "  (4802, 4980)\t0.16078053641367315\n",
      "  (4802, 2129)\t0.3099656128577656\n",
      "  (4802, 4518)\t0.16784466610624255\n",
      "  (4802, 11161)\t0.17867407682173203\n"
     ]
    }
   ],
   "source": [
    "print(feature_vectors)"
   ]
  },
  {
   "cell_type": "markdown",
   "metadata": {
    "id": "qEGga5yPMnXO"
   },
   "source": [
    "# Cosine Similarity"
   ]
  },
  {
   "cell_type": "code",
   "execution_count": 73,
   "metadata": {
    "ExecuteTime": {
     "end_time": "2022-11-07T12:00:44.864629Z",
     "start_time": "2022-11-07T12:00:44.468098Z"
    },
    "id": "MsKYCs31MeB6"
   },
   "outputs": [],
   "source": [
    "# getting the similarity scores using cosine similarity\n",
    "similarity = cosine_similarity(feature_vectors)"
   ]
  },
  {
   "cell_type": "code",
   "execution_count": 74,
   "metadata": {
    "ExecuteTime": {
     "end_time": "2022-11-07T12:00:46.210924Z",
     "start_time": "2022-11-07T12:00:46.199791Z"
    },
    "colab": {
     "base_uri": "https://localhost:8080/"
    },
    "id": "46ha1PfTM-oQ",
    "outputId": "44407f14-2d52-436e-a815-e933ec75b4df"
   },
   "outputs": [
    {
     "name": "stdout",
     "output_type": "stream",
     "text": [
      "[[1.         0.07219487 0.037733   ... 0.         0.         0.        ]\n",
      " [0.07219487 1.         0.03281499 ... 0.03575545 0.         0.        ]\n",
      " [0.037733   0.03281499 1.         ... 0.         0.05389661 0.        ]\n",
      " ...\n",
      " [0.         0.03575545 0.         ... 1.         0.         0.02651502]\n",
      " [0.         0.         0.05389661 ... 0.         1.         0.        ]\n",
      " [0.         0.         0.         ... 0.02651502 0.         1.        ]]\n"
     ]
    }
   ],
   "source": [
    "print(similarity)"
   ]
  },
  {
   "cell_type": "code",
   "execution_count": 75,
   "metadata": {
    "ExecuteTime": {
     "end_time": "2022-11-07T12:00:47.950009Z",
     "start_time": "2022-11-07T12:00:47.945024Z"
    },
    "colab": {
     "base_uri": "https://localhost:8080/"
    },
    "id": "PLkvII-wM_5I",
    "outputId": "de638c77-1595-4d1a-f8d2-db6a3c1aabf0"
   },
   "outputs": [
    {
     "name": "stdout",
     "output_type": "stream",
     "text": [
      "(4803, 4803)\n"
     ]
    }
   ],
   "source": [
    "print(similarity.shape)"
   ]
  },
  {
   "cell_type": "markdown",
   "metadata": {
    "id": "EG3JItMUWeDD"
   },
   "source": [
    "# Getting the movie name from the user"
   ]
  },
  {
   "cell_type": "code",
   "execution_count": 76,
   "metadata": {
    "ExecuteTime": {
     "end_time": "2022-11-07T12:01:01.034852Z",
     "start_time": "2022-11-07T12:00:51.588359Z"
    },
    "colab": {
     "base_uri": "https://localhost:8080/"
    },
    "id": "bhSWJgqgNDo7",
    "outputId": "844a3764-cab2-455a-b418-9d8435c6be2b"
   },
   "outputs": [
    {
     "name": "stdout",
     "output_type": "stream",
     "text": [
      " Enter your favourite movie name : bat man\n"
     ]
    }
   ],
   "source": [
    "# getting the movie name from the user\n",
    "movie_name = input(' Enter your favourite movie name : ')"
   ]
  },
  {
   "cell_type": "code",
   "execution_count": 77,
   "metadata": {
    "ExecuteTime": {
     "end_time": "2022-11-07T12:01:02.622896Z",
     "start_time": "2022-11-07T12:01:02.602915Z"
    },
    "colab": {
     "base_uri": "https://localhost:8080/"
    },
    "id": "VQ8Qvu8vNj4U",
    "outputId": "37234fc1-b609-4aeb-b739-d2da20b344a5"
   },
   "outputs": [
    {
     "name": "stdout",
     "output_type": "stream",
     "text": [
      "['Avatar', \"Pirates of the Caribbean: At World's End\", 'Spectre', 'The Dark Knight Rises', 'John Carter', 'Spider-Man 3', 'Tangled', 'Avengers: Age of Ultron', 'Harry Potter and the Half-Blood Prince', 'Batman v Superman: Dawn of Justice', 'Superman Returns', 'Quantum of Solace', \"Pirates of the Caribbean: Dead Man's Chest\", 'The Lone Ranger', 'Man of Steel', 'The Chronicles of Narnia: Prince Caspian', 'The Avengers', 'Pirates of the Caribbean: On Stranger Tides', 'Men in Black 3', 'The Hobbit: The Battle of the Five Armies', 'The Amazing Spider-Man', 'Robin Hood', 'The Hobbit: The Desolation of Smaug', 'The Golden Compass', 'King Kong', 'Titanic', 'Captain America: Civil War', 'Battleship', 'Jurassic World', 'Skyfall', 'Spider-Man 2', 'Iron Man 3', 'Alice in Wonderland', 'X-Men: The Last Stand', 'Monsters University', 'Transformers: Revenge of the Fallen', 'Transformers: Age of Extinction', 'Oz: The Great and Powerful', 'The Amazing Spider-Man 2', 'TRON: Legacy', 'Cars 2', 'Green Lantern', 'Toy Story 3', 'Terminator Salvation', 'Furious 7', 'World War Z', 'X-Men: Days of Future Past', 'Star Trek Into Darkness', 'Jack the Giant Slayer', 'The Great Gatsby', 'Prince of Persia: The Sands of Time', 'Pacific Rim', 'Transformers: Dark of the Moon', 'Indiana Jones and the Kingdom of the Crystal Skull', 'The Good Dinosaur', 'Brave', 'Star Trek Beyond', 'WALL·E', 'Rush Hour 3', '2012', 'A Christmas Carol', 'Jupiter Ascending', 'The Legend of Tarzan', 'The Chronicles of Narnia: The Lion, the Witch and the Wardrobe', 'X-Men: Apocalypse', 'The Dark Knight', 'Up', 'Monsters vs Aliens', 'Iron Man', 'Hugo', 'Wild Wild West', 'The Mummy: Tomb of the Dragon Emperor', 'Suicide Squad', 'Evan Almighty', 'Edge of Tomorrow', 'Waterworld', 'G.I. Joe: The Rise of Cobra', 'Inside Out', 'The Jungle Book', 'Iron Man 2', 'Snow White and the Huntsman', 'Maleficent', 'Dawn of the Planet of the Apes', 'The Lovers', '47 Ronin', 'Captain America: The Winter Soldier', 'Shrek Forever After', 'Tomorrowland', 'Big Hero 6', 'Wreck-It Ralph', 'The Polar Express', 'Independence Day: Resurgence', 'How to Train Your Dragon', 'Terminator 3: Rise of the Machines', 'Guardians of the Galaxy', 'Interstellar', 'Inception', 'Shin Godzilla', 'The Hobbit: An Unexpected Journey', 'The Fast and the Furious', 'The Curious Case of Benjamin Button', 'X-Men: First Class', 'The Hunger Games: Mockingjay - Part 2', \"The Sorcerer's Apprentice\", 'Poseidon', 'Alice Through the Looking Glass', 'Shrek the Third', 'Warcraft', 'Terminator Genisys', 'The Chronicles of Narnia: The Voyage of the Dawn Treader', 'Pearl Harbor', 'Transformers', 'Alexander', 'Harry Potter and the Order of the Phoenix', 'Harry Potter and the Goblet of Fire', 'Hancock', 'I Am Legend', 'Charlie and the Chocolate Factory', 'Ratatouille', 'Batman Begins', 'Madagascar: Escape 2 Africa', 'Night at the Museum: Battle of the Smithsonian', 'X-Men Origins: Wolverine', 'The Matrix Revolutions', 'Frozen', 'The Matrix Reloaded', 'Thor: The Dark World', 'Mad Max: Fury Road', 'Angels & Demons', 'Thor', 'Bolt', 'G-Force', 'Wrath of the Titans', 'Dark Shadows', 'Mission: Impossible - Rogue Nation', 'The Wolfman', 'Bee Movie', 'Kung Fu Panda 2', 'The Last Airbender', 'Mission: Impossible III', 'White House Down', 'Mars Needs Moms', 'Flushed Away', 'Pan', 'Mr. Peabody & Sherman', 'Troy', \"Madagascar 3: Europe's Most Wanted\", 'Die Another Day', 'Ghostbusters', 'Armageddon', 'Men in Black II', 'Beowulf', 'Kung Fu Panda 3', 'Mission: Impossible - Ghost Protocol', 'Rise of the Guardians', 'Fun with Dick and Jane', 'The Last Samurai', 'Exodus: Gods and Kings', 'Star Trek', 'Spider-Man', 'How to Train Your Dragon 2', 'Gods of Egypt', 'Stealth', 'Watchmen', 'Lethal Weapon 4', 'Hulk', 'G.I. Joe: Retaliation', 'Sahara', 'Final Fantasy: The Spirits Within', 'Captain America: The First Avenger', 'The World Is Not Enough', 'Master and Commander: The Far Side of the World', 'The Twilight Saga: Breaking Dawn - Part 2', 'Happy Feet Two', 'The Incredible Hulk', 'The BFG', 'The Revenant', 'Turbo', 'Rango', 'Penguins of Madagascar', 'The Bourne Ultimatum', 'Kung Fu Panda', 'Ant-Man', 'The Hunger Games: Catching Fire', 'Home', 'War of the Worlds', 'Bad Boys II', 'Puss in Boots', 'Salt', 'Noah', 'The Adventures of Tintin', 'Harry Potter and the Prisoner of Azkaban', 'Australia', 'After Earth', 'Dinosaur', 'Night at the Museum: Secret of the Tomb', 'Megamind', \"Harry Potter and the Philosopher's Stone\", 'R.I.P.D.', 'Pirates of the Caribbean: The Curse of the Black Pearl', 'The Hunger Games: Mockingjay - Part 1', 'The Da Vinci Code', 'Rio 2', 'X2', 'Fast Five', 'Sherlock Holmes: A Game of Shadows', 'Clash of the Titans', 'Total Recall', 'The 13th Warrior', 'The Bourne Legacy', 'Batman & Robin', 'How the Grinch Stole Christmas', 'The Day After Tomorrow', 'Mission: Impossible II', 'The Perfect Storm', 'Fantastic 4: Rise of the Silver Surfer', 'Life of Pi', 'Ghost Rider', 'Jason Bourne', \"Charlie's Angels: Full Throttle\", 'Prometheus', 'Stuart Little 2', 'Elysium', 'The Chronicles of Riddick', 'RoboCop', 'Speed Racer', 'How Do You Know', 'Knight and Day', 'Oblivion', 'Star Wars: Episode III - Revenge of the Sith', 'Star Wars: Episode II - Attack of the Clones', 'Monsters, Inc.', 'The Wolverine', 'Star Wars: Episode I - The Phantom Menace', 'The Croods', 'Asterix at the Olympic Games', 'Windtalkers', \"The Huntsman: Winter's War\", 'Teenage Mutant Ninja Turtles', 'Gravity', \"Dante's Peak\", 'Teenage Mutant Ninja Turtles: Out of the Shadows', 'Fantastic Four', 'Night at the Museum', 'San Andreas', 'Tomorrow Never Dies', 'The Patriot', \"Ocean's Twelve\", 'Mr. & Mrs. Smith', 'Insurgent', 'The Aviator', \"Gulliver's Travels\", 'The Green Hornet', '300: Rise of an Empire', 'The Smurfs', 'Home on the Range', 'Allegiant', 'Real Steel', 'The Smurfs 2', 'Speed 2: Cruise Control', \"Ender's Game\", 'Live Free or Die Hard', 'The Lord of the Rings: The Fellowship of the Ring', 'Around the World in 80 Days', 'Ali', 'The Cat in the Hat', 'I, Robot', 'Kingdom of Heaven', 'Stuart Little', 'The Princess and the Frog', 'The Martian', 'The Island', 'Town & Country', 'Gone in Sixty Seconds', 'Gladiator', 'Minority Report', 'Harry Potter and the Chamber of Secrets', 'Casino Royale', 'Planet of the Apes', 'Terminator 2: Judgment Day', 'Public Enemies', 'American Gangster', 'True Lies', 'The Taking of Pelham 1 2 3', 'Little Fockers', 'The Other Guys', 'Eraser', 'Django Unchained', 'The Hunchback of Notre Dame', \"The Emperor's New Groove\", 'The Expendables 2', 'National Treasure', 'Eragon', 'Where the Wild Things Are', 'Epic', 'The Tourist', 'End of Days', 'Blood Diamond', 'The Wolf of Wall Street', 'Batman Forever', 'Starship Troopers', 'Cloud Atlas', \"Legend of the Guardians: The Owls of Ga'Hoole\", 'Catwoman', 'Hercules', 'Treasure Planet', 'Land of the Lost', 'The Expendables 3', 'Point Break', 'Son of the Mask', 'In the Heart of the Sea', 'The Adventures of Pluto Nash', 'Green Zone', 'The Peanuts Movie', 'The Spanish Prisoner', 'The Mummy Returns', 'Gangs of New York', 'The Flowers of War', \"Surf's Up\", 'The Stepford Wives', 'Black Hawk Down', 'The Campaign', 'The Fifth Element', 'Sex and the City 2', 'The Road to El Dorado', 'Ice Age: Continental Drift', 'Cinderella', 'The Lovely Bones', 'Finding Nemo', 'The Lord of the Rings: The Return of the King', 'The Lord of the Rings: The Two Towers', 'Seventh Son', 'Lara Croft: Tomb Raider', 'Transcendence', 'Jurassic Park III', 'Rise of the Planet of the Apes', 'The Spiderwick Chronicles', 'A Good Day to Die Hard', 'The Alamo', 'The Incredibles', 'Cutthroat Island', 'Percy Jackson & the Olympians: The Lightning Thief', 'Men in Black', 'Toy Story 2', 'Unstoppable', 'Rush Hour 2', 'What Lies Beneath', 'Cloudy with a Chance of Meatballs', 'Ice Age: Dawn of the Dinosaurs', 'The Secret Life of Walter Mitty', \"Charlie's Angels\", 'The Departed', 'Mulan', 'Tropic Thunder', 'The Girl with the Dragon Tattoo', 'Die Hard: With a Vengeance', 'Sherlock Holmes', 'Ben-Hur', 'Atlantis: The Lost Empire', 'Alvin and the Chipmunks: The Road Chip', 'Valkyrie', \"You Don't Mess with the Zohan\", 'Pixels', 'A.I. Artificial Intelligence', 'The Haunted Mansion', 'Contact', 'Hollow Man', 'The Interpreter', 'Percy Jackson: Sea of Monsters', 'Lara Croft Tomb Raider: The Cradle of Life', 'Now You See Me 2', 'The Saint', 'Spy Game', 'Mission to Mars', 'Rio', 'Bicentennial Man', 'Volcano', \"The Devil's Own\", 'K-19: The Widowmaker', 'Conan the Barbarian', 'Cinderella Man', 'The Nutcracker: The Untold Story', 'Seabiscuit', 'Twister', 'Cast Away', 'Happy Feet', 'The Bourne Supremacy', 'Air Force One', \"Ocean's Eleven\", 'The Three Musketeers', 'Hotel Transylvania', 'Enchanted', 'Safe House', '102 Dalmatians', 'Tower Heist', 'The Holiday', 'Enemy of the State', \"It's Complicated\", \"Ocean's Thirteen\", 'Open Season', 'Divergent', 'Enemy at the Gates', 'The Rundown', 'Last Action Hero', 'Memoirs of a Geisha', 'The Fast and the Furious: Tokyo Drift', 'Arthur Christmas', 'Meet Joe Black', 'Collateral Damage', 'All That Jazz', 'Mirror Mirror', 'Scott Pilgrim vs. the World', 'The Core', 'Nutty Professor II: The Klumps', 'Scooby-Doo', 'Dredd', 'Click', 'Creepshow', 'Cats & Dogs 2 : The Revenge of Kitty Galore', 'Jumper', 'Hellboy II: The Golden Army', 'Zodiac', 'The 6th Day', 'Bruce Almighty', 'The Expendables', 'Mission: Impossible', 'The Hunger Games', 'The Hangover Part II', 'Batman Returns', 'Over the Hedge', 'Lilo & Stitch', \"Charlotte's Web\", 'Deep Impact', 'RED 2', 'The Longest Yard', 'Alvin and the Chipmunks: Chipwrecked', 'Grown Ups 2', 'Get Smart', \"Something's Gotta Give\", 'Shutter Island', 'Four Christmases', 'Robots', 'Face/Off', 'Bedtime Stories', 'Road to Perdition', 'Just Go with It', 'Con Air', 'Eagle Eye', 'Cold Mountain', 'The Book of Eli', 'Flubber', 'The Haunting', 'Space Jam', 'The Pink Panther', 'The Day the Earth Stood Still', 'Conspiracy Theory', 'Fury', 'Six Days Seven Nights', 'Yogi Bear', 'Spirit: Stallion of the Cimarron', 'Zookeeper', 'Lost in"
     ]
    },
    {
     "data": {
      "text/html": [
       "<b>limit_output extension: Maximum message size of 10000 exceeded with 92935 characters</b>"
      ]
     },
     "metadata": {},
     "output_type": "display_data"
    }
   ],
   "source": [
    "# creating a list with all the movie names given in the dataset\n",
    "list_of_all_titles = movies_data['title'].tolist()\n",
    "print(list_of_all_titles)"
   ]
  },
  {
   "cell_type": "code",
   "execution_count": 78,
   "metadata": {
    "ExecuteTime": {
     "end_time": "2022-11-07T12:01:15.753351Z",
     "start_time": "2022-11-07T12:01:15.726250Z"
    },
    "colab": {
     "base_uri": "https://localhost:8080/"
    },
    "id": "u1HTkBLIOBjf",
    "outputId": "2e25e165-51f8-4370-de21-1005adbb1660"
   },
   "outputs": [
    {
     "name": "stdout",
     "output_type": "stream",
     "text": [
      "['Batman', 'Batman', 'Catwoman']\n"
     ]
    }
   ],
   "source": [
    "# finding the close match for the movie name given by the user\n",
    "find_close_match = difflib.get_close_matches(movie_name, list_of_all_titles)\n",
    "print(find_close_match)"
   ]
  },
  {
   "cell_type": "code",
   "execution_count": 79,
   "metadata": {
    "ExecuteTime": {
     "end_time": "2022-11-07T12:01:17.286502Z",
     "start_time": "2022-11-07T12:01:17.282523Z"
    },
    "colab": {
     "base_uri": "https://localhost:8080/"
    },
    "id": "CgiC-enuOfXx",
    "outputId": "a9a746b0-7833-42aa-d826-3a07388b310b"
   },
   "outputs": [
    {
     "name": "stdout",
     "output_type": "stream",
     "text": [
      "Batman\n"
     ]
    }
   ],
   "source": [
    "close_match = find_close_match[0]\n",
    "print(close_match)"
   ]
  },
  {
   "cell_type": "code",
   "execution_count": 80,
   "metadata": {
    "ExecuteTime": {
     "end_time": "2022-11-07T12:01:18.690380Z",
     "start_time": "2022-11-07T12:01:18.674424Z"
    },
    "colab": {
     "base_uri": "https://localhost:8080/"
    },
    "id": "CNXJfY-FOw1I",
    "outputId": "14adcf60-d9f6-4afd-e404-629581ebf3a0"
   },
   "outputs": [
    {
     "name": "stdout",
     "output_type": "stream",
     "text": [
      "1359\n"
     ]
    }
   ],
   "source": [
    "# finding the index of the movie with title\n",
    "index_of_the_movie = movies_data[movies_data.title == close_match]['index'].values[0]\n",
    "print(index_of_the_movie)"
   ]
  },
  {
   "cell_type": "code",
   "execution_count": 81,
   "metadata": {
    "ExecuteTime": {
     "end_time": "2022-11-07T12:01:19.869120Z",
     "start_time": "2022-11-07T12:01:19.858177Z"
    },
    "colab": {
     "base_uri": "https://localhost:8080/"
    },
    "id": "dyUeQZpvPbkx",
    "outputId": "ec4ca9b9-d772-4b5f-8624-1d64d85fa703"
   },
   "outputs": [
    {
     "name": "stdout",
     "output_type": "stream",
     "text": [
      "[(0, 0.02531512269737111), (1, 0.04983293064399152), (2, 0.013599520029326722), (3, 0.20438773732168222), (4, 0.024929726723526918), (5, 0.11533013884014888), (6, 0.0), (7, 0.005521938648290493), (8, 0.03093493520052642), (9, 0.0897616996163815), (10, 0.11240850198526249), (11, 0.011808001891564552), (12, 0.03825857693295372), (13, 0.01326374702786566), (14, 0.12815026535769386), (15, 0.010432758242497996), (16, 0.005235971636780309), (17, 0.01601669810036477), (18, 0.04153881551585253), (19, 0.02968626711977731), (20, 0.025210054010122055), (21, 0.004591239318101996), (22, 0.01792276874908081), (23, 0.024870438166594427), (24, 0.04186550745628901), (25, 0.0), (26, 0.005699120907668437), (27, 0.013106673998149269), (28, 0.014389581335300713), (29, 0.005723805699010054), (30, 0.11336219425554919), (31, 0.02290308453698018), (32, 0.0899394677673743), (33, 0.005487629188043741), (34, 0.0), (35, 0.025792416651174273), (36, 0.04323488875573723), (37, 0.022073100012780275), (38, 0.016735251293804827), (39, 0.03733968312911064), (40, 0.029604400185067402), (41, 0.10650154604688718), (42, 0.07244022042935871), (43, 0.023689369843914104), (44, 0.005896865705087829), (45, 0.004962729367343318), (46, 0.05119279389322904), (47, 0.006056967859003828), (48, 0.01680183887529584), (49, 0.007462062943836138), (50, 0.024473647577403737), (51, 0.004490688090626269), (52, 0.03018245470107544), (53, 0.024852760467374575), (54, 0.038282186098375935), (55, 0.005755274570173456), (56, 0.006136094904267454), (57, 0.009917061156672187), (58, 0.025146268236415702), (59, 0.013588616309692061), (60, 0.0), (61, 0.01635015002611376), (62, 0.0054166345344265655), (63, 0.01833889030024455), (64, 0.028404894035231252), (65, 0.1775581506611392), (66, 0.01794874160703813), (67, 0.0), (68, 0.005130123069684274), (69, 0.01618329334393077), (70, 0.005371331822946504), (71, 0.021555882140030593), (72, 0.12266571244563478), (73, 0.04415940718548016), (74, 0.005495141965586583), (75, 0.022057119691207824), (76, 0.005516189273301243), (77, 0.008716823552559781), (78, 0.012046810653425794), (79, 0.029113928626152034), (80, 0.02148467123933299), (81, 0.02794528136793173), (82, 0.00576827305044206), (83, 0.019994216200751452), (84, 0.013308886706222196), (85, 0.017148934252787445), (86, 0.009327381057907095), (87, 0.0), (88, 0.014079698000279712), (89, 0.025715410181997155), (90, 0.02910820842351401), (91, 0.005291140630302694), (92, 0.011341251045199981), (93, 0.02241215665416583), (94, 0.005318310294658278), (95, 0.02564889421647799), (96, 0.03097291388389124), (97, 0.004252359556894674), (98, 0.032193726743405454), (99, 0.026147609016141292), (100, 0.04263848763117278), (101, 0.0359840483687721), (102, 0.015251059855876558), (103, 0.054354666030584614), (104, 0.005589170793477882), (105, 0.02119994427869696), (106, 0.011481954496263711), (107, 0.01737021995321565), (108, 0.023241981578083354), (109, 0.021776146296002157), (110, 0.01663593844713563), (111, 0.025868460781820198), (112, 0.01422619779516028), (113, 0.039521340648464964), (114, 0.02742976146472843), (115, 0.029205437008730902), (116, 0.03348693881888547), (117, 0.060492562884146284), (118, 0.010185051615491632), (119, 0.19262528757150407), (120, 0.008755244893174786), (121, 0.032179098673227186), (122, 0.015566153510035626), (123, 0.013352335707811847), (124, 0.007921651394546356), (125, 0.013144997885444097), (126, 0.023353967193491126), (127, 0.0057600906412345766), (128, 0.0), (129, 0.01657534659515722), (130, 0.0), (131, 0.0272746554799872), (132, 0.008212602697406698), (133, 0.0652059210043185), (134, 0.0051625316423586885), (135, 0.02868261916813157), (136, 0.0), (137, 0.0307773744877348), (138, 0.015637725129214016), (139, 0.03565072498219697), (140, 0.014817222177109362), (141, 0.0), (142, 0.0), (143, 0.01125008459005959), (144, 0.0), (145, 0.0), (146, 0.0), (147, 0.004926143004899927), (148, 0.02654830260044715), (149, 0.04085938432174789), (150, 0.03821300742584273), (151, 0.005321016206774113), (152, 0.03331446270419187), (153, 0.005104759932632073), (154, 0.020861732883614623), (155, 0.0), (156, 0.043192368499795894), (157, 0.005748857276590655), (158, 0.015178542794596593), (159, 0.03514905655970912), (160, 0.025456109332957284), (161, 0.018248598639931543), (162, 0.017508564372075104), (163, 0.09490815555089474), (164, 0.05766352814275297), (165, 0.015898883695491906), (166, 0.006403384496392318), (167, 0.005536191629212126), (168, 0.015630626662545388), (169, 0.005393553666615686), (170, 0.043262452704246564), (171, 0.034003432577698174), (172, 0.019057091235472567), (173, 0.0), (174, 0.05055026688169773), (175, 0.02848895697576779), (176, 0.008199725823514694), (177, 0.020029123423841614), (178, 0.009357441930127653), (179, 0.009209159657810564), (180, 0.005863964523086625), (181, 0.021652893869808187), (182, 0.02353656978819377), (183, 0.027644775352911852), (184, 0.03493917823417467), (185, 0.02038304237119583), (186, 0.04459616327625059), (187, 0.01553413453427916), (188, 0.005544672081248338), (189, 0.02948375476268129), (190, 0.00940060870625009), (191, 0.019075801251320162), (192, 0.0), (193, 0.005764152853658987), (194, 0.03175671421104142), (195, 0.01867767015552487), (196, 0.050872350184735876), (197, 0.02924749073264552), (198, 0.033759003475800534), (199, 0.04127383784609175), (200, 0.019672291888541544), (201, 0.009612871394229363), (202, 0.0), (203, 0.013006617597419886), (204, 0.02213050945729524), (205, 0.02298215684826604), (206, 0.015104619651285126), (207, 0.07517731687148192), (208, 0.02419897314958249), (209, 0.0056380653548724095), (210, 0.25737999820859625), (211, 0.029823908263710685), (212, 0.02324123457380759), (213, 0.04328647825815964), (214, 0.009119664204350115), (215, 0.0773178135949982), (216, 0.013308904195041413), (217, 0.06365812644026905), (218, 0.01820775128152958), (219, 0.043872578197580316), (220, 0.024925248865578585), (221, 0.020074947827866736), (222, 0.0056619673562304604), (223, 0.04298330016886992), (224, 0.06381093636174208), (225, 0.006093588113836095), (226, 0.08009811585333676), (227, 0.005390690104302215), (228, 0.005143517638008635), (229, 0.014714592345297876), (230, 0.00429551502513737), (231, 0.0), (232, 0.014866095621163873), (233, 0.00448643551001502), (234, 0.020332927975252314), (235, 0.010103203247825286), (236, 0.005512252714746335), (237, 0.013407097722261084), (238, 0.02426903109788739), (239, 0.009026133708670711), (240, 0.01459086841112044), (241, 0.015876309856328475), (242, 0.02596280025216613), (243, 0.02970175929625292), (244, 0.004606293916228297), (245, 0.021091411367858307), (246, 0.0050868765893401805), (247, 0.015604601725429042), (248, 0.03215955008792736), (249, 0.010041233622224933), (250, 0.024614411005019904), (251, 0.02227356932657924), (252, 0.022527942902764643), (253, 0.004581957148163642), (254, 0.02923937662577296), (255, 0.0), (256, 0.008859149559609284), (257, 0.015269302690415787), (258, 0.010689688422080963), (259, 0.020694082901925582), (260, 0.005392803407541181), (261, 0.016436043710683648), (262, 0.016008532494180345), (263, 0.005318416540504533), (264, 0.01797732495165702), (265, 0.04045462921658721), (266, 0.005529500831600524), (267, 0.03471266703488136), (268, 0.039340417700922385), (269, 0.03592596428678005), (270, 0.02047072608286063), (271, 0.04205829367344873), (272, 0.03156561287301673), (273, 0.012493730297180941), (274, 0.005856357216856913), (275, 0.02301404884039334), (276, 0.030035534861912905), (277, 0.005460965070966977), (278, 0.12996260715124025), (279, 0.026139750727758506), (280, 0.026059654002839903), (281, 0.01596662468711029), (282, 0.004885034999473712), (283, 0.006545138429275421), (284, 0.010047441739921288), (285, 0.03771237430169859), (286, 0.005489881771352674), (287, 0.02273805394855659), (288, 0.0), (289, 0.01043240827881478), (290, 0.01599797560237545), (291, 0.03785527048219344), (292, 0.029637035409404967), (293, 0.03850735689533657), (294, 0.023311791752251575), (295, 0.029150304221924946), (296, 0.026459567913143592), (297, 0.015718856581113386), (298, 0.00819747201126473), (299, 0.10154632458465614), (300, 0.011906750449291664), (301, 0.0), (302, 0.010708044933990125), (303, 0.09883937789831629), (304, 0.005147368420567504), (305, 0.04876645858500153), (306, 0.013993128616778198), (307, 0.005291568896276649), (308, 0.01892387912891352), (309, 0.012447534711356482), (310, 0.014099823434543982), (311, 0.011388881674615162), (312, 0.004786517934094848), (313, 0.007900242606542415), (314, 0.03779388023290209), (315, 0.030148920668698065), (316, 0.027439128948452064), (317, 0.0), (318, 0.02484370068577551), (319, 0.03973736386791702), (320, 0.00547701853389258), (321, 0.008500313679377706), (322, 0.016956729892305192), (323, 0.0607910339666117), (324, 0.03378259844361217), (325, 0.0), (326, 0.01988992886308015), (327, 0.035499571393971446), (328, 0.015678536654377837), (329, 0.03350335414928485), (330, 0.016471203129028878), (331, 0.03519813630133888), (332, 0.020559468783685246), (333, 0.0), (334, 0.022833976332210133), (335, 0.005426700203861826), (336, 0.0192215086758088), (337, 0.0035760337459753606), (338, 0.01007104124077427), (339, 0.03274058500809053), (340, 0.017904003766269105), (341, 0.010410592276632605), (342, 0.05232110588872813), (343, 0.055754153391077026), (344, 0.004527095216613905), (345, 0.014815714442063393), (346, 0.007930631777048608), (347, 0.0), (348, 0.009826441016833736), (349, 0.01026405294585673), (350, 0.022061634090390726), (351, 0.08174380966331447), (352, 0.01632531881971601), (353, 0.028830612918124995), (354, 0.028092556012041955), (355, 0.005717869525329317), (356, 0.013682520917539964), (357, 0.021209560048322404), (358, 0.049530171663648544), (359, 0.0), (360, 0.0), (361, 0.01399571574610273), (362, 0.005874135890534837), (363, 0.0), (364, 0.04627287142241801), (365, 0.0), (366, 0.054515529136516035), (367, 0.016323992554575013), (368, 0.009286540367566893), (369, 0.027554991866846026), (370, 0.02378016286738358), "
     ]
    },
    {
     "data": {
      "text/html": [
       "<b>limit_output extension: Maximum message size of 10000 exceeded with 119050 characters</b>"
      ]
     },
     "metadata": {},
     "output_type": "display_data"
    }
   ],
   "source": [
    "# getting a list of similar movies\n",
    "similarity_score = list(enumerate(similarity[index_of_the_movie]))\n",
    "print(similarity_score)"
   ]
  },
  {
   "cell_type": "code",
   "execution_count": 82,
   "metadata": {
    "ExecuteTime": {
     "end_time": "2022-11-07T12:01:20.954870Z",
     "start_time": "2022-11-07T12:01:20.945681Z"
    },
    "colab": {
     "base_uri": "https://localhost:8080/"
    },
    "id": "mMrxw-leQNtP",
    "outputId": "39a3002d-9c35-42a0-a78b-7d0a8d50376c"
   },
   "outputs": [
    {
     "data": {
      "text/plain": [
       "4803"
      ]
     },
     "execution_count": 82,
     "metadata": {},
     "output_type": "execute_result"
    }
   ],
   "source": [
    "len(similarity_score)"
   ]
  },
  {
   "cell_type": "code",
   "execution_count": 83,
   "metadata": {
    "ExecuteTime": {
     "end_time": "2022-11-07T12:01:22.345897Z",
     "start_time": "2022-11-07T12:01:22.323431Z"
    },
    "colab": {
     "base_uri": "https://localhost:8080/"
    },
    "id": "SkXgFLePQkHL",
    "outputId": "54171e01-edf3-4cf9-fede-124c451db257"
   },
   "outputs": [
    {
     "name": "stdout",
     "output_type": "stream",
     "text": [
      "[(1359, 1.0), (428, 0.4311643836232694), (210, 0.25737999820859625), (3, 0.20438773732168222), (119, 0.19262528757150407), (65, 0.1775581506611392), (1512, 0.14705162654306442), (813, 0.14414128303962467), (2530, 0.13737322473729185), (1017, 0.13713281929528845), (473, 0.13217075714794208), (753, 0.13216136203404205), (278, 0.12996260715124025), (14, 0.12815026535769386), (72, 0.12266571244563478), (2313, 0.1183433298876972), (2381, 0.11752380293327759), (5, 0.11533013884014888), (2858, 0.11413652180839844), (4183, 0.11353876531321921), (30, 0.11336219425554919), (2655, 0.11270953916613297), (10, 0.11240850198526249), (1035, 0.11197582745207195), (2685, 0.10980421440315517), (870, 0.10722005407914785), (41, 0.10650154604688718), (1296, 0.10584478077207024), (438, 0.10277392559139559), (1477, 0.10199709558322863), (299, 0.10154632458465614), (1474, 0.10078843818576026), (1002, 0.1005262424012352), (1085, 0.10023066759543668), (2753, 0.09951168410001496), (303, 0.09883937789831629), (2805, 0.09653055839236144), (163, 0.09490815555089474), (1803, 0.09486132363970294), (584, 0.09484559891817565), (4267, 0.09468285761112293), (1076, 0.0940401999293739), (3630, 0.09220755061184922), (32, 0.0899394677673743), (9, 0.0897616996163815), (1141, 0.0897534119962937), (2740, 0.08940625662471981), (1740, 0.08909361212904546), (3326, 0.08864740283572532), (3466, 0.08668912224324149), (3350, 0.08655054623169336), (1241, 0.08609227902838198), (681, 0.08543127346751898), (2365, 0.0853438442958511), (2108, 0.08391604344392495), (2433, 0.08365489821337185), (1048, 0.08353639093976094), (3854, 0.08270463326994387), (4730, 0.08191403933124478), (351, 0.08174380966331447), (2793, 0.08113461186171188), (963, 0.08093607979181264), (226, 0.08009811585333676), (2047, 0.08005984967911549), (1771, 0.07939424641304792), (2826, 0.07908804353048146), (4621, 0.07837896649693904), (1720, 0.07785389662462186), (215, 0.0773178135949982), (2492, 0.07720993930846724), (2383, 0.0766994239491908), (904, 0.0766581543058702), (480, 0.07657647328497882), (3075, 0.07656011925039205), (1087, 0.07653280604972879), (583, 0.07617125404896875), (2635, 0.07612157059438401), (774, 0.07520276566249046), (207, 0.07517731687148192), (2265, 0.07480103949044059), (4411, 0.07357327641709638), (2514, 0.07337337385697332), (1374, 0.07276512150372845), (42, 0.07244022042935871), (417, 0.07154871800648291), (3984, 0.07151644177116366), (731, 0.0714748582813296), (1421, 0.07145387858299798), (4153, 0.07127507259646959), (3242, 0.07115649368602578), (3323, 0.07093837703816055), (1478, 0.07074037978729494), (2482, 0.07053390554831772), (3148, 0.07051443394414272), (2123, 0.07049506017980059), (1813, 0.0702107976791396), (4432, 0.06979240805656593), (1858, 0.06975691386608407), (800, 0.06953224882098635), (1566, 0.06940034499958737), (1236, 0.06921697670526414), (3033, 0.06882483694481675), (2897, 0.0687325954457757), (3637, 0.06850035824377265), (2983, 0.06841359888033002), (1343, 0.0679178458251457), (3564, 0.06748597328266652), (422, 0.06660418021192085), (1434, 0.06650848491705977), (1964, 0.06641267452470394), (2822, 0.06523623085813704), (133, 0.0652059210043185), (4132, 0.06519615508825678), (2631, 0.06504777397079482), (3267, 0.06484032054628708), (662, 0.06458915958920407), (1827, 0.0644590393699526), (1629, 0.06407184052001345), (4616, 0.06403425394321395), (3550, 0.06393063808449993), (880, 0.06391064887633026), (224, 0.06381093636174208), (2340, 0.06378589921415115), (935, 0.0636982726513143), (217, 0.06365812644026905), (3986, 0.06345431292205245), (3948, 0.06344759582511454), (3372, 0.06340151915093728), (1293, 0.06301875726076642), (739, 0.06293449312413521), (3719, 0.06293374984621716), (4399, 0.0626817291661942), (3297, 0.06256549822883029), (958, 0.062408672993923664), (4176, 0.06219157466177185), (1902, 0.06175659279873491), (3355, 0.06163725811314999), (3053, 0.0614937693536529), (1043, 0.06148903574491431), (3758, 0.061448143793647665), (2070, 0.06136751707477053), (323, 0.0607910339666117), (4675, 0.06076579391953683), (2368, 0.06064463603285601), (117, 0.060492562884146284), (1594, 0.0603608083986681), (581, 0.060287457625623146), (3685, 0.06012900367722529), (1148, 0.06010765169185929), (2284, 0.060096055197682186), (587, 0.059954145662823075), (1223, 0.059922058269882), (3873, 0.05986413704367761), (969, 0.05965536040402045), (2223, 0.05960804990085404), (1120, 0.05950894940289865), (4200, 0.059506549998311), (1506, 0.059475397637864434), (2114, 0.05937475363169126), (755, 0.058705703664613695), (827, 0.058651554758132156), (826, 0.05858774897651223), (1846, 0.05858161919230411), (3819, 0.0585620788359174), (4760, 0.05854776032580973), (1963, 0.058085263627459416), (164, 0.05766352814275297), (836, 0.057434730759063225), (3607, 0.057355720926209865), (2789, 0.05732486796919024), (2560, 0.05724815289422347), (2731, 0.05719320121356585), (1363, 0.057179260936214775), (4158, 0.05704977182229488), (4439, 0.05693854482573927), (3971, 0.0566213485029772), (1174, 0.05648892011570573), (1782, 0.056308948618240914), (2066, 0.05609985436718217), (3031, 0.05608432418691643), (4065, 0.05595732479948473), (1303, 0.05585861136454683), (343, 0.055754153391077026), (4630, 0.05546741612283619), (3766, 0.05540022211096728), (2334, 0.05526612036216298), (2878, 0.05515185050930864), (2586, 0.05472919108104719), (1034, 0.05465360864260904), (366, 0.054515529136516035), (1292, 0.054451481344167885), (2055, 0.0543643162789638), (2029, 0.054354817322176), (103, 0.054354666030584614), (447, 0.05428674675430024), (4221, 0.054284510472713446), (426, 0.05387121165126171), (3184, 0.05375836747802638), (1247, 0.053581002184245344), (2221, 0.053576821197112795), (3208, 0.05349357201558701), (1561, 0.05300836086982752), (4027, 0.052924009478107825), (2830, 0.05290889080627135), (1513, 0.05288189923381389), (1685, 0.05279678377370657), (2474, 0.05270796628302849), (1929, 0.05267613017000264), (779, 0.05259835223293688), (1183, 0.05247200231886881), (1001, 0.05239940922199486), (342, 0.05232110588872813), (3047, 0.05227719423322646), (2470, 0.05224177322812685), (1144, 0.05196123866300828), (994, 0.051830907119553474), (1097, 0.051812132668283176), (2362, 0.051761187642313536), (2813, 0.051583845389576416), (2321, 0.05148717305895325), (1851, 0.05137565980020797), (1886, 0.05135926016803144), (4300, 0.05132829819610413), (3753, 0.05128002013987719), (4795, 0.05124223548809905), (46, 0.05119279389322904), (578, 0.05118048264656639), (2824, 0.05114689340419648), (196, 0.050872350184735876), (2285, 0.05072283634197921), (1243, 0.050700350160624824), (2574, 0.050668079647379946), (513, 0.050555830048219536), (174, 0.05055026688169773), (3211, 0.050277673460301965), (1976, 0.050266582973901706), (3851, 0.05023263968999226), (415, 0.05019472209444976), (3905, 0.050041144318888474), (4203, 0.04993872226218514), (1, 0.04983293064399152), (4159, 0.04982659490397005), (2026, 0.049807132061791326), (2331, 0.049704567350787016), (4539, 0.049630739699988165), (3405, 0.049614662138495455), (358, 0.049530171663648544), (1600, 0.049336396895483095), (1316, 0.04929772852512586), (1977, 0.04919724187128134), (1884, 0.04898143796896101), (1125, 0.048928847177323063), (4707, 0.04888669936037911), (4515, 0.04885647202358133), (1278, 0.0488360430519503), (3956, 0.048834692223244075), (2157, 0.04883326969652898), (305, 0.04876645858500153), (4518, 0.048657949715749355), (3774, 0.04860532649135153), (2871, 0.04860319935980385), (1674, 0.04859943492495315), (1790, 0.048556569482376466), (546, 0.04812265039724559), (2301, 0.04808522757820377), (636, 0.04807695168680448), (372, 0.048009596046192184), (1009, 0.04799624299749351), (2444, 0.04777721636791725), (3375, 0.0477623719685448), (1382, 0.047751731789872645), (3893, 0.0476952660288304), (3250, 0.047684927328473056), (3634, 0.047534105702211), (1458, 0.04744491982945791), (518, 0.04743670355350071), (2892, 0.047332554693430715), (2647, 0.047285761345967625), (2191, 0.04727771543208084), (2205, 0.0472730752732396), (1110, 0.04710839249677591), (946, 0.04690419049379716), (3306, 0.0468894508031419), (1006, 0.04685486296251217), (782, 0.04684563840327667), (3146, 0.046692892879965475), (1159, 0.04666436412856402), (1259, 0.046382514953439494), (364, 0.04627287142241801), (867, 0.04611844113646047), (3921, 0.04604861216311124), (2862, 0.04603206010258901), (1655, 0.04594587261868763), (3010, 0.045936908711060494), (694, 0.04587601234144584), (4388, 0.045716357235399775), (3439, 0.045669882159059386), (968, 0.04550911170536931), (2572, 0.04547730814514499), (1653, 0.04545837835897055), (1918, 0.04544963560382887), (3046, 0.04541372738982333), (1417, 0.04540145189851705), (791, 0.045377002143510065), (4184, 0.04532745476604422), (3232, 0.04522567127593379), (4041, 0.04498378705481512), (2034, 0.044983445730573966), (4601, 0.04494072980366674), (1113, 0.044857002035258026), (4255, 0.04483395822380165), (2543, 0.04475496708026995), (2430, 0.04470385235806187), (186, 0.04459616327625059), (2035, 0.04454105154294242), (4011, 0.044514698024180566), (665, 0.044432466036149254), (3409, 0.04442588575633951), (3901, 0.044391555723730644), (4664, 0.04422730818025078), (3359, 0.04422151373766265), (832, 0.04420586787560895), (73, 0.04415940718548016), (939, 0.0440147245600844), (4670, 0.04395226544007953), (3325, 0.04388566680159247), (219, 0.043872578197580316), (1881, 0.04382449735381551), (1469, 0.043763468277525225), (446, 0.043751045863748145), (2320, 0.04373758512234605), (2982, 0.043734275425904495), (1515, 0.04371327390526024), (830, 0.04368824829368255), (4724, 0.0435288820490115), (2713, 0.04350023510784011), (1165, 0.043492600825020586), (3891, 0.04337769563404051), (2366, 0.04337057394012591), (1369, 0.0433392780847158), (213, 0.04328647825815964), (170, 0.043262452704246564), (36, 0.04323488875573723), (3624, 0.04322362197604023), (1265, 0.04320191547401773), (156, 0.043192368499795894), (4772, 0.04319163499952621), (4154, 0.043133043174220106), (396, 0.04306"
     ]
    },
    {
     "data": {
      "text/html": [
       "<b>limit_output extension: Maximum message size of 10000 exceeded with 119050 characters</b>"
      ]
     },
     "metadata": {},
     "output_type": "display_data"
    }
   ],
   "source": [
    "# sorting the movies based on their similarity score\n",
    "sorted_similar_movies = sorted(similarity_score, key = lambda x:x[1], reverse = True) \n",
    "print(sorted_similar_movies)"
   ]
  },
  {
   "cell_type": "code",
   "execution_count": 84,
   "metadata": {
    "ExecuteTime": {
     "end_time": "2022-11-07T12:01:24.807050Z",
     "start_time": "2022-11-07T12:01:23.679046Z"
    },
    "colab": {
     "base_uri": "https://localhost:8080/"
    },
    "id": "JseMqew-RW6Q",
    "outputId": "7b965227-7d40-47ac-a0cf-dfce044fc4fc"
   },
   "outputs": [
    {
     "name": "stdout",
     "output_type": "stream",
     "text": [
      "Movies suggested for you : \n",
      "\n",
      "1 . Batman\n",
      "2 . Batman Returns\n",
      "3 . Batman & Robin\n",
      "4 . The Dark Knight Rises\n",
      "5 . Batman Begins\n",
      "6 . The Dark Knight\n",
      "7 . A History of Violence\n",
      "8 . Superman\n",
      "9 . Beetlejuice\n",
      "10 . Bedazzled\n",
      "11 . Mars Attacks!\n",
      "12 . The Sentinel\n",
      "13 . Planet of the Apes\n",
      "14 . Man of Steel\n",
      "15 . Suicide Squad\n",
      "16 . The Mask\n",
      "17 . Salton Sea\n",
      "18 . Spider-Man 3\n",
      "19 . The Postman Always Rings Twice\n",
      "20 . Hang 'em High\n",
      "21 . Spider-Man 2\n",
      "22 . Dungeons & Dragons: Wrath of the Dragon God\n",
      "23 . Superman Returns\n",
      "24 . Jonah Hex\n",
      "25 . Exorcist II: The Heretic\n",
      "26 . Superman II\n",
      "27 . Green Lantern\n",
      "28 . Superman III\n",
      "29 . Something's Gotta Give\n"
     ]
    }
   ],
   "source": [
    "# print the name of similar movies based on the index\n",
    "\n",
    "print('Movies suggested for you : \\n')\n",
    "\n",
    "i = 1\n",
    "\n",
    "for movie in sorted_similar_movies:\n",
    "    index = movie[0]\n",
    "    title_from_index = movies_data[movies_data.index==index]['title'].values[0]\n",
    "    if (i<30):\n",
    "        print(i, '.',title_from_index)\n",
    "        i+=1"
   ]
  },
  {
   "cell_type": "markdown",
   "metadata": {
    "id": "KmXULXO9TZun"
   },
   "source": [
    "# Movie Recommendation Sytem"
   ]
  },
  {
   "cell_type": "code",
   "execution_count": 85,
   "metadata": {
    "ExecuteTime": {
     "end_time": "2022-11-07T12:01:36.294904Z",
     "start_time": "2022-11-07T12:01:28.472741Z"
    },
    "colab": {
     "base_uri": "https://localhost:8080/"
    },
    "id": "QUDZfTSxTHDf",
    "outputId": "c4e32c1a-0a70-4854-8eee-8660135694a5"
   },
   "outputs": [
    {
     "name": "stdout",
     "output_type": "stream",
     "text": [
      " Enter your favourite movie name : bat man\n",
      "Movies suggested for you : \n",
      "\n",
      "1 . Batman\n",
      "2 . Batman Returns\n",
      "3 . Batman & Robin\n",
      "4 . The Dark Knight Rises\n",
      "5 . Batman Begins\n",
      "6 . The Dark Knight\n",
      "7 . A History of Violence\n",
      "8 . Superman\n",
      "9 . Beetlejuice\n",
      "10 . Bedazzled\n",
      "11 . Mars Attacks!\n",
      "12 . The Sentinel\n",
      "13 . Planet of the Apes\n",
      "14 . Man of Steel\n",
      "15 . Suicide Squad\n",
      "16 . The Mask\n",
      "17 . Salton Sea\n",
      "18 . Spider-Man 3\n",
      "19 . The Postman Always Rings Twice\n",
      "20 . Hang 'em High\n",
      "21 . Spider-Man 2\n",
      "22 . Dungeons & Dragons: Wrath of the Dragon God\n",
      "23 . Superman Returns\n",
      "24 . Jonah Hex\n",
      "25 . Exorcist II: The Heretic\n",
      "26 . Superman II\n",
      "27 . Green Lantern\n",
      "28 . Superman III\n",
      "29 . Something's Gotta Give\n"
     ]
    }
   ],
   "source": [
    "movie_name = input(' Enter your favourite movie name : ')\n",
    "\n",
    "list_of_all_titles = movies_data['title'].tolist()\n",
    "\n",
    "find_close_match = difflib.get_close_matches(movie_name, list_of_all_titles)\n",
    "\n",
    "close_match = find_close_match[0]\n",
    "\n",
    "index_of_the_movie = movies_data[movies_data.title == close_match]['index'].values[0]\n",
    "\n",
    "similarity_score = list(enumerate(similarity[index_of_the_movie]))\n",
    "\n",
    "sorted_similar_movies = sorted(similarity_score, key = lambda x:x[1], reverse = True) \n",
    "\n",
    "print('Movies suggested for you : \\n')\n",
    "\n",
    "i = 1\n",
    "\n",
    "for movie in sorted_similar_movies:\n",
    "    index = movie[0]\n",
    "    title_from_index = movies_data[movies_data.index==index]['title'].values[0]\n",
    "    if (i<30):\n",
    "        print(i, '.',title_from_index)\n",
    "        i+=1"
   ]
  },
  {
   "cell_type": "code",
   "execution_count": null,
   "metadata": {
    "id": "dgOXLbsWUAGK"
   },
   "outputs": [],
   "source": []
  }
 ],
 "metadata": {
  "colab": {
   "collapsed_sections": [],
   "name": "Project 18. Movie Recommendation System using Machine Learning with Python.ipynb",
   "provenance": []
  },
  "hide_input": false,
  "kernelspec": {
   "display_name": "Python 3 (ipykernel)",
   "language": "python",
   "name": "python3"
  },
  "language_info": {
   "codemirror_mode": {
    "name": "ipython",
    "version": 3
   },
   "file_extension": ".py",
   "mimetype": "text/x-python",
   "name": "python",
   "nbconvert_exporter": "python",
   "pygments_lexer": "ipython3",
   "version": "3.9.7"
  },
  "latex_envs": {
   "LaTeX_envs_menu_present": true,
   "autoclose": false,
   "autocomplete": true,
   "bibliofile": "biblio.bib",
   "cite_by": "apalike",
   "current_citInitial": 1,
   "eqLabelWithNumbers": true,
   "eqNumInitial": 1,
   "hotkeys": {
    "equation": "Ctrl-E",
    "itemize": "Ctrl-I"
   },
   "labels_anchors": false,
   "latex_user_defs": false,
   "report_style_numbering": false,
   "user_envs_cfg": false
  },
  "nbTranslate": {
   "displayLangs": [
    "*"
   ],
   "hotkey": "alt-t",
   "langInMainMenu": true,
   "sourceLang": "en",
   "targetLang": "fr",
   "useGoogleTranslate": true
  },
  "toc": {
   "base_numbering": 1,
   "nav_menu": {},
   "number_sections": true,
   "sideBar": true,
   "skip_h1_title": false,
   "title_cell": "Table of Contents",
   "title_sidebar": "Contents",
   "toc_cell": false,
   "toc_position": {},
   "toc_section_display": true,
   "toc_window_display": false
  },
  "varInspector": {
   "cols": {
    "lenName": 16,
    "lenType": 16,
    "lenVar": 40
   },
   "kernels_config": {
    "python": {
     "delete_cmd_postfix": "",
     "delete_cmd_prefix": "del ",
     "library": "var_list.py",
     "varRefreshCmd": "print(var_dic_list())"
    },
    "r": {
     "delete_cmd_postfix": ") ",
     "delete_cmd_prefix": "rm(",
     "library": "var_list.r",
     "varRefreshCmd": "cat(var_dic_list()) "
    }
   },
   "types_to_exclude": [
    "module",
    "function",
    "builtin_function_or_method",
    "instance",
    "_Feature"
   ],
   "window_display": false
  }
 },
 "nbformat": 4,
 "nbformat_minor": 1
}
