{
 "cells": [
  {
   "cell_type": "markdown",
   "metadata": {},
   "source": [
    "# Dataset link"
   ]
  },
  {
   "cell_type": "markdown",
   "metadata": {},
   "source": [
    "https://drive.google.com/file/d/1cCkwiVv4mgfl20ntgY3n4yApcWqqZQe6/view"
   ]
  },
  {
   "cell_type": "markdown",
   "metadata": {
    "id": "R1oRN_iiHN_7"
   },
   "source": [
    "# Importing the libraries"
   ]
  },
  {
   "cell_type": "code",
   "execution_count": 1,
   "metadata": {
    "ExecuteTime": {
     "end_time": "2022-11-07T12:05:51.132060Z",
     "start_time": "2022-11-07T12:05:49.174123Z"
    },
    "id": "GAGi6hrzFLOb"
   },
   "outputs": [],
   "source": [
    "import numpy as np\n",
    "import pandas as pd\n",
    "import difflib\n",
    "from sklearn.feature_extraction.text import TfidfVectorizer\n",
    "from sklearn.metrics.pairwise import cosine_similarity"
   ]
  },
  {
   "cell_type": "markdown",
   "metadata": {
    "id": "mfIW1BYVIGfP"
   },
   "source": [
    "# Data Collection and Pre-Processing"
   ]
  },
  {
   "cell_type": "code",
   "execution_count": 2,
   "metadata": {
    "ExecuteTime": {
     "end_time": "2022-11-07T12:05:55.011561Z",
     "start_time": "2022-11-07T12:05:54.716396Z"
    },
    "id": "MOXn7CGdIGBU"
   },
   "outputs": [],
   "source": [
    "# loading the data from the csv file to apandas dataframe\n",
    "movies_data = pd.read_csv('movies.csv')"
   ]
  },
  {
   "cell_type": "code",
   "execution_count": 3,
   "metadata": {
    "ExecuteTime": {
     "end_time": "2022-11-07T12:05:56.736329Z",
     "start_time": "2022-11-07T12:05:56.706409Z"
    },
    "colab": {
     "base_uri": "https://localhost:8080/",
     "height": 741
    },
    "id": "cha03lDAIa6l",
    "outputId": "3b8cc985-0a70-4a45-f12e-86ec051466df"
   },
   "outputs": [
    {
     "data": {
      "text/html": [
       "<div>\n",
       "<style scoped>\n",
       "    .dataframe tbody tr th:only-of-type {\n",
       "        vertical-align: middle;\n",
       "    }\n",
       "\n",
       "    .dataframe tbody tr th {\n",
       "        vertical-align: top;\n",
       "    }\n",
       "\n",
       "    .dataframe thead th {\n",
       "        text-align: right;\n",
       "    }\n",
       "</style>\n",
       "<table border=\"1\" class=\"dataframe\">\n",
       "  <thead>\n",
       "    <tr style=\"text-align: right;\">\n",
       "      <th></th>\n",
       "      <th>index</th>\n",
       "      <th>budget</th>\n",
       "      <th>genres</th>\n",
       "      <th>homepage</th>\n",
       "      <th>id</th>\n",
       "      <th>keywords</th>\n",
       "      <th>original_language</th>\n",
       "      <th>original_title</th>\n",
       "      <th>overview</th>\n",
       "      <th>popularity</th>\n",
       "      <th>...</th>\n",
       "      <th>runtime</th>\n",
       "      <th>spoken_languages</th>\n",
       "      <th>status</th>\n",
       "      <th>tagline</th>\n",
       "      <th>title</th>\n",
       "      <th>vote_average</th>\n",
       "      <th>vote_count</th>\n",
       "      <th>cast</th>\n",
       "      <th>crew</th>\n",
       "      <th>director</th>\n",
       "    </tr>\n",
       "  </thead>\n",
       "  <tbody>\n",
       "    <tr>\n",
       "      <th>0</th>\n",
       "      <td>0</td>\n",
       "      <td>237000000</td>\n",
       "      <td>Action Adventure Fantasy Science Fiction</td>\n",
       "      <td>http://www.avatarmovie.com/</td>\n",
       "      <td>19995</td>\n",
       "      <td>culture clash future space war space colony so...</td>\n",
       "      <td>en</td>\n",
       "      <td>Avatar</td>\n",
       "      <td>In the 22nd century, a paraplegic Marine is di...</td>\n",
       "      <td>150.437577</td>\n",
       "      <td>...</td>\n",
       "      <td>162.0</td>\n",
       "      <td>[{\"iso_639_1\": \"en\", \"name\": \"English\"}, {\"iso...</td>\n",
       "      <td>Released</td>\n",
       "      <td>Enter the World of Pandora.</td>\n",
       "      <td>Avatar</td>\n",
       "      <td>7.2</td>\n",
       "      <td>11800</td>\n",
       "      <td>Sam Worthington Zoe Saldana Sigourney Weaver S...</td>\n",
       "      <td>[{'name': 'Stephen E. Rivkin', 'gender': 0, 'd...</td>\n",
       "      <td>James Cameron</td>\n",
       "    </tr>\n",
       "    <tr>\n",
       "      <th>1</th>\n",
       "      <td>1</td>\n",
       "      <td>300000000</td>\n",
       "      <td>Adventure Fantasy Action</td>\n",
       "      <td>http://disney.go.com/disneypictures/pirates/</td>\n",
       "      <td>285</td>\n",
       "      <td>ocean drug abuse exotic island east india trad...</td>\n",
       "      <td>en</td>\n",
       "      <td>Pirates of the Caribbean: At World's End</td>\n",
       "      <td>Captain Barbossa, long believed to be dead, ha...</td>\n",
       "      <td>139.082615</td>\n",
       "      <td>...</td>\n",
       "      <td>169.0</td>\n",
       "      <td>[{\"iso_639_1\": \"en\", \"name\": \"English\"}]</td>\n",
       "      <td>Released</td>\n",
       "      <td>At the end of the world, the adventure begins.</td>\n",
       "      <td>Pirates of the Caribbean: At World's End</td>\n",
       "      <td>6.9</td>\n",
       "      <td>4500</td>\n",
       "      <td>Johnny Depp Orlando Bloom Keira Knightley Stel...</td>\n",
       "      <td>[{'name': 'Dariusz Wolski', 'gender': 2, 'depa...</td>\n",
       "      <td>Gore Verbinski</td>\n",
       "    </tr>\n",
       "    <tr>\n",
       "      <th>2</th>\n",
       "      <td>2</td>\n",
       "      <td>245000000</td>\n",
       "      <td>Action Adventure Crime</td>\n",
       "      <td>http://www.sonypictures.com/movies/spectre/</td>\n",
       "      <td>206647</td>\n",
       "      <td>spy based on novel secret agent sequel mi6</td>\n",
       "      <td>en</td>\n",
       "      <td>Spectre</td>\n",
       "      <td>A cryptic message from Bond’s past sends him o...</td>\n",
       "      <td>107.376788</td>\n",
       "      <td>...</td>\n",
       "      <td>148.0</td>\n",
       "      <td>[{\"iso_639_1\": \"fr\", \"name\": \"Fran\\u00e7ais\"},...</td>\n",
       "      <td>Released</td>\n",
       "      <td>A Plan No One Escapes</td>\n",
       "      <td>Spectre</td>\n",
       "      <td>6.3</td>\n",
       "      <td>4466</td>\n",
       "      <td>Daniel Craig Christoph Waltz L\\u00e9a Seydoux ...</td>\n",
       "      <td>[{'name': 'Thomas Newman', 'gender': 2, 'depar...</td>\n",
       "      <td>Sam Mendes</td>\n",
       "    </tr>\n",
       "    <tr>\n",
       "      <th>3</th>\n",
       "      <td>3</td>\n",
       "      <td>250000000</td>\n",
       "      <td>Action Crime Drama Thriller</td>\n",
       "      <td>http://www.thedarkknightrises.com/</td>\n",
       "      <td>49026</td>\n",
       "      <td>dc comics crime fighter terrorist secret ident...</td>\n",
       "      <td>en</td>\n",
       "      <td>The Dark Knight Rises</td>\n",
       "      <td>Following the death of District Attorney Harve...</td>\n",
       "      <td>112.312950</td>\n",
       "      <td>...</td>\n",
       "      <td>165.0</td>\n",
       "      <td>[{\"iso_639_1\": \"en\", \"name\": \"English\"}]</td>\n",
       "      <td>Released</td>\n",
       "      <td>The Legend Ends</td>\n",
       "      <td>The Dark Knight Rises</td>\n",
       "      <td>7.6</td>\n",
       "      <td>9106</td>\n",
       "      <td>Christian Bale Michael Caine Gary Oldman Anne ...</td>\n",
       "      <td>[{'name': 'Hans Zimmer', 'gender': 2, 'departm...</td>\n",
       "      <td>Christopher Nolan</td>\n",
       "    </tr>\n",
       "    <tr>\n",
       "      <th>4</th>\n",
       "      <td>4</td>\n",
       "      <td>260000000</td>\n",
       "      <td>Action Adventure Science Fiction</td>\n",
       "      <td>http://movies.disney.com/john-carter</td>\n",
       "      <td>49529</td>\n",
       "      <td>based on novel mars medallion space travel pri...</td>\n",
       "      <td>en</td>\n",
       "      <td>John Carter</td>\n",
       "      <td>John Carter is a war-weary, former military ca...</td>\n",
       "      <td>43.926995</td>\n",
       "      <td>...</td>\n",
       "      <td>132.0</td>\n",
       "      <td>[{\"iso_639_1\": \"en\", \"name\": \"English\"}]</td>\n",
       "      <td>Released</td>\n",
       "      <td>Lost in our world, found in another.</td>\n",
       "      <td>John Carter</td>\n",
       "      <td>6.1</td>\n",
       "      <td>2124</td>\n",
       "      <td>Taylor Kitsch Lynn Collins Samantha Morton Wil...</td>\n",
       "      <td>[{'name': 'Andrew Stanton', 'gender': 2, 'depa...</td>\n",
       "      <td>Andrew Stanton</td>\n",
       "    </tr>\n",
       "  </tbody>\n",
       "</table>\n",
       "<p>5 rows × 24 columns</p>\n",
       "</div>"
      ],
      "text/plain": [
       "   index     budget                                    genres  \\\n",
       "0      0  237000000  Action Adventure Fantasy Science Fiction   \n",
       "1      1  300000000                  Adventure Fantasy Action   \n",
       "2      2  245000000                    Action Adventure Crime   \n",
       "3      3  250000000               Action Crime Drama Thriller   \n",
       "4      4  260000000          Action Adventure Science Fiction   \n",
       "\n",
       "                                       homepage      id  \\\n",
       "0                   http://www.avatarmovie.com/   19995   \n",
       "1  http://disney.go.com/disneypictures/pirates/     285   \n",
       "2   http://www.sonypictures.com/movies/spectre/  206647   \n",
       "3            http://www.thedarkknightrises.com/   49026   \n",
       "4          http://movies.disney.com/john-carter   49529   \n",
       "\n",
       "                                            keywords original_language  \\\n",
       "0  culture clash future space war space colony so...                en   \n",
       "1  ocean drug abuse exotic island east india trad...                en   \n",
       "2         spy based on novel secret agent sequel mi6                en   \n",
       "3  dc comics crime fighter terrorist secret ident...                en   \n",
       "4  based on novel mars medallion space travel pri...                en   \n",
       "\n",
       "                             original_title  \\\n",
       "0                                    Avatar   \n",
       "1  Pirates of the Caribbean: At World's End   \n",
       "2                                   Spectre   \n",
       "3                     The Dark Knight Rises   \n",
       "4                               John Carter   \n",
       "\n",
       "                                            overview  popularity  ... runtime  \\\n",
       "0  In the 22nd century, a paraplegic Marine is di...  150.437577  ...   162.0   \n",
       "1  Captain Barbossa, long believed to be dead, ha...  139.082615  ...   169.0   \n",
       "2  A cryptic message from Bond’s past sends him o...  107.376788  ...   148.0   \n",
       "3  Following the death of District Attorney Harve...  112.312950  ...   165.0   \n",
       "4  John Carter is a war-weary, former military ca...   43.926995  ...   132.0   \n",
       "\n",
       "                                    spoken_languages    status  \\\n",
       "0  [{\"iso_639_1\": \"en\", \"name\": \"English\"}, {\"iso...  Released   \n",
       "1           [{\"iso_639_1\": \"en\", \"name\": \"English\"}]  Released   \n",
       "2  [{\"iso_639_1\": \"fr\", \"name\": \"Fran\\u00e7ais\"},...  Released   \n",
       "3           [{\"iso_639_1\": \"en\", \"name\": \"English\"}]  Released   \n",
       "4           [{\"iso_639_1\": \"en\", \"name\": \"English\"}]  Released   \n",
       "\n",
       "                                          tagline  \\\n",
       "0                     Enter the World of Pandora.   \n",
       "1  At the end of the world, the adventure begins.   \n",
       "2                           A Plan No One Escapes   \n",
       "3                                 The Legend Ends   \n",
       "4            Lost in our world, found in another.   \n",
       "\n",
       "                                      title vote_average vote_count  \\\n",
       "0                                    Avatar          7.2      11800   \n",
       "1  Pirates of the Caribbean: At World's End          6.9       4500   \n",
       "2                                   Spectre          6.3       4466   \n",
       "3                     The Dark Knight Rises          7.6       9106   \n",
       "4                               John Carter          6.1       2124   \n",
       "\n",
       "                                                cast  \\\n",
       "0  Sam Worthington Zoe Saldana Sigourney Weaver S...   \n",
       "1  Johnny Depp Orlando Bloom Keira Knightley Stel...   \n",
       "2  Daniel Craig Christoph Waltz L\\u00e9a Seydoux ...   \n",
       "3  Christian Bale Michael Caine Gary Oldman Anne ...   \n",
       "4  Taylor Kitsch Lynn Collins Samantha Morton Wil...   \n",
       "\n",
       "                                                crew           director  \n",
       "0  [{'name': 'Stephen E. Rivkin', 'gender': 0, 'd...      James Cameron  \n",
       "1  [{'name': 'Dariusz Wolski', 'gender': 2, 'depa...     Gore Verbinski  \n",
       "2  [{'name': 'Thomas Newman', 'gender': 2, 'depar...         Sam Mendes  \n",
       "3  [{'name': 'Hans Zimmer', 'gender': 2, 'departm...  Christopher Nolan  \n",
       "4  [{'name': 'Andrew Stanton', 'gender': 2, 'depa...     Andrew Stanton  \n",
       "\n",
       "[5 rows x 24 columns]"
      ]
     },
     "execution_count": 3,
     "metadata": {},
     "output_type": "execute_result"
    }
   ],
   "source": [
    "# printing the first 5 rows of the dataframe\n",
    "movies_data.head()"
   ]
  },
  {
   "cell_type": "code",
   "execution_count": 4,
   "metadata": {
    "ExecuteTime": {
     "end_time": "2022-11-07T12:06:04.942573Z",
     "start_time": "2022-11-07T12:06:04.936587Z"
    },
    "colab": {
     "base_uri": "https://localhost:8080/"
    },
    "id": "Qrtr0oQbIjwF",
    "outputId": "c01323df-5e7f-44ab-a26c-582b1c0f5abb"
   },
   "outputs": [
    {
     "data": {
      "text/plain": [
       "(4803, 24)"
      ]
     },
     "execution_count": 4,
     "metadata": {},
     "output_type": "execute_result"
    }
   ],
   "source": [
    "# number of rows and columns in the data frame\n",
    "movies_data.shape"
   ]
  },
  {
   "cell_type": "code",
   "execution_count": 5,
   "metadata": {
    "ExecuteTime": {
     "end_time": "2022-11-07T12:06:06.144865Z",
     "start_time": "2022-11-07T12:06:06.134619Z"
    },
    "colab": {
     "base_uri": "https://localhost:8080/"
    },
    "id": "hunvyruUJhVq",
    "outputId": "2c7d6753-ee70-4e37-92a8-05fe7c6d4921"
   },
   "outputs": [
    {
     "name": "stdout",
     "output_type": "stream",
     "text": [
      "['genres', 'keywords', 'tagline', 'cast', 'director']\n"
     ]
    }
   ],
   "source": [
    "# selecting the relevant features for recommendation\n",
    "selected_features = ['genres','keywords','tagline','cast','director']\n",
    "print(selected_features)"
   ]
  },
  {
   "cell_type": "code",
   "execution_count": 6,
   "metadata": {
    "ExecuteTime": {
     "end_time": "2022-11-07T12:06:07.269546Z",
     "start_time": "2022-11-07T12:06:07.260201Z"
    },
    "id": "CKIVE6OWKSYk"
   },
   "outputs": [],
   "source": [
    "# replacing the null valuess with null string\n",
    "for feature in selected_features:\n",
    "    movies_data[feature] = movies_data[feature].fillna('')"
   ]
  },
  {
   "cell_type": "code",
   "execution_count": 7,
   "metadata": {
    "ExecuteTime": {
     "end_time": "2022-11-07T12:06:08.727998Z",
     "start_time": "2022-11-07T12:06:08.713509Z"
    },
    "id": "-AMjrRItLCO1"
   },
   "outputs": [],
   "source": [
    "# combining all the 5 selected features\n",
    "combined_features = movies_data['genres']+' '+movies_data['keywords']+' '+movies_data['tagline']+' '+movies_data['cast']+' '+movies_data['director']"
   ]
  },
  {
   "cell_type": "code",
   "execution_count": 8,
   "metadata": {
    "ExecuteTime": {
     "end_time": "2022-11-07T12:06:09.953812Z",
     "start_time": "2022-11-07T12:06:09.946320Z"
    },
    "colab": {
     "base_uri": "https://localhost:8080/"
    },
    "id": "ZYjFXx3aLwTh",
    "outputId": "7639c9e1-8011-4904-d794-274558043c94"
   },
   "outputs": [
    {
     "name": "stdout",
     "output_type": "stream",
     "text": [
      "0       Action Adventure Fantasy Science Fiction cultu...\n",
      "1       Adventure Fantasy Action ocean drug abuse exot...\n",
      "2       Action Adventure Crime spy based on novel secr...\n",
      "3       Action Crime Drama Thriller dc comics crime fi...\n",
      "4       Action Adventure Science Fiction based on nove...\n",
      "                              ...                        \n",
      "4798    Action Crime Thriller united states\\u2013mexic...\n",
      "4799    Comedy Romance  A newlywed couple's honeymoon ...\n",
      "4800    Comedy Drama Romance TV Movie date love at fir...\n",
      "4801      A New Yorker in Shanghai Daniel Henney Eliza...\n",
      "4802    Documentary obsession camcorder crush dream gi...\n",
      "Length: 4803, dtype: object\n"
     ]
    }
   ],
   "source": [
    "print(combined_features)"
   ]
  },
  {
   "cell_type": "code",
   "execution_count": 9,
   "metadata": {
    "ExecuteTime": {
     "end_time": "2022-11-07T12:06:11.127435Z",
     "start_time": "2022-11-07T12:06:11.114198Z"
    },
    "id": "BfuttC_gLyfF"
   },
   "outputs": [],
   "source": [
    "# converting the text data to feature vectors\n",
    "vectorizer = TfidfVectorizer()"
   ]
  },
  {
   "cell_type": "code",
   "execution_count": 10,
   "metadata": {
    "ExecuteTime": {
     "end_time": "2022-11-07T12:06:12.432006Z",
     "start_time": "2022-11-07T12:06:12.302567Z"
    },
    "id": "Leo5rQskMKxL"
   },
   "outputs": [],
   "source": [
    "feature_vectors = vectorizer.fit_transform(combined_features)"
   ]
  },
  {
   "cell_type": "code",
   "execution_count": 11,
   "metadata": {
    "ExecuteTime": {
     "end_time": "2022-11-07T12:06:13.744950Z",
     "start_time": "2022-11-07T12:06:13.733351Z"
    },
    "colab": {
     "base_uri": "https://localhost:8080/"
    },
    "id": "qNbeeMSnMb2F",
    "outputId": "d027db64-6879-4086-ad68-b333dd258d25"
   },
   "outputs": [
    {
     "name": "stdout",
     "output_type": "stream",
     "text": [
      "  (0, 2432)\t0.17272411194153\n",
      "  (0, 7755)\t0.1128035714854756\n",
      "  (0, 13024)\t0.1942362060108871\n",
      "  (0, 10229)\t0.16058685400095302\n",
      "  (0, 8756)\t0.22709015857011816\n",
      "  (0, 14608)\t0.15150672398763912\n",
      "  (0, 16668)\t0.19843263965100372\n",
      "  (0, 14064)\t0.20596090415084142\n",
      "  (0, 13319)\t0.2177470539412484\n",
      "  (0, 17290)\t0.20197912553916567\n",
      "  (0, 17007)\t0.23643326319898797\n",
      "  (0, 13349)\t0.15021264094167086\n",
      "  (0, 11503)\t0.27211310056983656\n",
      "  (0, 11192)\t0.09049319826481456\n",
      "  (0, 16998)\t0.1282126322850579\n",
      "  (0, 15261)\t0.07095833561276566\n",
      "  (0, 4945)\t0.24025852494110758\n",
      "  (0, 14271)\t0.21392179219912877\n",
      "  (0, 3225)\t0.24960162956997736\n",
      "  (0, 16587)\t0.12549432354918996\n",
      "  (0, 14378)\t0.33962752210959823\n",
      "  (0, 5836)\t0.1646750903586285\n",
      "  (0, 3065)\t0.22208377802661425\n",
      "  (0, 3678)\t0.21392179219912877\n",
      "  (0, 5437)\t0.1036413987316636\n",
      "  :\t:\n",
      "  (4801, 17266)\t0.2886098184932947\n",
      "  (4801, 4835)\t0.24713765026963996\n",
      "  (4801, 403)\t0.17727585190343226\n",
      "  (4801, 6935)\t0.2886098184932947\n",
      "  (4801, 11663)\t0.21557500762727902\n",
      "  (4801, 1672)\t0.1564793427630879\n",
      "  (4801, 10929)\t0.13504166990041588\n",
      "  (4801, 7474)\t0.11307961713172225\n",
      "  (4801, 3796)\t0.3342808988877418\n",
      "  (4802, 6996)\t0.5700048226105303\n",
      "  (4802, 5367)\t0.22969114490410403\n",
      "  (4802, 3654)\t0.262512960498006\n",
      "  (4802, 2425)\t0.24002350969074696\n",
      "  (4802, 4608)\t0.24002350969074696\n",
      "  (4802, 6417)\t0.21753405888348784\n",
      "  (4802, 4371)\t0.1538239182675544\n",
      "  (4802, 12989)\t0.1696476532191718\n",
      "  (4802, 1316)\t0.1960747079005741\n",
      "  (4802, 4528)\t0.19504460807622875\n",
      "  (4802, 3436)\t0.21753405888348784\n",
      "  (4802, 6155)\t0.18056463596934083\n",
      "  (4802, 4980)\t0.16078053641367315\n",
      "  (4802, 2129)\t0.3099656128577656\n",
      "  (4802, 4518)\t0.16784466610624255\n",
      "  (4802, 11161)\t0.17867407682173203\n"
     ]
    }
   ],
   "source": [
    "print(feature_vectors)"
   ]
  },
  {
   "cell_type": "markdown",
   "metadata": {
    "id": "qEGga5yPMnXO"
   },
   "source": [
    "# Cosine Similarity"
   ]
  },
  {
   "cell_type": "code",
   "execution_count": 12,
   "metadata": {
    "ExecuteTime": {
     "end_time": "2022-11-07T12:06:20.828118Z",
     "start_time": "2022-11-07T12:06:20.471926Z"
    },
    "id": "MsKYCs31MeB6"
   },
   "outputs": [],
   "source": [
    "# getting the similarity scores using cosine similarity\n",
    "similarity = cosine_similarity(feature_vectors)"
   ]
  },
  {
   "cell_type": "code",
   "execution_count": 13,
   "metadata": {
    "ExecuteTime": {
     "end_time": "2022-11-07T12:06:22.169340Z",
     "start_time": "2022-11-07T12:06:22.151168Z"
    },
    "colab": {
     "base_uri": "https://localhost:8080/"
    },
    "id": "46ha1PfTM-oQ",
    "outputId": "44407f14-2d52-436e-a815-e933ec75b4df"
   },
   "outputs": [
    {
     "name": "stdout",
     "output_type": "stream",
     "text": [
      "[[1.         0.07219487 0.037733   ... 0.         0.         0.        ]\n",
      " [0.07219487 1.         0.03281499 ... 0.03575545 0.         0.        ]\n",
      " [0.037733   0.03281499 1.         ... 0.         0.05389661 0.        ]\n",
      " ...\n",
      " [0.         0.03575545 0.         ... 1.         0.         0.02651502]\n",
      " [0.         0.         0.05389661 ... 0.         1.         0.        ]\n",
      " [0.         0.         0.         ... 0.02651502 0.         1.        ]]\n"
     ]
    }
   ],
   "source": [
    "print(similarity)"
   ]
  },
  {
   "cell_type": "code",
   "execution_count": 14,
   "metadata": {
    "ExecuteTime": {
     "end_time": "2022-11-07T12:06:23.125209Z",
     "start_time": "2022-11-07T12:06:23.122177Z"
    },
    "colab": {
     "base_uri": "https://localhost:8080/"
    },
    "id": "PLkvII-wM_5I",
    "outputId": "de638c77-1595-4d1a-f8d2-db6a3c1aabf0"
   },
   "outputs": [
    {
     "name": "stdout",
     "output_type": "stream",
     "text": [
      "(4803, 4803)\n"
     ]
    }
   ],
   "source": [
    "print(similarity.shape)"
   ]
  },
  {
   "cell_type": "markdown",
   "metadata": {
    "id": "EG3JItMUWeDD"
   },
   "source": [
    "# Getting the movie name from the user"
   ]
  },
  {
   "cell_type": "code",
   "execution_count": 21,
   "metadata": {
    "ExecuteTime": {
     "end_time": "2022-11-07T12:07:52.980765Z",
     "start_time": "2022-11-07T12:07:48.110231Z"
    },
    "colab": {
     "base_uri": "https://localhost:8080/"
    },
    "id": "bhSWJgqgNDo7",
    "outputId": "844a3764-cab2-455a-b418-9d8435c6be2b"
   },
   "outputs": [
    {
     "name": "stdout",
     "output_type": "stream",
     "text": [
      " Enter your favourite movie name : 500 days of summer\n"
     ]
    }
   ],
   "source": [
    "# getting the movie name from the user\n",
    "movie_name = input(' Enter your favourite movie name : ')"
   ]
  },
  {
   "cell_type": "code",
   "execution_count": 22,
   "metadata": {
    "ExecuteTime": {
     "end_time": "2022-11-07T12:07:53.699015Z",
     "start_time": "2022-11-07T12:07:53.691831Z"
    },
    "colab": {
     "base_uri": "https://localhost:8080/"
    },
    "id": "VQ8Qvu8vNj4U",
    "outputId": "37234fc1-b609-4aeb-b739-d2da20b344a5"
   },
   "outputs": [
    {
     "name": "stdout",
     "output_type": "stream",
     "text": [
      "['Avatar', \"Pirates of the Caribbean: At World's End\", 'Spectre', 'The Dark Knight Rises', 'John Carter', 'Spider-Man 3', 'Tangled', 'Avengers: Age of Ultron', 'Harry Potter and the Half-Blood Prince', 'Batman v Superman: Dawn of Justice', 'Superman Returns', 'Quantum of Solace', \"Pirates of the Caribbean: Dead Man's Chest\", 'The Lone Ranger', 'Man of Steel', 'The Chronicles of Narnia: Prince Caspian', 'The Avengers', 'Pirates of the Caribbean: On Stranger Tides', 'Men in Black 3', 'The Hobbit: The Battle of the Five Armies', 'The Amazing Spider-Man', 'Robin Hood', 'The Hobbit: The Desolation of Smaug', 'The Golden Compass', 'King Kong', 'Titanic', 'Captain America: Civil War', 'Battleship', 'Jurassic World', 'Skyfall', 'Spider-Man 2', 'Iron Man 3', 'Alice in Wonderland', 'X-Men: The Last Stand', 'Monsters University', 'Transformers: Revenge of the Fallen', 'Transformers: Age of Extinction', 'Oz: The Great and Powerful', 'The Amazing Spider-Man 2', 'TRON: Legacy', 'Cars 2', 'Green Lantern', 'Toy Story 3', 'Terminator Salvation', 'Furious 7', 'World War Z', 'X-Men: Days of Future Past', 'Star Trek Into Darkness', 'Jack the Giant Slayer', 'The Great Gatsby', 'Prince of Persia: The Sands of Time', 'Pacific Rim', 'Transformers: Dark of the Moon', 'Indiana Jones and the Kingdom of the Crystal Skull', 'The Good Dinosaur', 'Brave', 'Star Trek Beyond', 'WALL·E', 'Rush Hour 3', '2012', 'A Christmas Carol', 'Jupiter Ascending', 'The Legend of Tarzan', 'The Chronicles of Narnia: The Lion, the Witch and the Wardrobe', 'X-Men: Apocalypse', 'The Dark Knight', 'Up', 'Monsters vs Aliens', 'Iron Man', 'Hugo', 'Wild Wild West', 'The Mummy: Tomb of the Dragon Emperor', 'Suicide Squad', 'Evan Almighty', 'Edge of Tomorrow', 'Waterworld', 'G.I. Joe: The Rise of Cobra', 'Inside Out', 'The Jungle Book', 'Iron Man 2', 'Snow White and the Huntsman', 'Maleficent', 'Dawn of the Planet of the Apes', 'The Lovers', '47 Ronin', 'Captain America: The Winter Soldier', 'Shrek Forever After', 'Tomorrowland', 'Big Hero 6', 'Wreck-It Ralph', 'The Polar Express', 'Independence Day: Resurgence', 'How to Train Your Dragon', 'Terminator 3: Rise of the Machines', 'Guardians of the Galaxy', 'Interstellar', 'Inception', 'Shin Godzilla', 'The Hobbit: An Unexpected Journey', 'The Fast and the Furious', 'The Curious Case of Benjamin Button', 'X-Men: First Class', 'The Hunger Games: Mockingjay - Part 2', \"The Sorcerer's Apprentice\", 'Poseidon', 'Alice Through the Looking Glass', 'Shrek the Third', 'Warcraft', 'Terminator Genisys', 'The Chronicles of Narnia: The Voyage of the Dawn Treader', 'Pearl Harbor', 'Transformers', 'Alexander', 'Harry Potter and the Order of the Phoenix', 'Harry Potter and the Goblet of Fire', 'Hancock', 'I Am Legend', 'Charlie and the Chocolate Factory', 'Ratatouille', 'Batman Begins', 'Madagascar: Escape 2 Africa', 'Night at the Museum: Battle of the Smithsonian', 'X-Men Origins: Wolverine', 'The Matrix Revolutions', 'Frozen', 'The Matrix Reloaded', 'Thor: The Dark World', 'Mad Max: Fury Road', 'Angels & Demons', 'Thor', 'Bolt', 'G-Force', 'Wrath of the Titans', 'Dark Shadows', 'Mission: Impossible - Rogue Nation', 'The Wolfman', 'Bee Movie', 'Kung Fu Panda 2', 'The Last Airbender', 'Mission: Impossible III', 'White House Down', 'Mars Needs Moms', 'Flushed Away', 'Pan', 'Mr. Peabody & Sherman', 'Troy', \"Madagascar 3: Europe's Most Wanted\", 'Die Another Day', 'Ghostbusters', 'Armageddon', 'Men in Black II', 'Beowulf', 'Kung Fu Panda 3', 'Mission: Impossible - Ghost Protocol', 'Rise of the Guardians', 'Fun with Dick and Jane', 'The Last Samurai', 'Exodus: Gods and Kings', 'Star Trek', 'Spider-Man', 'How to Train Your Dragon 2', 'Gods of Egypt', 'Stealth', 'Watchmen', 'Lethal Weapon 4', 'Hulk', 'G.I. Joe: Retaliation', 'Sahara', 'Final Fantasy: The Spirits Within', 'Captain America: The First Avenger', 'The World Is Not Enough', 'Master and Commander: The Far Side of the World', 'The Twilight Saga: Breaking Dawn - Part 2', 'Happy Feet Two', 'The Incredible Hulk', 'The BFG', 'The Revenant', 'Turbo', 'Rango', 'Penguins of Madagascar', 'The Bourne Ultimatum', 'Kung Fu Panda', 'Ant-Man', 'The Hunger Games: Catching Fire', 'Home', 'War of the Worlds', 'Bad Boys II', 'Puss in Boots', 'Salt', 'Noah', 'The Adventures of Tintin', 'Harry Potter and the Prisoner of Azkaban', 'Australia', 'After Earth', 'Dinosaur', 'Night at the Museum: Secret of the Tomb', 'Megamind', \"Harry Potter and the Philosopher's Stone\", 'R.I.P.D.', 'Pirates of the Caribbean: The Curse of the Black Pearl', 'The Hunger Games: Mockingjay - Part 1', 'The Da Vinci Code', 'Rio 2', 'X2', 'Fast Five', 'Sherlock Holmes: A Game of Shadows', 'Clash of the Titans', 'Total Recall', 'The 13th Warrior', 'The Bourne Legacy', 'Batman & Robin', 'How the Grinch Stole Christmas', 'The Day After Tomorrow', 'Mission: Impossible II', 'The Perfect Storm', 'Fantastic 4: Rise of the Silver Surfer', 'Life of Pi', 'Ghost Rider', 'Jason Bourne', \"Charlie's Angels: Full Throttle\", 'Prometheus', 'Stuart Little 2', 'Elysium', 'The Chronicles of Riddick', 'RoboCop', 'Speed Racer', 'How Do You Know', 'Knight and Day', 'Oblivion', 'Star Wars: Episode III - Revenge of the Sith', 'Star Wars: Episode II - Attack of the Clones', 'Monsters, Inc.', 'The Wolverine', 'Star Wars: Episode I - The Phantom Menace', 'The Croods', 'Asterix at the Olympic Games', 'Windtalkers', \"The Huntsman: Winter's War\", 'Teenage Mutant Ninja Turtles', 'Gravity', \"Dante's Peak\", 'Teenage Mutant Ninja Turtles: Out of the Shadows', 'Fantastic Four', 'Night at the Museum', 'San Andreas', 'Tomorrow Never Dies', 'The Patriot', \"Ocean's Twelve\", 'Mr. & Mrs. Smith', 'Insurgent', 'The Aviator', \"Gulliver's Travels\", 'The Green Hornet', '300: Rise of an Empire', 'The Smurfs', 'Home on the Range', 'Allegiant', 'Real Steel', 'The Smurfs 2', 'Speed 2: Cruise Control', \"Ender's Game\", 'Live Free or Die Hard', 'The Lord of the Rings: The Fellowship of the Ring', 'Around the World in 80 Days', 'Ali', 'The Cat in the Hat', 'I, Robot', 'Kingdom of Heaven', 'Stuart Little', 'The Princess and the Frog', 'The Martian', 'The Island', 'Town & Country', 'Gone in Sixty Seconds', 'Gladiator', 'Minority Report', 'Harry Potter and the Chamber of Secrets', 'Casino Royale', 'Planet of the Apes', 'Terminator 2: Judgment Day', 'Public Enemies', 'American Gangster', 'True Lies', 'The Taking of Pelham 1 2 3', 'Little Fockers', 'The Other Guys', 'Eraser', 'Django Unchained', 'The Hunchback of Notre Dame', \"The Emperor's New Groove\", 'The Expendables 2', 'National Treasure', 'Eragon', 'Where the Wild Things Are', 'Epic', 'The Tourist', 'End of Days', 'Blood Diamond', 'The Wolf of Wall Street', 'Batman Forever', 'Starship Troopers', 'Cloud Atlas', \"Legend of the Guardians: The Owls of Ga'Hoole\", 'Catwoman', 'Hercules', 'Treasure Planet', 'Land of the Lost', 'The Expendables 3', 'Point Break', 'Son of the Mask', 'In the Heart of the Sea', 'The Adventures of Pluto Nash', 'Green Zone', 'The Peanuts Movie', 'The Spanish Prisoner', 'The Mummy Returns', 'Gangs of New York', 'The Flowers of War', \"Surf's Up\", 'The Stepford Wives', 'Black Hawk Down', 'The Campaign', 'The Fifth Element', 'Sex and the City 2', 'The Road to El Dorado', 'Ice Age: Continental Drift', 'Cinderella', 'The Lovely Bones', 'Finding Nemo', 'The Lord of the Rings: The Return of the King', 'The Lord of the Rings: The Two Towers', 'Seventh Son', 'Lara Croft: Tomb Raider', 'Transcendence', 'Jurassic Park III', 'Rise of the Planet of the Apes', 'The Spiderwick Chronicles', 'A Good Day to Die Hard', 'The Alamo', 'The Incredibles', 'Cutthroat Island', 'Percy Jackson & the Olympians: The Lightning Thief', 'Men in Black', 'Toy Story 2', 'Unstoppable', 'Rush Hour 2', 'What Lies Beneath', 'Cloudy with a Chance of Meatballs', 'Ice Age: Dawn of the Dinosaurs', 'The Secret Life of Walter Mitty', \"Charlie's Angels\", 'The Departed', 'Mulan', 'Tropic Thunder', 'The Girl with the Dragon Tattoo', 'Die Hard: With a Vengeance', 'Sherlock Holmes', 'Ben-Hur', 'Atlantis: The Lost Empire', 'Alvin and the Chipmunks: The Road Chip', 'Valkyrie', \"You Don't Mess with the Zohan\", 'Pixels', 'A.I. Artificial Intelligence', 'The Haunted Mansion', 'Contact', 'Hollow Man', 'The Interpreter', 'Percy Jackson: Sea of Monsters', 'Lara Croft Tomb Raider: The Cradle of Life', 'Now You See Me 2', 'The Saint', 'Spy Game', 'Mission to Mars', 'Rio', 'Bicentennial Man', 'Volcano', \"The Devil's Own\", 'K-19: The Widowmaker', 'Conan the Barbarian', 'Cinderella Man', 'The Nutcracker: The Untold Story', 'Seabiscuit', 'Twister', 'Cast Away', 'Happy Feet', 'The Bourne Supremacy', 'Air Force One', \"Ocean's Eleven\", 'The Three Musketeers', 'Hotel Transylvania', 'Enchanted', 'Safe House', '102 Dalmatians', 'Tower Heist', 'The Holiday', 'Enemy of the State', \"It's Complicated\", \"Ocean's Thirteen\", 'Open Season', 'Divergent', 'Enemy at the Gates', 'The Rundown', 'Last Action Hero', 'Memoirs of a Geisha', 'The Fast and the Furious: Tokyo Drift', 'Arthur Christmas', 'Meet Joe Black', 'Collateral Damage', 'All That Jazz', 'Mirror Mirror', 'Scott Pilgrim vs. the World', 'The Core', 'Nutty Professor II: The Klumps', 'Scooby-Doo', 'Dredd', 'Click', 'Creepshow', 'Cats & Dogs 2 : The Revenge of Kitty Galore', 'Jumper', 'Hellboy II: The Golden Army', 'Zodiac', 'The 6th Day', 'Bruce Almighty', 'The Expendables', 'Mission: Impossible', 'The Hunger Games', 'The Hangover Part II', 'Batman Returns', 'Over the Hedge', 'Lilo & Stitch', \"Charlotte's Web\", 'Deep Impact', 'RED 2', 'The Longest Yard', 'Alvin and the Chipmunks: Chipwrecked', 'Grown Ups 2', 'Get Smart', \"Something's Gotta Give\", 'Shutter Island', 'Four Christmases', 'Robots', 'Face/Off', 'Bedtime Stories', 'Road to Perdition', 'Just Go with It', 'Con Air', 'Eagle Eye', 'Cold Mountain', 'The Book of Eli', 'Flubber', 'The Haunting', 'Space Jam', 'The Pink Panther', 'The Day the Earth Stood Still', 'Conspiracy Theory', 'Fury', 'Six Days Seven Nights', 'Yogi Bear', 'Spirit: Stallion of the Cimarron', 'Zookeeper', 'Lost in"
     ]
    },
    {
     "data": {
      "text/html": [
       "<b>limit_output extension: Maximum message size of 10000 exceeded with 92935 characters</b>"
      ]
     },
     "metadata": {},
     "output_type": "display_data"
    }
   ],
   "source": [
    "# creating a list with all the movie names given in the dataset\n",
    "list_of_all_titles = movies_data['title'].tolist()\n",
    "print(list_of_all_titles)"
   ]
  },
  {
   "cell_type": "code",
   "execution_count": 23,
   "metadata": {
    "ExecuteTime": {
     "end_time": "2022-11-07T12:07:54.440529Z",
     "start_time": "2022-11-07T12:07:54.399031Z"
    },
    "colab": {
     "base_uri": "https://localhost:8080/"
    },
    "id": "u1HTkBLIOBjf",
    "outputId": "2e25e165-51f8-4370-de21-1005adbb1660"
   },
   "outputs": [
    {
     "name": "stdout",
     "output_type": "stream",
     "text": [
      "['(500) Days of Summer', '5 Days of War', 'Days of Thunder']\n"
     ]
    }
   ],
   "source": [
    "# finding the close match for the movie name given by the user\n",
    "find_close_match = difflib.get_close_matches(movie_name, list_of_all_titles)\n",
    "print(find_close_match)"
   ]
  },
  {
   "cell_type": "code",
   "execution_count": 24,
   "metadata": {
    "ExecuteTime": {
     "end_time": "2022-11-07T12:07:55.082517Z",
     "start_time": "2022-11-07T12:07:55.068443Z"
    },
    "colab": {
     "base_uri": "https://localhost:8080/"
    },
    "id": "CgiC-enuOfXx",
    "outputId": "a9a746b0-7833-42aa-d826-3a07388b310b"
   },
   "outputs": [
    {
     "name": "stdout",
     "output_type": "stream",
     "text": [
      "(500) Days of Summer\n"
     ]
    }
   ],
   "source": [
    "close_match = find_close_match[0]\n",
    "print(close_match)"
   ]
  },
  {
   "cell_type": "code",
   "execution_count": 25,
   "metadata": {
    "ExecuteTime": {
     "end_time": "2022-11-07T12:07:55.750642Z",
     "start_time": "2022-11-07T12:07:55.738784Z"
    },
    "colab": {
     "base_uri": "https://localhost:8080/"
    },
    "id": "CNXJfY-FOw1I",
    "outputId": "14adcf60-d9f6-4afd-e404-629581ebf3a0"
   },
   "outputs": [
    {
     "name": "stdout",
     "output_type": "stream",
     "text": [
      "3339\n"
     ]
    }
   ],
   "source": [
    "# finding the index of the movie with title\n",
    "index_of_the_movie = movies_data[movies_data.title == close_match]['index'].values[0]\n",
    "print(index_of_the_movie)"
   ]
  },
  {
   "cell_type": "code",
   "execution_count": 26,
   "metadata": {
    "ExecuteTime": {
     "end_time": "2022-11-07T12:07:56.228375Z",
     "start_time": "2022-11-07T12:07:56.213174Z"
    },
    "colab": {
     "base_uri": "https://localhost:8080/"
    },
    "id": "dyUeQZpvPbkx",
    "outputId": "ec4ca9b9-d772-4b5f-8624-1d64d85fa703"
   },
   "outputs": [
    {
     "name": "stdout",
     "output_type": "stream",
     "text": [
      "[(0, 0.0), (1, 0.010828461009650677), (2, 0.0), (3, 0.003350557820522315), (4, 0.020936925313338205), (5, 0.049448079116291996), (6, 0.0), (7, 0.0), (8, 0.0), (9, 0.0), (10, 0.0), (11, 0.04097343615574676), (12, 0.0), (13, 0.0), (14, 0.0), (15, 0.0), (16, 0.0), (17, 0.038163645386261436), (18, 0.014170078991453734), (19, 0.0), (20, 0.08622717996028245), (21, 0.0), (22, 0.0), (23, 0.0), (24, 0.0028309254303484437), (25, 0.010201405923926378), (26, 0.0), (27, 0.023363702718104642), (28, 0.0), (29, 0.0), (30, 0.023339016984540238), (31, 0.0), (32, 0.04656795169642211), (33, 0.0), (34, 0.0), (35, 0.0), (36, 0.011617665861261704), (37, 0.024178108801309127), (38, 0.08836796114185505), (39, 0.02657289013854204), (40, 0.008647030361110634), (41, 0.010356271740025557), (42, 0.00407737802813399), (43, 0.0), (44, 0.0), (45, 0.033308245061231964), (46, 0.0), (47, 0.0), (48, 0.0), (49, 0.018724706759253085), (50, 0.006894323939813263), (51, 0.02105323530127965), (52, 0.0), (53, 0.0), (54, 0.0), (55, 0.004292826107717245), (56, 0.0), (57, 0.004538067732808438), (58, 0.004620151699330079), (59, 0.0), (60, 0.0031292716137890776), (61, 0.007110610925619779), (62, 0.0), (63, 0.0), (64, 0.0), (65, 0.0030597941337462036), (66, 0.01402331921386992), (67, 0.02647618354968983), (68, 0.0), (69, 0.13966628845124618), (70, 0.01602817757162433), (71, 0.0), (72, 0.0), (73, 0.00820998380125574), (74, 0.0), (75, 0.0), (76, 0.10164456408991437), (77, 0.0069221505901612326), (78, 0.0033082131702286736), (79, 0.011062905504776625), (80, 0.0032487805073316382), (81, 0.005498767803726099), (82, 0.0031639920796644946), (83, 0.0201193313757611), (84, 0.002435479715589904), (85, 0.011866626275133576), (86, 0.024386025826262262), (87, 0.0), (88, 0.015974921161829348), (89, 0.003499029538887065), (90, 0.0), (91, 0.0), (92, 0.0), (93, 0.0), (94, 0.0), (95, 0.0751703545826687), (96, 0.10030827912118817), (97, 0.002332488743206993), (98, 0.0), (99, 0.0), (100, 0.02997071191293312), (101, 0.024514535998191943), (102, 0.0), (103, 0.019858157942840286), (104, 0.003065751563390518), (105, 0.023221684269778442), (106, 0.004287704972532583), (107, 0.0), (108, 0.0), (109, 0.0), (110, 0.03850058071438381), (111, 0.0), (112, 0.024660619129359445), (113, 0.0), (114, 0.0), (115, 0.023882356088441137), (116, 0.0026975492400902624), (117, 0.003729188319163448), (118, 0.0038034026760387436), (119, 0.0031577342758449143), (120, 0.0334006463806723), (121, 0.0038357945824884212), (122, 0.0), (123, 0.0), (124, 0.011021390122792232), (125, 0.0), (126, 0.0), (127, 0.0), (128, 0.0), (129, 0.0), (130, 0.014556486212049446), (131, 0.004396403486698926), (132, 0.0), (133, 0.004019752963935459), (134, 0.0), (135, 0.002708273855475607), (136, 0.023703140814570426), (137, 0.0), (138, 0.0), (139, 0.0), (140, 0.04584339704967274), (141, 0.0), (142, 0.004432898854262447), (143, 0.0), (144, 0.0), (145, 0.01271518742030299), (146, 0.0), (147, 0.0), (148, 0.004099420530308918), (149, 0.0), (150, 0.003932788239468617), (151, 0.0), (152, 0.003833668110032502), (153, 0.023932125734267944), (154, 0.0), (155, 0.0038727990058373277), (156, 0.020214592998699182), (157, 0.0031533422102583133), (158, 0.0), (159, 0.0), (160, 0.004103271915251888), (161, 0.023585090837275446), (162, 0.0), (163, 0.0), (164, 0.016780992910204476), (165, 0.0033158847777310777), (166, 0.0), (167, 0.030200581042155852), (168, 0.0), (169, 0.0), (170, 0.0), (171, 0.03598866183680724), (172, 0.016578545217190266), (173, 0.00488238802840995), (174, 0.0262839445246833), (175, 0.0), (176, 0.002759304579021401), (177, 0.0), (178, 0.013787826169708532), (179, 0.004214130540202816), (180, 0.0032164804169694757), (181, 0.004193052493093926), (182, 0.0), (183, 0.0), (184, 0.004551395966703917), (185, 0.0), (186, 0.0035500026861976517), (187, 0.024296640420674507), (188, 0.0), (189, 0.00330721056103715), (190, 0.0), (191, 0.0), (192, 0.0029962648027562966), (193, 0.03880421936396403), (194, 0.02802511844246285), (195, 0.0038406261215208136), (196, 0.04573745323690431), (197, 0.0), (198, 0.0041571977041546864), (199, 0.03476505704920032), (200, 0.011141170408419648), (201, 0.0), (202, 0.003920129074292062), (203, 0.0), (204, 0.0), (205, 0.0), (206, 0.0), (207, 0.011330694998227675), (208, 0.0), (209, 0.02261150621800231), (210, 0.0), (211, 0.027159365267876795), (212, 0.0), (213, 0.0), (214, 0.0030688747087173544), (215, 0.0), (216, 0.0027757164385781557), (217, 0.0), (218, 0.0), (219, 0.0045152572695423224), (220, 0.0), (221, 0.004306086174611113), (222, 0.003105681668287044), (223, 0.009766161886909304), (224, 0.0), (225, 0.02535363994411937), (226, 0.05838467681474196), (227, 0.0040208846574046435), (228, 0.02652872040136268), (229, 0.0), (230, 0.00974148481692536), (231, 0.0038172627185799964), (232, 0.0), (233, 0.0), (234, 0.004180991186722287), (235, 0.003772838049332475), (236, 0.025130494357694894), (237, 0.0027961957645745933), (238, 0.03062858227799444), (239, 0.012331373070531716), (240, 0.0), (241, 0.003950754347374652), (242, 0.0), (243, 0.0039942291092713205), (244, 0.002526627526142536), (245, 0.009272594099069298), (246, 0.0027902349798904925), (247, 0.0), (248, 0.007410368958174912), (249, 0.0), (250, 0.05440147115398716), (251, 0.017427295470375793), (252, 0.016558810731207563), (253, 0.0), (254, 0.0038089041462718723), (255, 0.0), (256, 0.03658863677706954), (257, 0.040286777550346375), (258, 0.003991849141807279), (259, 0.0), (260, 0.0), (261, 0.0), (262, 0.0), (263, 0.003966976223013631), (264, 0.058157043541980334), (265, 0.004026729420987173), (266, 0.0), (267, 0.011288069330668317), (268, 0.004130150557768399), (269, 0.017471814801699462), (270, 0.0032290432873170478), (271, 0.013574390954195584), (272, 0.06470010866052774), (273, 0.0), (274, 0.003212307685122715), (275, 0.011540984732509944), (276, 0.010795807061968237), (277, 0.0), (278, 0.0), (279, 0.013066673294746799), (280, 0.002912979249515624), (281, 0.0028623519372534983), (282, 0.0), (283, 0.012757210650972572), (284, 0.021923033382891928), (285, 0.013578345433618364), (286, 0.003011289911375325), (287, 0.002984359162543202), (288, 0.0036183293352216495), (289, 0.015585421869015015), (290, 0.011070192166678627), (291, 0.0), (292, 0.0), (293, 0.009823090872937881), (294, 0.0), (295, 0.025143022610074492), (296, 0.021517143997194062), (297, 0.01546122330302075), (298, 0.02899801867118399), (299, 0.0), (300, 0.0), (301, 0.003088008130910456), (302, 0.0), (303, 0.03161148176853445), (304, 0.041287124473442634), (305, 0.1111757847362737), (306, 0.0040944114243246866), (307, 0.0), (308, 0.0), (309, 0.004648281483350455), (310, 0.0029406712314372823), (311, 0.004247450577237793), (312, 0.0026254833466122997), (313, 0.0), (314, 0.02750367433966475), (315, 0.0), (316, 0.0365370380854814), (317, 0.0027388150144843884), (318, 0.08843347381812462), (319, 0.02842313763191343), (320, 0.0), (321, 0.0038897611517884935), (322, 0.012661360614217404), (323, 0.018948209537644665), (324, 0.027247700968552467), (325, 0.003013768000937415), (326, 0.010155349074684551), (327, 0.003152558304489729), (328, 0.008879354251693512), (329, 0.0), (330, 0.0), (331, 0.0), (332, 0.0), (333, 0.021664434165238868), (334, 0.021471864340240024), (335, 0.0029766337885854185), (336, 0.0), (337, 0.0), (338, 0.0), (339, 0.0), (340, 0.017486645759713943), (341, 0.0), (342, 0.0037141074973463203), (343, 0.004168674631367077), (344, 0.0), (345, 0.004548280920716793), (346, 0.022181475457613654), (347, 0.0047289220373848305), (348, 0.003998454914177606), (349, 0.00665154851311363), (350, 0.004797984648222808), (351, 0.01594411240580286), (352, 0.0), (353, 0.0033176882460421485), (354, 0.002909639772515952), (355, 0.0), (356, 0.0), (357, 0.0030203574305793825), (358, 0.0), (359, 0.1252042516629584), (360, 0.014751030543915434), (361, 0.003969315166269502), (362, 0.004381484081029142), (363, 0.010838196464968704), (364, 0.0035617979911281446), (365, 0.07170066685704571), (366, 0.0), (367, 0.0), (368, 0.0), (369, 0.0), (370, 0.004161014755821014), (371, 0.005613451361296079), (372, 0.0229698885894053), (373, 0.0), (374, 0.003603328801966593), (375, 0.003672257742035174), (376, 0.0028136933627527535), (377, 0.021302216284207545), (378, 0.0027441031302500004), (379, 0.0), (380, 0.03199633707789784), (381, 0.0), (382, 0.0029368118831712554), (383, 0.0028000884205532225), (384, 0.002933283127919503), (385, 0.003973349436859204), (386, 0.0031107664971673802), (387, 0.0), (388, 0.011302967403270671), (389, 0.03261757242468946), (390, 0.01631123546353332), (391, 0.010188351265968008), (392, 0.0), (393, 0.0031748100862108867), (394, 0.026944959032661194), (395, 0.01970141321203893), (396, 0.016106357208013348), (397, 0.01116237089070316), (398, 0.0), (399, 0.0), (400, 0.0), (401, 0.028798475231242703), (402, 0.029094622424479022), (403, 0.013760776524961982), (404, 0.025690292436994753), (405, 0.002327716614628709), (406, 0.01643646044578805), (407, 0.013678633523399769), (408, 0.00305110209812943), (409, 0.015039992234246728), (410, 0.0065752368411827085), (411, 0.02207048372941054), (412, 0.0), (413, 0.01148109643750274), (414, 0.025939397038876932), (415, 0.0), (416, 0.06590077819014706), (417, 0.0036226019968778845), (418, 0.034101075585255054), (419, 0.027636878093479336), (420, 0.0), (421, 0.003065643333593983), (422, 0.0), (423, 0.015659050112344773), (424, 0.0), (425, 0.0), (426, 0.010073752988484059), (427, 0.004095665213589336), (428, 0.0), (429, 0.0034956654404679805), (430, 0.0), (431, 0.004021863983350735), (432, 0.009917238046124838), (433, 0.0044618353716281344), (434, 0.007425548165873087), (435, 0.016723820613946283), (436, 0.004338217296398544), (437, 0.01804907533840717), (438, 0.015641673100091884), (439, 0.0032967912426486393), (440, 0.05422795974412876), (441, 0.003934422731825659), (442, 0.0091926481445966), (443, 0.009979354571058346), (444, 0.012143020966263766), (445, 0.010361435832984408), (446, 0.0), (447, 0.0), (448, 0.02110914871613289), (449, 0.022407548621054894), (450"
     ]
    },
    {
     "data": {
      "text/html": [
       "<b>limit_output extension: Maximum message size of 10000 exceeded with 126981 characters</b>"
      ]
     },
     "metadata": {},
     "output_type": "display_data"
    }
   ],
   "source": [
    "# getting a list of similar movies\n",
    "similarity_score = list(enumerate(similarity[index_of_the_movie]))\n",
    "print(similarity_score)"
   ]
  },
  {
   "cell_type": "code",
   "execution_count": 27,
   "metadata": {
    "ExecuteTime": {
     "end_time": "2022-11-07T12:07:56.698100Z",
     "start_time": "2022-11-07T12:07:56.687160Z"
    },
    "colab": {
     "base_uri": "https://localhost:8080/"
    },
    "id": "mMrxw-leQNtP",
    "outputId": "39a3002d-9c35-42a0-a78b-7d0a8d50376c"
   },
   "outputs": [
    {
     "data": {
      "text/plain": [
       "4803"
      ]
     },
     "execution_count": 27,
     "metadata": {},
     "output_type": "execute_result"
    }
   ],
   "source": [
    "len(similarity_score)"
   ]
  },
  {
   "cell_type": "code",
   "execution_count": 28,
   "metadata": {
    "ExecuteTime": {
     "end_time": "2022-11-07T12:07:57.246300Z",
     "start_time": "2022-11-07T12:07:57.231341Z"
    },
    "colab": {
     "base_uri": "https://localhost:8080/"
    },
    "id": "SkXgFLePQkHL",
    "outputId": "54171e01-edf3-4cf9-fede-124c451db257"
   },
   "outputs": [
    {
     "name": "stdout",
     "output_type": "stream",
     "text": [
      "[(3339, 1.0000000000000002), (3530, 0.2190720181450231), (3258, 0.1841065278373091), (1740, 0.18323217067829364), (1720, 0.17727496029419967), (2920, 0.1681144833076983), (1385, 0.16748492037089804), (4412, 0.15498748403135654), (821, 0.15366757490407965), (1613, 0.14950999518041164), (1326, 0.14941630877163348), (2306, 0.1463196999109339), (2208, 0.14290529581799505), (69, 0.13966628845124618), (578, 0.13649655681595974), (986, 0.13045587801705127), (4373, 0.12998164051128167), (2560, 0.127500044838716), (359, 0.1252042516629584), (1431, 0.11879589138768958), (1692, 0.11770092161668154), (2214, 0.11475421314550618), (3245, 0.11330095066359175), (1107, 0.11262422324554947), (305, 0.1111757847362737), (4292, 0.10994423302685186), (1499, 0.10981170229105147), (669, 0.1092523979197939), (4079, 0.10832543706096621), (3487, 0.10768190395591928), (3125, 0.10680838556509638), (4443, 0.10670238346753562), (1578, 0.10326196897349044), (923, 0.1026225395947319), (1068, 0.10238890008824655), (1452, 0.10213198536722369), (76, 0.10164456408991437), (96, 0.10030827912118817), (2171, 0.10012016691261041), (3973, 0.09987240849811863), (1045, 0.09918107893122274), (2739, 0.09916921944174498), (1689, 0.09587894675186992), (4110, 0.09446251377574334), (1515, 0.09393058369792794), (1780, 0.09329690632811546), (4217, 0.09324398697628203), (1568, 0.0926937501033254), (913, 0.09087562793377607), (1924, 0.09087356130586877), (1050, 0.09043464882460212), (3583, 0.0897349331927095), (1494, 0.08969021099262971), (3758, 0.08952844969960558), (723, 0.08947861345353453), (318, 0.08843347381812462), (3390, 0.08836821471442137), (38, 0.08836796114185505), (3847, 0.0882359463331163), (2366, 0.08784020131523594), (1923, 0.08767909934402661), (2759, 0.08728743838666105), (3100, 0.08676602940952406), (4271, 0.08667105471103102), (20, 0.08622717996028245), (4257, 0.08611127293569079), (3005, 0.08551986185314822), (2693, 0.08513548202070947), (633, 0.08207156389549249), (2740, 0.08135149476137485), (3639, 0.08124193653235734), (2045, 0.08067776750807226), (1504, 0.0794799603921964), (1097, 0.07921627905996483), (3181, 0.07913266374890114), (2756, 0.0787512312279828), (743, 0.07849762056902591), (1584, 0.07748373673004587), (2802, 0.0772528893160941), (3007, 0.07718916214570552), (1841, 0.07718527016167888), (3044, 0.0768615514867794), (4036, 0.07659357217537124), (506, 0.07637980060328863), (95, 0.0751703545826687), (2006, 0.07375786573626358), (2885, 0.07331998001530297), (792, 0.07316309669240707), (4647, 0.07312900376977004), (1975, 0.07298037786985283), (365, 0.07170066685704571), (2117, 0.07162266356321709), (2875, 0.07147206322970391), (1018, 0.07088152338517464), (3109, 0.07069434482596375), (1890, 0.07032800066661656), (2148, 0.06965435092559662), (3571, 0.06960383856339172), (1909, 0.06882057116649057), (3195, 0.06880253641096144), (3609, 0.06873254379926654), (1799, 0.06809844077636293), (2952, 0.06797527840436957), (4800, 0.0678382159596242), (3165, 0.06668739451677055), (1215, 0.06652171494101321), (3977, 0.06633022078504351), (2298, 0.06618646234084637), (416, 0.06590077819014706), (3216, 0.06564736610466093), (4524, 0.06564196299895475), (1603, 0.06562827000057803), (2198, 0.06527611658409721), (2094, 0.0651431958765875), (272, 0.06470010866052774), (1031, 0.06432528076549067), (1277, 0.06362832916306047), (4349, 0.06335563277771414), (2382, 0.06242382197199765), (4329, 0.0621467888900725), (1444, 0.06185474065112558), (3336, 0.061712676622280645), (815, 0.06168779188755376), (1793, 0.061483627923142874), (4631, 0.061316598751080614), (1491, 0.06128151667795992), (2113, 0.06109745908651675), (2871, 0.060861845180983754), (2433, 0.06057836867295015), (2943, 0.060462217537614604), (1204, 0.05992439057680643), (3911, 0.05990684997476244), (1559, 0.05989788185556874), (703, 0.059805617322445694), (2738, 0.05962147113907224), (2927, 0.05931498364649218), (3755, 0.05857415273120604), (1372, 0.058562948049664165), (226, 0.05838467681474196), (2361, 0.05827933531085191), (264, 0.058157043541980334), (1646, 0.058146330924561555), (1216, 0.057990746788528155), (2475, 0.05794396691746548), (3286, 0.05734162618326891), (3883, 0.057185463202024056), (1960, 0.056975796094490244), (2624, 0.05652407707978141), (797, 0.05650153735541791), (4083, 0.05631803754401412), (4610, 0.05622072913049228), (2808, 0.05605394045068668), (4479, 0.0557755046216057), (2708, 0.055657682928829076), (2242, 0.055607477091913146), (3294, 0.055497542444127385), (3021, 0.05482343951524039), (2217, 0.054683998244959724), (2524, 0.054674964057895965), (4768, 0.0545050028019922), (250, 0.05440147115398716), (440, 0.05422795974412876), (1783, 0.05415825465961087), (3881, 0.054056571339953424), (1744, 0.05393412141329786), (3581, 0.05375808831109078), (2525, 0.05364049188521024), (1190, 0.05317547072767255), (3607, 0.05295268166688258), (3419, 0.05292209313442593), (663, 0.05287904971091752), (1186, 0.052843530337477775), (2582, 0.05272916974918007), (3913, 0.05267604118141145), (637, 0.052632314973561675), (832, 0.052552418050023274), (4752, 0.05244366420152458), (4195, 0.052434285389786596), (2179, 0.052414132240307006), (4781, 0.05238587759742964), (853, 0.052226872931654546), (1806, 0.05193706774634583), (2493, 0.05190592859332273), (2075, 0.05180772536966168), (2255, 0.05176470950403515), (1020, 0.05168424311908664), (1364, 0.051636047716482336), (3473, 0.05142699443155115), (3636, 0.05130320924201422), (2301, 0.05111325765856304), (4526, 0.051085925525102514), (4232, 0.05103274377020767), (4675, 0.050614100652907), (4703, 0.05055025602830903), (1347, 0.05053645705242871), (2380, 0.050481714038986006), (3271, 0.05043514072049411), (3529, 0.050227561028030644), (2518, 0.05018230003990406), (3933, 0.050005563467471745), (1098, 0.049982172847884004), (702, 0.04981534075986513), (5, 0.049448079116291996), (1874, 0.048744319616029604), (2289, 0.048660407648541806), (3864, 0.048493233715742365), (1072, 0.04841093681057949), (1126, 0.04836337902063312), (756, 0.04830778494274797), (3170, 0.048133571299178855), (4333, 0.048080945251965455), (3276, 0.048032890625086866), (3741, 0.04792262935016232), (3812, 0.04766810725089415), (3368, 0.04765347080032273), (4233, 0.047308412893779864), (1647, 0.04722699446087371), (2600, 0.04692088992493576), (1541, 0.04690756603105325), (32, 0.04656795169642211), (3356, 0.046520326796556044), (2199, 0.04648582354492876), (4372, 0.046479959946558846), (2520, 0.04645187099365207), (3305, 0.04629277933674989), (1001, 0.045864014462944185), (140, 0.04584339704967274), (3906, 0.04575393553336213), (196, 0.04573745323690431), (1537, 0.04567229511627432), (1875, 0.04562975251715105), (3272, 0.04560404512563083), (1040, 0.04557337118531216), (4038, 0.045545970155201954), (3608, 0.04552389973889612), (3358, 0.04538090462100043), (2358, 0.04532628979720776), (3725, 0.045315503672561444), (2817, 0.04523046695785446), (3094, 0.04513078101703975), (4548, 0.04502678573303525), (4348, 0.0450253689614221), (2455, 0.04484954434708129), (4588, 0.04482966952972649), (714, 0.0448061022314719), (1803, 0.044685555560085174), (1368, 0.044645972232919086), (2224, 0.044632060531291116), (1081, 0.04462933768828623), (591, 0.044622074453785514), (1724, 0.04458225171323288), (1307, 0.04452013854336873), (880, 0.04448113481861698), (2343, 0.044343292471003604), (1123, 0.044180776840860865), (551, 0.044047321286572474), (2914, 0.04389905263634617), (2286, 0.04389605691146509), (1649, 0.043803047388814687), (4296, 0.04379507082632988), (1243, 0.043777084758809155), (564, 0.043604485979299876), (784, 0.04354470894003344), (1102, 0.04348774977828077), (2566, 0.04347341084412999), (4137, 0.043468960220758315), (4724, 0.043428358680796655), (4097, 0.04342198822396028), (1665, 0.043208332100434434), (2468, 0.043174613230769154), (3492, 0.04314009655367072), (3499, 0.04312362445221962), (4640, 0.04309161907927459), (1986, 0.04306411205768333), (1400, 0.04298024783854498), (2852, 0.04297903475993196), (2228, 0.042962777322619154), (1865, 0.042875673021498285), (4589, 0.042832960969805656), (3938, 0.04266789323095544), (1540, 0.04266676828056026), (2052, 0.042634061936220984), (3073, 0.04254199693839781), (2018, 0.0425003158540801), (3485, 0.042429995513200904), (4164, 0.04240455569114804), (3981, 0.04239382227614692), (4645, 0.04235879882614275), (2668, 0.04229344152595245), (1650, 0.04226275490201643), (2522, 0.042224832196352854), (1945, 0.04221172627935053), (1611, 0.0421249125881754), (2463, 0.04206214045392825), (1685, 0.04201514742007051), (819, 0.0418813607982296), (1789, 0.041873358517364186), (2344, 0.04177401792912597), (1964, 0.04167275815795978), (746, 0.04164870703483557), (2769, 0.041593194822549), (2470, 0.041569232282438126), (2581, 0.04150914267297763), (586, 0.04145124280650614), (2297, 0.041395719019875835), (1659, 0.04138326429685722), (3827, 0.04135099549905887), (1405, 0.04133555919478702), (2423, 0.041296509694353944), (304, 0.041287124473442634), (2991, 0.04126118646190623), (3551, 0.04121784866039248), (1007, 0.04111081893847003), (3691, 0.041099117362553075), (1260, 0.04099499264999006), (11, 0.04097343615574676), (879, 0.04094964947183075), (1435, 0.04079820877330117), (3300, 0.04078492558497682), (1211, 0.040645851918337604), (1264, 0.04055897306595737), (3111, 0.040553199500893485), (4048, 0.040527334197374414), (1401, 0.04038515038668254), (4327, 0.04032335873891924), (257, 0.040286777550346375), (1221, 0.040243008006206546), (2383, 0.040241160056465455), (2597, 0.04022322498799011), (2810, 0.04017597560154169), (1980, 0.040136491934123025), (4549, 0.04008417813332685), (1084, 0.040028278653209924), (2663, 0.04000890680149062), (1425, 0.04000366174032776), (3408, 0.03999735005891912), (4547, 0.03992994670512087), (3423, 0.03983937352761205), (2978, 0.03979727407919233), (1696, 0.03977540339699653), (588, 0.03970755268498814), (2617, 0.03970494495772302), (3019, 0.03968655699415814), (2517, 0.0396511344644063), (2051, 0.039492596051145586), (1228, 0.03947"
     ]
    },
    {
     "data": {
      "text/html": [
       "<b>limit_output extension: Maximum message size of 10000 exceeded with 126981 characters</b>"
      ]
     },
     "metadata": {},
     "output_type": "display_data"
    }
   ],
   "source": [
    "# sorting the movies based on their similarity score\n",
    "sorted_similar_movies = sorted(similarity_score, key = lambda x:x[1], reverse = True) \n",
    "print(sorted_similar_movies)"
   ]
  },
  {
   "cell_type": "code",
   "execution_count": 29,
   "metadata": {
    "ExecuteTime": {
     "end_time": "2022-11-07T12:07:58.859734Z",
     "start_time": "2022-11-07T12:07:57.700705Z"
    },
    "colab": {
     "base_uri": "https://localhost:8080/"
    },
    "id": "JseMqew-RW6Q",
    "outputId": "7b965227-7d40-47ac-a0cf-dfce044fc4fc"
   },
   "outputs": [
    {
     "name": "stdout",
     "output_type": "stream",
     "text": [
      "Movies suggested for you : \n",
      "\n",
      "1 . (500) Days of Summer\n",
      "2 . Don Jon\n",
      "3 . The Good Girl\n",
      "4 . Kick-Ass 2\n",
      "5 . Kick-Ass\n",
      "6 . If I Stay\n",
      "7 . Neighbors 2: Sorority Rising\n",
      "8 . The Poker House\n",
      "9 . The Equalizer\n",
      "10 . Carrie\n",
      "11 . The 5th Wave\n",
      "12 . The Amityville Horror\n",
      "13 . Let Me In\n",
      "14 . Hugo\n",
      "15 . Alvin and the Chipmunks: The Squeakquel\n",
      "16 . Your Highness\n",
      "17 . All the Real Girls\n",
      "18 . The Object of My Affection\n",
      "19 . Alvin and the Chipmunks: The Road Chip\n",
      "20 . Premium Rush\n",
      "21 . Mumford\n",
      "22 . Three to Tango\n",
      "23 . 50/50\n",
      "24 . The Juror\n",
      "25 . Treasure Planet\n",
      "26 . Super Troopers\n",
      "27 . Bridesmaids\n",
      "28 . Sin City: A Dame to Kill For\n",
      "29 . Boys Don't Cry\n"
     ]
    }
   ],
   "source": [
    "# print the name of similar movies based on the index\n",
    "\n",
    "print('Movies suggested for you : \\n')\n",
    "\n",
    "i = 1\n",
    "\n",
    "for movie in sorted_similar_movies:\n",
    "    index = movie[0]\n",
    "    title_from_index = movies_data[movies_data.index==index]['title'].values[0]\n",
    "    if (i<30):\n",
    "        print(i, '.',title_from_index)\n",
    "        i+=1"
   ]
  },
  {
   "cell_type": "markdown",
   "metadata": {
    "id": "KmXULXO9TZun"
   },
   "source": [
    "# Movie Recommendation Sytem"
   ]
  },
  {
   "cell_type": "code",
   "execution_count": 30,
   "metadata": {
    "ExecuteTime": {
     "end_time": "2022-11-07T12:08:03.161271Z",
     "start_time": "2022-11-07T12:07:59.278724Z"
    },
    "colab": {
     "base_uri": "https://localhost:8080/"
    },
    "id": "QUDZfTSxTHDf",
    "outputId": "c4e32c1a-0a70-4854-8eee-8660135694a5"
   },
   "outputs": [
    {
     "name": "stdout",
     "output_type": "stream",
     "text": [
      " Enter your favourite movie name : 500 days of summer\n",
      "Movies suggested for you : \n",
      "\n",
      "1 . (500) Days of Summer\n",
      "2 . Don Jon\n",
      "3 . The Good Girl\n",
      "4 . Kick-Ass 2\n",
      "5 . Kick-Ass\n",
      "6 . If I Stay\n",
      "7 . Neighbors 2: Sorority Rising\n",
      "8 . The Poker House\n",
      "9 . The Equalizer\n",
      "10 . Carrie\n",
      "11 . The 5th Wave\n",
      "12 . The Amityville Horror\n",
      "13 . Let Me In\n",
      "14 . Hugo\n",
      "15 . Alvin and the Chipmunks: The Squeakquel\n",
      "16 . Your Highness\n",
      "17 . All the Real Girls\n",
      "18 . The Object of My Affection\n",
      "19 . Alvin and the Chipmunks: The Road Chip\n",
      "20 . Premium Rush\n",
      "21 . Mumford\n",
      "22 . Three to Tango\n",
      "23 . 50/50\n",
      "24 . The Juror\n",
      "25 . Treasure Planet\n",
      "26 . Super Troopers\n",
      "27 . Bridesmaids\n",
      "28 . Sin City: A Dame to Kill For\n",
      "29 . Boys Don't Cry\n"
     ]
    }
   ],
   "source": [
    "movie_name = input(' Enter your favourite movie name : ')\n",
    "\n",
    "list_of_all_titles = movies_data['title'].tolist()\n",
    "\n",
    "find_close_match = difflib.get_close_matches(movie_name, list_of_all_titles)\n",
    "\n",
    "close_match = find_close_match[0]\n",
    "\n",
    "index_of_the_movie = movies_data[movies_data.title == close_match]['index'].values[0]\n",
    "\n",
    "similarity_score = list(enumerate(similarity[index_of_the_movie]))\n",
    "\n",
    "sorted_similar_movies = sorted(similarity_score, key = lambda x:x[1], reverse = True) \n",
    "\n",
    "print('Movies suggested for you : \\n')\n",
    "\n",
    "i = 1\n",
    "\n",
    "for movie in sorted_similar_movies:\n",
    "    index = movie[0]\n",
    "    title_from_index = movies_data[movies_data.index==index]['title'].values[0]\n",
    "    if (i<30):\n",
    "        print(i, '.',title_from_index)\n",
    "        i+=1"
   ]
  },
  {
   "cell_type": "code",
   "execution_count": null,
   "metadata": {
    "id": "dgOXLbsWUAGK"
   },
   "outputs": [],
   "source": []
  }
 ],
 "metadata": {
  "colab": {
   "collapsed_sections": [],
   "name": "Project 18. Movie Recommendation System using Machine Learning with Python.ipynb",
   "provenance": []
  },
  "hide_input": false,
  "kernelspec": {
   "display_name": "Python 3 (ipykernel)",
   "language": "python",
   "name": "python3"
  },
  "language_info": {
   "codemirror_mode": {
    "name": "ipython",
    "version": 3
   },
   "file_extension": ".py",
   "mimetype": "text/x-python",
   "name": "python",
   "nbconvert_exporter": "python",
   "pygments_lexer": "ipython3",
   "version": "3.9.7"
  },
  "latex_envs": {
   "LaTeX_envs_menu_present": true,
   "autoclose": false,
   "autocomplete": true,
   "bibliofile": "biblio.bib",
   "cite_by": "apalike",
   "current_citInitial": 1,
   "eqLabelWithNumbers": true,
   "eqNumInitial": 1,
   "hotkeys": {
    "equation": "Ctrl-E",
    "itemize": "Ctrl-I"
   },
   "labels_anchors": false,
   "latex_user_defs": false,
   "report_style_numbering": false,
   "user_envs_cfg": false
  },
  "nbTranslate": {
   "displayLangs": [
    "*"
   ],
   "hotkey": "alt-t",
   "langInMainMenu": true,
   "sourceLang": "en",
   "targetLang": "fr",
   "useGoogleTranslate": true
  },
  "toc": {
   "base_numbering": 1,
   "nav_menu": {},
   "number_sections": true,
   "sideBar": true,
   "skip_h1_title": false,
   "title_cell": "Table of Contents",
   "title_sidebar": "Contents",
   "toc_cell": false,
   "toc_position": {},
   "toc_section_display": true,
   "toc_window_display": false
  },
  "varInspector": {
   "cols": {
    "lenName": 16,
    "lenType": 16,
    "lenVar": 40
   },
   "kernels_config": {
    "python": {
     "delete_cmd_postfix": "",
     "delete_cmd_prefix": "del ",
     "library": "var_list.py",
     "varRefreshCmd": "print(var_dic_list())"
    },
    "r": {
     "delete_cmd_postfix": ") ",
     "delete_cmd_prefix": "rm(",
     "library": "var_list.r",
     "varRefreshCmd": "cat(var_dic_list()) "
    }
   },
   "types_to_exclude": [
    "module",
    "function",
    "builtin_function_or_method",
    "instance",
    "_Feature"
   ],
   "window_display": false
  }
 },
 "nbformat": 4,
 "nbformat_minor": 1
}
