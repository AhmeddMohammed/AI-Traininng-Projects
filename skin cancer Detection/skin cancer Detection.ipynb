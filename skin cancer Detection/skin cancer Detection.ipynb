{
 "cells": [
  {
   "cell_type": "markdown",
   "id": "4e0a0c63",
   "metadata": {},
   "source": [
    "# Download the datasets"
   ]
  },
  {
   "cell_type": "markdown",
   "id": "c78cd88c",
   "metadata": {},
   "source": [
    "https://www.kaggle.com/datasets/fanconic/skin-cancer-malignant-vs-benign"
   ]
  },
  {
   "cell_type": "code",
   "execution_count": 251,
   "id": "60c9807c",
   "metadata": {
    "ExecuteTime": {
     "end_time": "2022-10-22T13:37:11.310470Z",
     "start_time": "2022-10-22T13:37:11.283658Z"
    }
   },
   "outputs": [],
   "source": [
    "from keras.models import Sequential\n",
    "from keras.layers import Convolution2D\n",
    "from keras.layers import MaxPooling2D\n",
    "from keras.layers import Flatten\n",
    "from keras.layers import Dense\n",
    "import warnings\n",
    "warnings.filterwarnings(\"ignore\")\n",
    "from PIL import Image\n",
    "import matplotlib.pyplot as plt\n",
    "from IPython import display\n",
    "import numpy as np\n",
    "from keras_preprocessing import image"
   ]
  },
  {
   "cell_type": "code",
   "execution_count": 252,
   "id": "91814fbb",
   "metadata": {
    "ExecuteTime": {
     "end_time": "2022-10-22T13:37:12.129020Z",
     "start_time": "2022-10-22T13:37:12.106447Z"
    }
   },
   "outputs": [],
   "source": [
    "#Initialising the CNN\n",
    "classifier = Sequential()"
   ]
  },
  {
   "cell_type": "code",
   "execution_count": 253,
   "id": "c1116bd4",
   "metadata": {
    "ExecuteTime": {
     "end_time": "2022-10-22T13:37:12.985657Z",
     "start_time": "2022-10-22T13:37:12.926564Z"
    }
   },
   "outputs": [],
   "source": [
    "# Step1 - Convolution\n",
    "# Input Layer/dimensions\n",
    "# 64 is number of output filters in the convolution\n",
    "# 3,3 is filter matrix that will multiply to input_shape=(64,64,3)\n",
    "# 64,64 is image size we provide\n",
    "# 3 is rgb\n",
    "classifier.add(Convolution2D(64,3,3, input_shape=(64,64,3), activation='relu'))"
   ]
  },
  {
   "cell_type": "code",
   "execution_count": 254,
   "id": "8eb01029",
   "metadata": {
    "ExecuteTime": {
     "end_time": "2022-10-22T13:37:13.719817Z",
     "start_time": "2022-10-22T13:37:13.662870Z"
    }
   },
   "outputs": [],
   "source": [
    "# Step2 - Pooling\n",
    "#Processing\n",
    "# Hidden Layer 1\n",
    "# 2,2 matrix rotates, tilts, etc to all the images\n",
    "classifier.add(MaxPooling2D(pool_size=(2,2)))\n",
    "\n",
    "# Adding a second convolution layer\n",
    "# Hidden Layer 2\n",
    "# relu turns negative images to 0\n",
    "classifier.add(Convolution2D(64,3,3, activation='relu'))\n",
    "classifier.add(MaxPooling2D(pool_size=(2,2)))"
   ]
  },
  {
   "cell_type": "code",
   "execution_count": 255,
   "id": "b44d0a09",
   "metadata": {
    "ExecuteTime": {
     "end_time": "2022-10-22T13:37:14.331857Z",
     "start_time": "2022-10-22T13:37:14.311905Z"
    }
   },
   "outputs": [],
   "source": [
    "# step3 - Flattening\n",
    "# converts the matrix in a singe array\n",
    "classifier.add(Flatten())"
   ]
  },
  {
   "cell_type": "code",
   "execution_count": 256,
   "id": "62ebe351",
   "metadata": {
    "ExecuteTime": {
     "end_time": "2022-10-22T13:37:15.019994Z",
     "start_time": "2022-10-22T13:37:14.952798Z"
    }
   },
   "outputs": [],
   "source": [
    "# Step4 - Full COnnection\n",
    "# 128 is the final layer of outputs & from that 1 will be considered ie dog or cat\n",
    "classifier.add(Dense(units=128, activation='relu'))\n",
    "classifier.add(Dense(units=1, activation='sigmoid'))\n",
    "# sigmoid helps in 0 1 classification\n",
    "\n",
    "# Compiling the CNN\n",
    "classifier.compile(optimizer ='adam', loss='binary_crossentropy', metrics=['accuracy'])"
   ]
  },
  {
   "cell_type": "code",
   "execution_count": 257,
   "id": "ba307f77",
   "metadata": {
    "ExecuteTime": {
     "end_time": "2022-10-22T13:37:15.617483Z",
     "start_time": "2022-10-22T13:37:15.599328Z"
    }
   },
   "outputs": [],
   "source": [
    "# Deffining the Training and Testing Datasets\n",
    "from keras.preprocessing.image import ImageDataGenerator\n",
    "train_datagen = ImageDataGenerator(rescale=1./255,\n",
    "                                    shear_range=0.2,\n",
    "                                    zoom_range=0.2,\n",
    "                                    horizontal_flip=True)"
   ]
  },
  {
   "cell_type": "code",
   "execution_count": 258,
   "id": "221a0ddc",
   "metadata": {
    "ExecuteTime": {
     "end_time": "2022-10-22T13:37:16.152730Z",
     "start_time": "2022-10-22T13:37:16.131713Z"
    }
   },
   "outputs": [],
   "source": [
    "test_datagen = ImageDataGenerator(rescale=1./255)"
   ]
  },
  {
   "cell_type": "code",
   "execution_count": 259,
   "id": "dddc7930",
   "metadata": {
    "ExecuteTime": {
     "end_time": "2022-10-22T13:37:17.140342Z",
     "start_time": "2022-10-22T13:37:16.750555Z"
    }
   },
   "outputs": [
    {
     "name": "stdout",
     "output_type": "stream",
     "text": [
      "Found 2635 images belonging to 2 classes.\n"
     ]
    }
   ],
   "source": [
    "training_set = train_datagen.flow_from_directory(\n",
    "        'dataset/train',\n",
    "        target_size=(64, 64),\n",
    "        batch_size=32,\n",
    "        class_mode='binary')"
   ]
  },
  {
   "cell_type": "code",
   "execution_count": 260,
   "id": "c903bdfd",
   "metadata": {
    "ExecuteTime": {
     "end_time": "2022-10-22T13:37:17.624000Z",
     "start_time": "2022-10-22T13:37:17.494044Z"
    }
   },
   "outputs": [
    {
     "name": "stdout",
     "output_type": "stream",
     "text": [
      "Found 660 images belonging to 2 classes.\n"
     ]
    }
   ],
   "source": [
    "test_set = test_datagen.flow_from_directory(\n",
    "        'dataset/test',\n",
    "        target_size=(64, 64),\n",
    "        batch_size=32,\n",
    "        class_mode='binary')"
   ]
  },
  {
   "cell_type": "code",
   "execution_count": 261,
   "id": "fb38bb3c",
   "metadata": {
    "ExecuteTime": {
     "end_time": "2022-10-22T13:39:09.330692Z",
     "start_time": "2022-10-22T13:37:18.347564Z"
    }
   },
   "outputs": [
    {
     "name": "stdout",
     "output_type": "stream",
     "text": [
      "Epoch 1/10\n",
      "  55/5000 [..............................] - ETA: 1:08:00 - loss: 0.6713 - accuracy: 0.573"
     ]
    },
    {
     "data": {
      "text/html": [
       "<b>limit_output extension: Maximum message size of 10000 exceeded with 10158 characters</b>"
      ]
     },
     "metadata": {},
     "output_type": "display_data"
    }
   ],
   "source": [
    "# steps_per_epoch it will transfer that many images at 1 time\n",
    "# & epochs means 'steps_per_epoch' will repeat that many times\n",
    " \n",
    "classifier.fit_generator(\n",
    "        training_set,\n",
    "        steps_per_epoch=5000,\n",
    "        epochs=10,\n",
    "        validation_data=test_set)\n",
    "\n",
    "score = classifier.evaluate(training_set)"
   ]
  },
  {
   "cell_type": "code",
   "execution_count": 262,
   "id": "8fec1265",
   "metadata": {
    "ExecuteTime": {
     "end_time": "2022-10-22T13:39:09.415333Z",
     "start_time": "2022-10-22T13:39:09.395857Z"
    }
   },
   "outputs": [
    {
     "name": "stdout",
     "output_type": "stream",
     "text": [
      "Test accuracy: 74.8387098312378 %\n"
     ]
    }
   ],
   "source": [
    "print('Test accuracy:', score[1]*100, '%')"
   ]
  },
  {
   "cell_type": "code",
   "execution_count": 265,
   "id": "83b4f8d0",
   "metadata": {
    "ExecuteTime": {
     "end_time": "2022-10-22T13:40:13.755487Z",
     "start_time": "2022-10-22T13:40:13.526056Z"
    }
   },
   "outputs": [
    {
     "name": "stdout",
     "output_type": "stream",
     "text": [
      "1/1 [==============================] - 0s 76ms/step\n",
      "The prediction result is : benign\n"
     ]
    }
   ],
   "source": [
    "test_image = image.load_img('dataset/single_prediction/72b.jpg', target_size = (64, 64))\n",
    "test_image = image.img_to_array(test_image)\n",
    "test_image = np.expand_dims(test_image, axis = 0)\n",
    "result = classifier.predict(test_image)\n",
    "training_set.class_indices\n",
    "if result[0][0] == 0:\n",
    "    prediction = 'benign'\n",
    "else:\n",
    "    prediction = 'malignant'\n",
    "    \n",
    "print('The prediction result is :',prediction)"
   ]
  },
  {
   "cell_type": "code",
   "execution_count": 266,
   "id": "e5662bfd",
   "metadata": {
    "ExecuteTime": {
     "end_time": "2022-10-22T13:40:16.132463Z",
     "start_time": "2022-10-22T13:40:15.929434Z"
    }
   },
   "outputs": [
    {
     "name": "stdout",
     "output_type": "stream",
     "text": [
      "1/1 [==============================] - 0s 75ms/step\n",
      "The prediction result is : malignant\n"
     ]
    }
   ],
   "source": [
    "test_image = image.load_img('dataset/single_prediction/27m.jpg', target_size = (64, 64))\n",
    "test_image = image.img_to_array(test_image)\n",
    "test_image = np.expand_dims(test_image, axis = 0)\n",
    "result = classifier.predict(test_image)\n",
    "training_set.class_indices\n",
    "if result[0][0] == 0:\n",
    "    prediction = 'benign'\n",
    "else:\n",
    "    prediction = 'malignant'   \n",
    "\n",
    "print('The prediction result is :',prediction)"
   ]
  }
 ],
 "metadata": {
  "hide_input": false,
  "kernelspec": {
   "display_name": "Python 3 (ipykernel)",
   "language": "python",
   "name": "python3"
  },
  "language_info": {
   "codemirror_mode": {
    "name": "ipython",
    "version": 3
   },
   "file_extension": ".py",
   "mimetype": "text/x-python",
   "name": "python",
   "nbconvert_exporter": "python",
   "pygments_lexer": "ipython3",
   "version": "3.9.7"
  },
  "latex_envs": {
   "LaTeX_envs_menu_present": true,
   "autoclose": false,
   "autocomplete": true,
   "bibliofile": "biblio.bib",
   "cite_by": "apalike",
   "current_citInitial": 1,
   "eqLabelWithNumbers": true,
   "eqNumInitial": 1,
   "hotkeys": {
    "equation": "Ctrl-E",
    "itemize": "Ctrl-I"
   },
   "labels_anchors": false,
   "latex_user_defs": false,
   "report_style_numbering": false,
   "user_envs_cfg": false
  },
  "nbTranslate": {
   "displayLangs": [
    "*"
   ],
   "hotkey": "alt-t",
   "langInMainMenu": true,
   "sourceLang": "en",
   "targetLang": "fr",
   "useGoogleTranslate": true
  },
  "toc": {
   "base_numbering": 1,
   "nav_menu": {},
   "number_sections": true,
   "sideBar": true,
   "skip_h1_title": false,
   "title_cell": "Table of Contents",
   "title_sidebar": "Contents",
   "toc_cell": false,
   "toc_position": {},
   "toc_section_display": true,
   "toc_window_display": false
  },
  "varInspector": {
   "cols": {
    "lenName": 16,
    "lenType": 16,
    "lenVar": 40
   },
   "kernels_config": {
    "python": {
     "delete_cmd_postfix": "",
     "delete_cmd_prefix": "del ",
     "library": "var_list.py",
     "varRefreshCmd": "print(var_dic_list())"
    },
    "r": {
     "delete_cmd_postfix": ") ",
     "delete_cmd_prefix": "rm(",
     "library": "var_list.r",
     "varRefreshCmd": "cat(var_dic_list()) "
    }
   },
   "types_to_exclude": [
    "module",
    "function",
    "builtin_function_or_method",
    "instance",
    "_Feature"
   ],
   "window_display": false
  }
 },
 "nbformat": 4,
 "nbformat_minor": 5
}
