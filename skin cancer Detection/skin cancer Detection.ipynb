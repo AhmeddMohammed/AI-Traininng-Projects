{
 "cells": [
  {
   "cell_type": "markdown",
   "id": "4e0a0c63",
   "metadata": {},
   "source": [
    "# Download the datasets"
   ]
  },
  {
   "cell_type": "markdown",
   "id": "c78cd88c",
   "metadata": {},
   "source": [
    "https://www.kaggle.com/datasets/fanconic/skin-cancer-malignant-vs-benign"
   ]
  },
  {
   "cell_type": "code",
   "execution_count": 93,
   "id": "60c9807c",
   "metadata": {
    "ExecuteTime": {
     "end_time": "2022-10-25T06:03:01.757411Z",
     "start_time": "2022-10-25T06:03:01.747438Z"
    }
   },
   "outputs": [],
   "source": [
    "from keras.models import Sequential\n",
    "from keras.layers import Convolution2D\n",
    "from keras.layers import MaxPooling2D\n",
    "from keras.layers import Flatten\n",
    "from keras.layers import Dense\n",
    "import warnings\n",
    "warnings.filterwarnings(\"ignore\")\n",
    "from PIL import Image\n",
    "import matplotlib.pyplot as plt\n",
    "from IPython import display\n",
    "import numpy as np\n",
    "from keras_preprocessing import image"
   ]
  },
  {
   "cell_type": "code",
   "execution_count": 94,
   "id": "91814fbb",
   "metadata": {
    "ExecuteTime": {
     "end_time": "2022-10-25T06:03:05.190757Z",
     "start_time": "2022-10-25T06:03:05.185720Z"
    }
   },
   "outputs": [],
   "source": [
    "#Initialising the CNN\n",
    "classifier = Sequential()"
   ]
  },
  {
   "cell_type": "code",
   "execution_count": 95,
   "id": "c1116bd4",
   "metadata": {
    "ExecuteTime": {
     "end_time": "2022-10-25T06:03:10.106056Z",
     "start_time": "2022-10-25T06:03:10.084115Z"
    }
   },
   "outputs": [],
   "source": [
    "# Step1 - Convolution\n",
    "# Input Layer/dimensions\n",
    "# 64 is number of output filters in the convolution\n",
    "# 3,3 is filter matrix that will multiply to input_shape=(64,64,3)\n",
    "# 64,64 is image size we provide\n",
    "# 3 is rgb\n",
    "classifier.add(Convolution2D(64,3,3, input_shape=(64,64,3), activation='relu'))"
   ]
  },
  {
   "cell_type": "code",
   "execution_count": 96,
   "id": "8eb01029",
   "metadata": {
    "ExecuteTime": {
     "end_time": "2022-10-25T06:03:11.320541Z",
     "start_time": "2022-10-25T06:03:11.297398Z"
    }
   },
   "outputs": [],
   "source": [
    "# Step2 - Pooling\n",
    "#Processing\n",
    "# Hidden Layer 1\n",
    "# 2,2 matrix rotates, tilts, etc to all the images\n",
    "classifier.add(MaxPooling2D(pool_size=(2,2)))\n",
    "\n",
    "# Adding a second convolution layer\n",
    "# Hidden Layer 2\n",
    "# relu turns negative images to 0\n",
    "classifier.add(Convolution2D(64,3,3, activation='relu'))\n",
    "classifier.add(MaxPooling2D(pool_size=(2,2)))"
   ]
  },
  {
   "cell_type": "code",
   "execution_count": 97,
   "id": "b44d0a09",
   "metadata": {
    "ExecuteTime": {
     "end_time": "2022-10-25T06:03:12.353766Z",
     "start_time": "2022-10-25T06:03:12.344790Z"
    }
   },
   "outputs": [],
   "source": [
    "# step3 - Flattening\n",
    "# converts the matrix in a singe array\n",
    "classifier.add(Flatten())"
   ]
  },
  {
   "cell_type": "code",
   "execution_count": 98,
   "id": "62ebe351",
   "metadata": {
    "ExecuteTime": {
     "end_time": "2022-10-25T06:03:13.435495Z",
     "start_time": "2022-10-25T06:03:13.399569Z"
    }
   },
   "outputs": [],
   "source": [
    "# Step4 - Full COnnection\n",
    "# 128 is the final layer of outputs & from that 1 will be considered ie dog or cat\n",
    "classifier.add(Dense(units=128, activation='relu'))\n",
    "classifier.add(Dense(units=1, activation='sigmoid'))\n",
    "# sigmoid helps in 0 1 classification\n",
    "\n",
    "# Compiling the CNN\n",
    "classifier.compile(optimizer ='adam', loss='binary_crossentropy', metrics=['accuracy'])"
   ]
  },
  {
   "cell_type": "code",
   "execution_count": 99,
   "id": "ba307f77",
   "metadata": {
    "ExecuteTime": {
     "end_time": "2022-10-25T06:03:14.293167Z",
     "start_time": "2022-10-25T06:03:14.280217Z"
    }
   },
   "outputs": [],
   "source": [
    "# Deffining the Training and Testing Datasets\n",
    "from keras.preprocessing.image import ImageDataGenerator\n",
    "train_datagen = ImageDataGenerator(rescale=1./255,\n",
    "                                    shear_range=0.2,\n",
    "                                    zoom_range=0.2,\n",
    "                                    horizontal_flip=True)"
   ]
  },
  {
   "cell_type": "code",
   "execution_count": 100,
   "id": "221a0ddc",
   "metadata": {
    "ExecuteTime": {
     "end_time": "2022-10-25T06:03:15.219833Z",
     "start_time": "2022-10-25T06:03:15.208834Z"
    }
   },
   "outputs": [],
   "source": [
    "test_datagen = ImageDataGenerator(rescale=1./255)"
   ]
  },
  {
   "cell_type": "code",
   "execution_count": 101,
   "id": "dddc7930",
   "metadata": {
    "ExecuteTime": {
     "end_time": "2022-10-25T06:03:16.762423Z",
     "start_time": "2022-10-25T06:03:16.636678Z"
    }
   },
   "outputs": [
    {
     "name": "stdout",
     "output_type": "stream",
     "text": [
      "Found 2635 images belonging to 2 classes.\n"
     ]
    }
   ],
   "source": [
    "training_set = train_datagen.flow_from_directory(\n",
    "        'dataset/train',\n",
    "        target_size=(64, 64),\n",
    "        batch_size=32,\n",
    "        class_mode='binary')"
   ]
  },
  {
   "cell_type": "code",
   "execution_count": 102,
   "id": "c903bdfd",
   "metadata": {
    "ExecuteTime": {
     "end_time": "2022-10-25T06:03:17.747959Z",
     "start_time": "2022-10-25T06:03:17.707068Z"
    }
   },
   "outputs": [
    {
     "name": "stdout",
     "output_type": "stream",
     "text": [
      "Found 660 images belonging to 2 classes.\n"
     ]
    }
   ],
   "source": [
    "test_set = test_datagen.flow_from_directory(\n",
    "        'dataset/test',\n",
    "        target_size=(64, 64),\n",
    "        batch_size=32,\n",
    "        class_mode='binary')"
   ]
  },
  {
   "cell_type": "code",
   "execution_count": 103,
   "id": "fb38bb3c",
   "metadata": {
    "ExecuteTime": {
     "end_time": "2022-10-25T06:03:38.056856Z",
     "start_time": "2022-10-25T06:03:18.964402Z"
    }
   },
   "outputs": [
    {
     "name": "stdout",
     "output_type": "stream",
     "text": [
      "Epoch 1/30\n",
      "2/2 [==============================] - 1s 389ms/step - loss: 0.6872 - accuracy: 0.5116 - val_loss: 0.7202 - val_accuracy: 0.4062\n",
      "Epoch 2/30\n",
      "2/2 [==============================] - 0s 296ms/step - loss: 0.6456 - accuracy: 0.6406 - val_loss: 0.6054 - val_accuracy: 0.7031\n",
      "Epoch 3/30\n",
      "2/2 [==============================] - 0s 289ms/step - loss: 0.7325 - accuracy: 0.4844 - val_loss: 0.6403 - val_accuracy: 0.6406\n",
      "Epoch 4/30\n",
      "2/2 [==============================] - 0s 286ms/step - loss: 0.6627 - accuracy: 0.5781 - val_loss: 0.6731 - val_accuracy: 0.5469\n",
      "Epoch 5/30\n",
      "2/2 [==============================] - 0s 270ms/step - loss: 0.6607 - accuracy: 0.5938 - val_loss: 0.6486 - val_accuracy: 0.6562\n",
      "Epoch 6/30\n",
      "2/2 [==============================] - 0s 274ms/step - loss: 0.6621 - accuracy: 0.5781 - val_loss: 0.6408 - val_accuracy: 0.6875\n",
      "Epoch 7/30\n",
      "2/2 [==============================] - 0s 299ms/step - loss: 0.6870 - accuracy: 0.4844 - val_loss: 0.6595 - val_accuracy: 0.5625\n",
      "Epoch 8/30\n",
      "2/2 [==============================] - 0s 292ms/step - loss: 0.6641 - accuracy: 0.5938 - val_loss: 0.6543 - val_accuracy: 0.6250\n",
      "Epoch 9/30\n",
      "2/2 [==============================] - 0s 304ms/step - loss: 0.6446 - accuracy: 0.6562 - val_loss: 0.6943 - val_accuracy: 0.4375\n",
      "Epoch 10/30\n",
      "2/2 [==============================] - 0s 284ms/step - loss: 0.6660 - accuracy: 0.5312 - val_loss: 0.6805 - val_accuracy: 0.4688\n",
      "Epoch 11/30\n",
      "2/2 [==============================] - 0s 264ms/step - loss: 0.6277 - accuracy: 0.6406 - val_loss: 0.6511 - val_accuracy: 0.5781\n",
      "Epoch 12/30\n",
      "2/2 [==============================] - 0s 262ms/step - loss: 0.6509 - accuracy: 0.6094 - val_loss: 0.6421 - val_accuracy: 0.5625\n",
      "Epoch 13/30\n",
      "2/2 [==============================] - 0s 262ms/step - loss: 0.6561 - accuracy: 0.5469 - val_loss: 0.6180 - val_accuracy: 0.6094\n",
      "Epoch 14/30\n",
      "2/2 [==============================] - 0s 257ms/step - loss: 0.6055 - accuracy: 0.6875 - val_loss: 0.6397 - val_accuracy: 0.5000\n",
      "Epoch 15/30\n",
      "2/2 [==============================] - 0s 259ms/step - loss: 0.6539 - accuracy: 0.4531 - val_loss: 0.6215 - val_accuracy: 0.6250\n",
      "Epoch 16/30\n",
      "2/2 [==============================] - 0s 257ms/step - loss: 0.5926 - accuracy: 0.7812 - val_loss: 0.6112 - val_accuracy: 0.7812\n",
      "Epoch 17/30\n",
      "2/2 [==============================] - 0s 249ms/step - loss: 0.6267 - accuracy: 0.7500 - val_loss: 0.6167 - val_accuracy: 0.7188\n",
      "Epoch 18/30\n",
      "2/2 [==============================] - 0s 258ms/step - loss: 0.5958 - accuracy: 0.7031 - val_loss: 0.5924 - val_accuracy: 0.6562\n",
      "Epoch 19/30\n",
      "2/2 [==============================] - 0s 256ms/step - loss: 0.5733 - accuracy: 0.7344 - val_loss: 0.6187 - val_accuracy: 0.6250\n",
      "Epoch 20/30\n",
      "2/2 [==============================] - 0s 281ms/step - loss: 0.6110 - accuracy: 0.6406 - val_loss: 0.6147 - val_accuracy: 0.5625\n",
      "Epoch 21/30\n",
      "2/2 [==============================] - 0s 275ms/step - loss: 0.5993 - accuracy: 0.6719 - val_loss: 0.5853 - val_accuracy: 0.7031\n",
      "Epoch 22/30\n",
      "2/2 [==============================] - 0s 272ms/step - loss: 0.6167 - accuracy: 0.6562 - va"
     ]
    },
    {
     "data": {
      "text/html": [
       "<b>limit_output extension: Maximum message size of 10000 exceeded with 10038 characters</b>"
      ]
     },
     "metadata": {},
     "output_type": "display_data"
    }
   ],
   "source": [
    "# steps_per_epoch it will transfer that many images at 1 time\n",
    "# & epochs means 'steps_per_epoch' will repeat that many times\n",
    " \n",
    "history=classifier.fit_generator(\n",
    "        training_set,\n",
    "        steps_per_epoch=2,\n",
    "        epochs=30,\n",
    "        validation_steps=2,\n",
    "        validation_data=test_set)\n",
    "\n",
    "score = classifier.evaluate(training_set)"
   ]
  },
  {
   "cell_type": "code",
   "execution_count": 104,
   "id": "8fec1265",
   "metadata": {
    "ExecuteTime": {
     "end_time": "2022-10-25T06:03:43.327568Z",
     "start_time": "2022-10-25T06:03:43.319008Z"
    }
   },
   "outputs": [
    {
     "name": "stdout",
     "output_type": "stream",
     "text": [
      "Test accuracy: 75.71157217025757 %\n"
     ]
    }
   ],
   "source": [
    "print('Test accuracy:', score[1]*100, '%')"
   ]
  },
  {
   "cell_type": "code",
   "execution_count": 106,
   "id": "83b4f8d0",
   "metadata": {
    "ExecuteTime": {
     "end_time": "2022-10-25T06:03:51.060761Z",
     "start_time": "2022-10-25T06:03:50.996666Z"
    }
   },
   "outputs": [
    {
     "name": "stdout",
     "output_type": "stream",
     "text": [
      "1/1 [==============================] - 0s 19ms/step\n",
      "The prediction result is : benign\n"
     ]
    }
   ],
   "source": [
    "test_image = image.load_img('dataset/single_prediction/72b.jpg', target_size = (64, 64))\n",
    "test_image = image.img_to_array(test_image)\n",
    "test_image = np.expand_dims(test_image, axis = 0)\n",
    "result = classifier.predict(test_image)\n",
    "training_set.class_indices\n",
    "if result[0][0] == 0:\n",
    "    prediction = 'benign'\n",
    "else:\n",
    "    prediction = 'malignant'\n",
    "    \n",
    "print('The prediction result is :',prediction)"
   ]
  },
  {
   "cell_type": "code",
   "execution_count": 107,
   "id": "e5662bfd",
   "metadata": {
    "ExecuteTime": {
     "end_time": "2022-10-25T06:03:56.106279Z",
     "start_time": "2022-10-25T06:03:56.044442Z"
    }
   },
   "outputs": [
    {
     "name": "stdout",
     "output_type": "stream",
     "text": [
      "1/1 [==============================] - 0s 20ms/step\n",
      "The prediction result is : malignant\n"
     ]
    }
   ],
   "source": [
    "test_image = image.load_img('dataset/single_prediction/27m.jpg', target_size = (64, 64))\n",
    "test_image = image.img_to_array(test_image)\n",
    "test_image = np.expand_dims(test_image, axis = 0)\n",
    "result = classifier.predict(test_image)\n",
    "training_set.class_indices\n",
    "if result[0][0] == 0:\n",
    "    prediction = 'benign'\n",
    "else:\n",
    "    prediction = 'malignant'   \n",
    "\n",
    "print('The prediction result is :',prediction)"
   ]
  },
  {
   "cell_type": "code",
   "execution_count": 108,
   "id": "a66582cf",
   "metadata": {
    "ExecuteTime": {
     "end_time": "2022-10-25T06:03:57.397404Z",
     "start_time": "2022-10-25T06:03:57.118441Z"
    }
   },
   "outputs": [
    {
     "data": {
      "image/png": "[encoded data removed]",
      "text/plain": [
       "<Figure size 1080x360 with 2 Axes>"
      ]
     },
     "metadata": {
      "needs_background": "light"
     },
     "output_type": "display_data"
    }
   ],
   "source": [
    "# plot model performance\n",
    "acc = history.history['accuracy']\n",
    "val_acc = history.history['val_accuracy']\n",
    "loss = history.history['loss']\n",
    "val_loss = history.history['val_loss']\n",
    "epochs_range = range(1, len(history.epoch) + 1)\n",
    "\n",
    "plt.figure(figsize=(15,5))\n",
    "\n",
    "plt.subplot(1, 2, 1)\n",
    "plt.plot(epochs_range, acc, label='Train Set')\n",
    "plt.plot(epochs_range, val_acc, label='Val Set')\n",
    "plt.legend(loc=\"best\")\n",
    "plt.xlabel('Epochs')\n",
    "plt.ylabel('Accuracy')\n",
    "plt.title('Model Accuracy')\n",
    "\n",
    "\n",
    "plt.subplot(1, 2, 2)\n",
    "plt.plot(epochs_range, loss, label='Train Set')\n",
    "plt.plot(epochs_range, val_loss, label='Val Set')\n",
    "plt.legend(loc=\"best\")\n",
    "plt.xlabel('Epochs')\n",
    "plt.ylabel('Loss')\n",
    "plt.title('Model Loss')\n",
    "\n",
    "plt.tight_layout()\n",
    "plt.show()"
   ]
  },
  {
   "cell_type": "code",
   "execution_count": null,
   "id": "a3ae4331",
   "metadata": {},
   "outputs": [],
   "source": []
  }
 ],
 "metadata": {
  "hide_input": false,
  "kernelspec": {
   "display_name": "Python 3 (ipykernel)",
   "language": "python",
   "name": "python3"
  },
  "language_info": {
   "codemirror_mode": {
    "name": "ipython",
    "version": 3
   },
   "file_extension": ".py",
   "mimetype": "text/x-python",
   "name": "python",
   "nbconvert_exporter": "python",
   "pygments_lexer": "ipython3",
   "version": "3.9.7"
  },
  "latex_envs": {
   "LaTeX_envs_menu_present": true,
   "autoclose": false,
   "autocomplete": true,
   "bibliofile": "biblio.bib",
   "cite_by": "apalike",
   "current_citInitial": 1,
   "eqLabelWithNumbers": true,
   "eqNumInitial": 1,
   "hotkeys": {
    "equation": "Ctrl-E",
    "itemize": "Ctrl-I"
   },
   "labels_anchors": false,
   "latex_user_defs": false,
   "report_style_numbering": false,
   "user_envs_cfg": false
  },
  "nbTranslate": {
   "displayLangs": [
    "*"
   ],
   "hotkey": "alt-t",
   "langInMainMenu": true,
   "sourceLang": "en",
   "targetLang": "fr",
   "useGoogleTranslate": true
  },
  "toc": {
   "base_numbering": 1,
   "nav_menu": {},
   "number_sections": true,
   "sideBar": true,
   "skip_h1_title": false,
   "title_cell": "Table of Contents",
   "title_sidebar": "Contents",
   "toc_cell": false,
   "toc_position": {},
   "toc_section_display": true,
   "toc_window_display": false
  },
  "varInspector": {
   "cols": {
    "lenName": 16,
    "lenType": 16,
    "lenVar": 40
   },
   "kernels_config": {
    "python": {
     "delete_cmd_postfix": "",
     "delete_cmd_prefix": "del ",
     "library": "var_list.py",
     "varRefreshCmd": "print(var_dic_list())"
    },
    "r": {
     "delete_cmd_postfix": ") ",
     "delete_cmd_prefix": "rm(",
     "library": "var_list.r",
     "varRefreshCmd": "cat(var_dic_list()) "
    }
   },
   "types_to_exclude": [
    "module",
    "function",
    "builtin_function_or_method",
    "instance",
    "_Feature"
   ],
   "window_display": false
  }
 },
 "nbformat": 4,
 "nbformat_minor": 5
}
