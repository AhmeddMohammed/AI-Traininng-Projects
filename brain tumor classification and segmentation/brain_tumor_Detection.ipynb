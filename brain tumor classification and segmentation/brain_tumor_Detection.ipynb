{
 "cells": [
  {
   "cell_type": "markdown",
   "id": "54560ab9",
   "metadata": {},
   "source": [
    "# Download the datasets"
   ]
  },
  {
   "cell_type": "markdown",
   "id": "90ee4481",
   "metadata": {},
   "source": [
    "https://www.kaggle.com/datasets/navoneel/brain-mri-images-for-brain-tumor-detection"
   ]
  },
  {
   "cell_type": "code",
   "execution_count": 293,
   "id": "9f7a5e58",
   "metadata": {
    "ExecuteTime": {
     "end_time": "2022-10-25T07:03:41.774914Z",
     "start_time": "2022-10-25T07:03:41.765908Z"
    }
   },
   "outputs": [],
   "source": [
    "from keras.models import Sequential\n",
    "from keras.layers import Convolution2D\n",
    "from keras.layers import MaxPooling2D\n",
    "from keras.layers import Flatten\n",
    "from keras.layers import Dense\n",
    "import warnings\n",
    "warnings.filterwarnings(\"ignore\")\n",
    "from PIL import Image\n",
    "import matplotlib.pyplot as plt\n",
    "from IPython import display\n",
    "import numpy as np\n",
    "from keras_preprocessing import image\n",
    "from keras.callbacks import EarlyStopping"
   ]
  },
  {
   "cell_type": "code",
   "execution_count": 294,
   "id": "35edad76",
   "metadata": {
    "ExecuteTime": {
     "end_time": "2022-10-25T07:03:42.979222Z",
     "start_time": "2022-10-25T07:03:42.958293Z"
    }
   },
   "outputs": [],
   "source": [
    "#Initialising the CNN\n",
    "classifier = Sequential()"
   ]
  },
  {
   "cell_type": "code",
   "execution_count": 295,
   "id": "4c4d7560",
   "metadata": {
    "ExecuteTime": {
     "end_time": "2022-10-25T07:03:44.723256Z",
     "start_time": "2022-10-25T07:03:44.708296Z"
    }
   },
   "outputs": [],
   "source": [
    "# Step1 - Convolution\n",
    "# Input Layer/dimensions\n",
    "# 64 is number of output filters in the convolution\n",
    "# 3,3 is filter matrix that will multiply to input_shape=(64,64,3)\n",
    "# 64,64 is image size we provide\n",
    "# 3 is rgb\n",
    "classifier.add(Convolution2D(64,3,3, input_shape=(64,64,3), activation='relu'))"
   ]
  },
  {
   "cell_type": "code",
   "execution_count": 296,
   "id": "5c65bcb1",
   "metadata": {
    "ExecuteTime": {
     "end_time": "2022-10-25T07:03:47.438313Z",
     "start_time": "2022-10-25T07:03:47.406392Z"
    }
   },
   "outputs": [],
   "source": [
    "# Step2 - Pooling\n",
    "#Processing\n",
    "# Hidden Layer 1\n",
    "# 2,2 matrix rotates, tilts, etc to all the images\n",
    "classifier.add(MaxPooling2D(pool_size=(2,2)))\n",
    "\n",
    "# Adding a second convolution layer\n",
    "# Hidden Layer 2\n",
    "# relu turns negative images to 0\n",
    "classifier.add(Convolution2D(64,3,3, activation='relu'))\n",
    "classifier.add(MaxPooling2D(pool_size=(2,2)))"
   ]
  },
  {
   "cell_type": "code",
   "execution_count": 297,
   "id": "91612713",
   "metadata": {
    "ExecuteTime": {
     "end_time": "2022-10-25T07:03:48.939680Z",
     "start_time": "2022-10-25T07:03:48.918474Z"
    }
   },
   "outputs": [],
   "source": [
    "# step3 - Flattening\n",
    "# converts the matrix in a singe array\n",
    "classifier.add(Flatten())"
   ]
  },
  {
   "cell_type": "code",
   "execution_count": 298,
   "id": "1961a753",
   "metadata": {
    "ExecuteTime": {
     "end_time": "2022-10-25T07:03:51.165703Z",
     "start_time": "2022-10-25T07:03:51.140235Z"
    }
   },
   "outputs": [],
   "source": [
    "# Step4 - Full COnnection\n",
    "# 128 is the final layer of outputs & from that 1 will be considered ie dog or cat\n",
    "classifier.add(Dense(units=128, activation='relu'))\n",
    "classifier.add(Dense(units=1, activation='sigmoid'))\n",
    "# sigmoid helps in 0 1 classification\n",
    "\n",
    "# Compiling the CNN\n",
    "classifier.compile(optimizer ='adam', loss='binary_crossentropy', metrics=['accuracy'])"
   ]
  },
  {
   "cell_type": "code",
   "execution_count": 299,
   "id": "43ab00b6",
   "metadata": {
    "ExecuteTime": {
     "end_time": "2022-10-25T07:03:53.237156Z",
     "start_time": "2022-10-25T07:03:53.220685Z"
    }
   },
   "outputs": [],
   "source": [
    "# Deffining the Training and Testing Datasets\n",
    "from keras.preprocessing.image import ImageDataGenerator\n",
    "train_datagen = ImageDataGenerator(rescale=1./255,\n",
    "                                    shear_range=0.2,\n",
    "                                    zoom_range=0.2,\n",
    "                                    horizontal_flip=True)"
   ]
  },
  {
   "cell_type": "code",
   "execution_count": 300,
   "id": "711482ef",
   "metadata": {
    "ExecuteTime": {
     "end_time": "2022-10-25T07:03:54.716788Z",
     "start_time": "2022-10-25T07:03:54.709769Z"
    }
   },
   "outputs": [],
   "source": [
    "test_datagen = ImageDataGenerator(rescale=1./255)"
   ]
  },
  {
   "cell_type": "code",
   "execution_count": 301,
   "id": "899a6768",
   "metadata": {
    "ExecuteTime": {
     "end_time": "2022-10-25T07:03:55.975387Z",
     "start_time": "2022-10-25T07:03:55.945943Z"
    }
   },
   "outputs": [
    {
     "name": "stdout",
     "output_type": "stream",
     "text": [
      "Found 191 images belonging to 2 classes.\n"
     ]
    }
   ],
   "source": [
    "training_set = train_datagen.flow_from_directory(\n",
    "        'brain_tumor_dataset2/training_set',\n",
    "        target_size=(64, 64),\n",
    "        batch_size=5,\n",
    "        class_mode='binary')"
   ]
  },
  {
   "cell_type": "code",
   "execution_count": 302,
   "id": "287655ba",
   "metadata": {
    "ExecuteTime": {
     "end_time": "2022-10-25T07:03:57.519419Z",
     "start_time": "2022-10-25T07:03:57.494444Z"
    }
   },
   "outputs": [
    {
     "name": "stdout",
     "output_type": "stream",
     "text": [
      "Found 60 images belonging to 2 classes.\n"
     ]
    }
   ],
   "source": [
    "test_set = test_datagen.flow_from_directory(\n",
    "        'brain_tumor_dataset2/testing_set',\n",
    "        target_size=(64, 64),\n",
    "        batch_size=10,\n",
    "        class_mode='binary')"
   ]
  },
  {
   "cell_type": "code",
   "execution_count": 307,
   "id": "694f5512",
   "metadata": {
    "ExecuteTime": {
     "end_time": "2022-10-25T07:04:37.898038Z",
     "start_time": "2022-10-25T07:04:24.966648Z"
    }
   },
   "outputs": [
    {
     "name": "stdout",
     "output_type": "stream",
     "text": [
      "Epoch 1/50\n",
      "5/5 [==============================] - 0s 68ms/step - loss: 0.4861 - accuracy: 0.7200 - val_loss: 0.6466 - val_accuracy: 0.6600\n",
      "Epoch 2/50\n",
      "5/5 [==============================] - 0s 47ms/step - loss: 0.5870 - accuracy: 0.7600 - val_loss: 0.5714 - val_accuracy: 0.7000\n",
      "Epoch 3/50\n",
      "5/5 [==============================] - 0s 48ms/step - loss: 0.4031 - accuracy: 0.8800 - val_loss: 0.6608 - val_accuracy: 0.6400\n",
      "Epoch 4/50\n",
      "5/5 [==============================] - 0s 49ms/step - loss: 0.4674 - accuracy: 0.8400 - val_loss: 0.6961 - val_accuracy: 0.5800\n",
      "Epoch 5/50\n",
      "5/5 [==============================] - 0s 46ms/step - loss: 0.7728 - accuracy: 0.5714 - val_loss: 0.7449 - val_accuracy: 0.6200\n",
      "Epoch 6/50\n",
      "5/5 [==============================] - 0s 56ms/step - loss: 0.4799 - accuracy: 0.7600 - val_loss: 0.6167 - val_accuracy: 0.7000\n",
      "Epoch 7/50\n",
      "5/5 [==============================] - 0s 50ms/step - loss: 0.3704 - accuracy: 0.9200 - val_loss: 0.6854 - val_accuracy: 0.5800\n",
      "Epoch 8/50\n",
      "5/5 [==============================] - 0s 56ms/step - loss: 0.3608 - accuracy: 0.8800 - val_loss: 0.7320 - val_accuracy: 0.6800\n",
      "Epoch 9/50\n",
      "5/5 [==============================] - 0s 53ms/step - loss: 0.5107 - accuracy: 0.8000 - val_loss: 0.7588 - val_accuracy: 0.6200\n",
      "Epoch 10/50\n",
      "5/5 [==============================] - 0s 56ms/step - loss: 0.5102 - accuracy: 0.7600 - val_loss: 0.6924 - val_accuracy: 0.7000\n",
      "Epoch 11/50\n",
      "5/5 [==============================] - 0s 50ms/step - loss: 0.5246 - accuracy: 0.7600 - val_loss: 0.6214 - val_accuracy: 0.7000\n",
      "Epoch 12/50\n",
      "5/5 [==============================] - 0s 52ms/step - loss: 0.5016 - accuracy: 0.7600 - val_loss: 0.5579 - val_accuracy: 0.7200\n",
      "Epoch 13/50\n",
      "5/5 [==============================] - 0s 48ms/step - loss: 0.5169 - accuracy: 0.7600 - val_loss: 0.6990 - val_accuracy: 0.6400\n",
      "Epoch 14/50\n",
      "5/5 [==============================] - 0s 51ms/step - loss: 0.4321 - accuracy: 0.7619 - val_loss: 0.6651 - val_accuracy: 0.6800\n",
      "Epoch 15/50\n",
      "5/5 [==============================] - 0s 47ms/step - loss: 0.5649 - accuracy: 0.6800 - val_loss: 0.6757 - val_accuracy: 0.6400\n",
      "Epoch 16/50\n",
      "5/5 [==============================] - 0s 46ms/step - loss: 0.3973 - accuracy: 0.9200 - val_loss: 0.6102 - val_accuracy: 0.6600\n",
      "Epoch 17/50\n",
      "5/5 [==============================] - 0s 52ms/step - loss: 0.3750 - accuracy: 0.8400 - val_loss: 0.6899 - val_accuracy: 0.6800\n",
      "Epoch 18/50\n",
      "5/5 [==============================] - 0s 51ms/step - loss: 0.4362 - accuracy: 0.8095 - val_loss: 0.9352 - val_accuracy: 0.6000\n",
      "Epoch 19/50\n",
      "5/5 [==============================] - 0s 52ms/step - loss: 0.5781 - accuracy: 0.8000 - val_loss: 0.7593 - val_accuracy: 0.6800\n",
      "Epoch 20/50\n",
      "5/5 [==============================] - 0s 56ms/step - loss: 0.4455 - accuracy: 0.8000 - val_loss: 0.7256 - val_accuracy: 0.6800\n",
      "Epoch 21/50\n",
      "5/5 [==============================] - 0s 61ms/step - loss: 0.5536 - accuracy: 0.6800 - val_loss: 0.6208 - val_accuracy: 0.7000\n",
      "Epoch 22/50\n",
      "4/5 [=======================>......] - ETA: 0s - loss: 0.3973 - accuracy: 0.80"
     ]
    },
    {
     "data": {
      "text/html": [
       "<b>limit_output extension: Maximum message size of 10000 exceeded with 10177 characters</b>"
      ]
     },
     "metadata": {},
     "output_type": "display_data"
    }
   ],
   "source": [
    "# steps_per_epoch it will transfer that many images at 1 time\n",
    "# & epochs means 'steps_per_epoch' will repeat that many times\n",
    " \n",
    "history=classifier.fit_generator(\n",
    "    training_set,\n",
    "    steps_per_epoch=5,\n",
    "    epochs=50,\n",
    "    validation_data=test_set,\n",
    "    validation_steps=5\n",
    "    #callbacks=[es]\n",
    ")\n",
    "\n",
    "score = classifier.evaluate(training_set)"
   ]
  },
  {
   "cell_type": "code",
   "execution_count": 308,
   "id": "06c9b621",
   "metadata": {
    "ExecuteTime": {
     "end_time": "2022-10-25T07:04:39.797550Z",
     "start_time": "2022-10-25T07:04:39.779598Z"
    }
   },
   "outputs": [
    {
     "name": "stdout",
     "output_type": "stream",
     "text": [
      "Test accuracy: 81.15183115005493 %\n"
     ]
    }
   ],
   "source": [
    "print('Test accuracy:', score[1]*100, '%')"
   ]
  },
  {
   "cell_type": "code",
   "execution_count": 309,
   "id": "02c3fa4c",
   "metadata": {
    "ExecuteTime": {
     "end_time": "2022-10-25T07:04:44.549280Z",
     "start_time": "2022-10-25T07:04:44.469211Z"
    }
   },
   "outputs": [
    {
     "name": "stdout",
     "output_type": "stream",
     "text": [
      "1/1 [==============================] - 0s 24ms/step\n",
      "The prediction result is : Yes\n"
     ]
    }
   ],
   "source": [
    "test_image = image.load_img('brain_tumor_dataset2/single_prediction/Y32.jpg', target_size = (64, 64))\n",
    "test_image = image.img_to_array(test_image)\n",
    "test_image = np.expand_dims(test_image, axis = 0)\n",
    "result = classifier.predict(test_image)\n",
    "training_set.class_indices\n",
    "if result[0][0] == 0:\n",
    "    prediction = 'No'\n",
    "else:\n",
    "    prediction = 'Yes'\n",
    "    \n",
    "print('The prediction result is :',prediction)"
   ]
  },
  {
   "cell_type": "code",
   "execution_count": 310,
   "id": "a8a4265b",
   "metadata": {
    "ExecuteTime": {
     "end_time": "2022-10-25T07:04:46.111715Z",
     "start_time": "2022-10-25T07:04:46.052850Z"
    }
   },
   "outputs": [
    {
     "name": "stdout",
     "output_type": "stream",
     "text": [
      "1/1 [==============================] - 0s 20ms/step\n",
      "The prediction result is : No\n"
     ]
    }
   ],
   "source": [
    "test_image = image.load_img('brain_tumor_dataset2/single_prediction/32 no.jpg', target_size = (64, 64))\n",
    "test_image = image.img_to_array(test_image)\n",
    "test_image = np.expand_dims(test_image, axis = 0)\n",
    "result = classifier.predict(test_image)\n",
    "training_set.class_indices\n",
    "if result[0][0] == 0:\n",
    "    prediction = 'No'\n",
    "else:\n",
    "    prediction = 'Yes'\n",
    "    \n",
    "print('The prediction result is :',prediction)"
   ]
  },
  {
   "cell_type": "code",
   "execution_count": 311,
   "id": "273c6207",
   "metadata": {
    "ExecuteTime": {
     "end_time": "2022-10-25T07:04:48.906880Z",
     "start_time": "2022-10-25T07:04:48.295060Z"
    }
   },
   "outputs": [
    {
     "data": {
      "image/png": "[encoded data removed]",
      "text/plain": [
       "<Figure size 1080x360 with 2 Axes>"
      ]
     },
     "metadata": {
      "needs_background": "light"
     },
     "output_type": "display_data"
    }
   ],
   "source": [
    "# plot model performance\n",
    "acc = history.history['accuracy']\n",
    "val_acc = history.history['val_accuracy']\n",
    "loss = history.history['loss']\n",
    "val_loss = history.history['val_loss']\n",
    "epochs_range = range(1, len(history.epoch) + 1)\n",
    "\n",
    "plt.figure(figsize=(15,5))\n",
    "\n",
    "plt.subplot(1, 2, 1)\n",
    "plt.plot(epochs_range, acc, label='Train Set')\n",
    "plt.plot(epochs_range, val_acc, label='Val Set')\n",
    "plt.legend(loc=\"best\")\n",
    "plt.xlabel('Epochs')\n",
    "plt.ylabel('Accuracy')\n",
    "plt.title('Model Accuracy')\n",
    "\n",
    "\n",
    "plt.subplot(1, 2, 2)\n",
    "plt.plot(epochs_range, loss, label='Train Set')\n",
    "plt.plot(epochs_range, val_loss, label='Val Set')\n",
    "plt.legend(loc=\"best\")\n",
    "plt.xlabel('Epochs')\n",
    "plt.ylabel('Loss')\n",
    "plt.title('Model Loss')\n",
    "\n",
    "plt.tight_layout()\n",
    "plt.show()"
   ]
  },
  {
   "cell_type": "code",
   "execution_count": null,
   "id": "ce4f3764",
   "metadata": {},
   "outputs": [],
   "source": []
  }
 ],
 "metadata": {
  "hide_input": false,
  "kernelspec": {
   "display_name": "Python 3 (ipykernel)",
   "language": "python",
   "name": "python3"
  },
  "language_info": {
   "codemirror_mode": {
    "name": "ipython",
    "version": 3
   },
   "file_extension": ".py",
   "mimetype": "text/x-python",
   "name": "python",
   "nbconvert_exporter": "python",
   "pygments_lexer": "ipython3",
   "version": "3.9.7"
  },
  "latex_envs": {
   "LaTeX_envs_menu_present": true,
   "autoclose": false,
   "autocomplete": true,
   "bibliofile": "biblio.bib",
   "cite_by": "apalike",
   "current_citInitial": 1,
   "eqLabelWithNumbers": true,
   "eqNumInitial": 1,
   "hotkeys": {
    "equation": "Ctrl-E",
    "itemize": "Ctrl-I"
   },
   "labels_anchors": false,
   "latex_user_defs": false,
   "report_style_numbering": false,
   "user_envs_cfg": false
  },
  "nbTranslate": {
   "displayLangs": [
    "*"
   ],
   "hotkey": "alt-t",
   "langInMainMenu": true,
   "sourceLang": "en",
   "targetLang": "fr",
   "useGoogleTranslate": true
  },
  "toc": {
   "base_numbering": 1,
   "nav_menu": {},
   "number_sections": true,
   "sideBar": true,
   "skip_h1_title": false,
   "title_cell": "Table of Contents",
   "title_sidebar": "Contents",
   "toc_cell": false,
   "toc_position": {},
   "toc_section_display": true,
   "toc_window_display": false
  },
  "varInspector": {
   "cols": {
    "lenName": 16,
    "lenType": 16,
    "lenVar": 40
   },
   "kernels_config": {
    "python": {
     "delete_cmd_postfix": "",
     "delete_cmd_prefix": "del ",
     "library": "var_list.py",
     "varRefreshCmd": "print(var_dic_list())"
    },
    "r": {
     "delete_cmd_postfix": ") ",
     "delete_cmd_prefix": "rm(",
     "library": "var_list.r",
     "varRefreshCmd": "cat(var_dic_list()) "
    }
   },
   "types_to_exclude": [
    "module",
    "function",
    "builtin_function_or_method",
    "instance",
    "_Feature"
   ],
   "window_display": false
  }
 },
 "nbformat": 4,
 "nbformat_minor": 5
}
